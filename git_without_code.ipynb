{
 "cells": [
  {
   "cell_type": "markdown",
   "metadata": {
    "slideshow": {
     "slide_type": "slide"
    }
   },
   "source": [
    "# <center><div style=\"padding: 1vmin\">Version control with<img src=\"img/git_logo.png\" alt=\"\" height=\"\" width=\"400vmin\" style=\"padding: 4vmin 0 4vmin 0\"></div></center>\n",
    "### Marie-Hélène Burle\n",
    "#### training@westgrid.ca\n",
    "#### *September 11, 2020*"
   ]
  },
  {
   "cell_type": "markdown",
   "metadata": {
    "cell_style": "split",
    "slideshow": {
     "slide_type": "subslide"
    }
   },
   "source": [
    "<br><br>\n",
    "\n",
    "- Why version control?\n",
    "- Git\n",
    "- Configuration\n",
    "- Documentation\n",
    "- Troubleshooting & getting help\n",
    "- Recording history\n",
    "\n",
    "&emsp;&emsp;&ensp;*Break*\n",
    "- Working with branches"
   ]
  },
  {
   "cell_type": "markdown",
   "metadata": {
    "cell_style": "split",
    "slideshow": {
     "slide_type": "-"
    }
   },
   "source": [
    "<br><br>\n",
    "\n",
    "&emsp;&emsp;&ensp;*Lunch Break*\n",
    "- Exploring the past\n",
    "- Undoing\n",
    "\n",
    "&emsp;&emsp;&ensp;*Break*\n",
    "- Remotes\n",
    "- Collaborating"
   ]
  },
  {
   "cell_type": "markdown",
   "metadata": {
    "cell_style": "split",
    "slideshow": {
     "slide_type": "slide"
    }
   },
   "source": [
    "<br><br><br><br><br><br>  \n",
    "## Why version control?"
   ]
  },
  {
   "cell_type": "markdown",
   "metadata": {
    "cell_style": "split",
    "slideshow": {
     "slide_type": "-"
    }
   },
   "source": [
    "<br>\n",
    "<figure style=\"display: table; margin: 0 auto\">\n",
    "  <center>\n",
    "    <img src=\"img/vc_nw.png\" title=\"\" width=\"850vmin\" style=\"padding: 4vmin 0 0 0\">\n",
    "  </center>\n",
    "  <div align=\"right\" style=\"color: #978282; line-height: 0; font-size: 2vmin\">\n",
    "    <em>\n",
    "      from <a href=\"http://geek-and-poke.com/\">Geek&Poke</a>\n",
    "    </em>\n",
    "  </div>\n",
    "</figure>"
   ]
  },
  {
   "cell_type": "markdown",
   "metadata": {
    "cell_style": "center",
    "slideshow": {
     "slide_type": "subslide"
    }
   },
   "source": [
    "<span class=\"header\">Why version control?</span>\n",
    "<br>\n",
    "\n",
    "### A sophisticated form of backup"
   ]
  },
  {
   "cell_type": "markdown",
   "metadata": {
    "cell_style": "split",
    "slideshow": {
     "slide_type": "-"
    }
   },
   "source": [
    "<br><br>\n",
    "\n",
    "> There are two kinds of people: those who do their backups well and those who will."
   ]
  },
  {
   "cell_type": "markdown",
   "metadata": {
    "cell_style": "split",
    "slideshow": {
     "slide_type": "-"
    }
   },
   "source": [
    "<br>\n",
    "<figure style=\"display: table; margin: 0 auto\">\n",
    "  <center>\n",
    "    <img src=\"img/vc-xkcd.jpg\" title=\"\" width=\"1300vmin\" style=\"padding: 2vmin 0 0 0\">\n",
    "  </center>\n",
    "  <div align=\"right\" style=\"color: #978282; line-height: 0; font-size: 2vmin\">\n",
    "    <em>\n",
    "      from <a href=\"https://smutch.github.io/VersionControlTutorial/\">smutch</a>\n",
    "    </em>\n",
    "  </div>\n",
    "</figure>"
   ]
  },
  {
   "cell_type": "markdown",
   "metadata": {
    "cell_style": "split",
    "slideshow": {
     "slide_type": "subslide"
    }
   },
   "source": [
    "<span class=\"header\">Why version control?</span>\n",
    "<br>\n",
    "\n",
    "<br><br><br><br><br>\n",
    "### But much more"
   ]
  },
  {
   "cell_type": "markdown",
   "metadata": {
    "cell_style": "split",
    "slideshow": {
     "slide_type": "-"
    }
   },
   "source": [
    "<br>\n",
    "<center>\n",
    "  <div style=\"padding: 5.5vmin 0 0 0\">\n",
    "    <img style=\"box-shadow: 0px 0px 6px rgba(0,0,0,0.3)\" src=\"https://phdcomics.com/comics/archive/phd101212s.gif\" title=\"\" width=\"550vmin\">\n",
    "  </div>\n",
    "</center>"
   ]
  },
  {
   "cell_type": "markdown",
   "metadata": {
    "cell_style": "center",
    "slideshow": {
     "slide_type": "slide"
    }
   },
   "source": [
    "<br>\n",
    "\n",
    "## <div style=\"padding: 7vmin 0 0 0\">Git</div>\n",
    "<br>\n",
    "\n",
    "<figure style=\"display: table; margin: 0 auto; padding: 8vmin 0 0 0\">\n",
    "  <center>\n",
    "    <img src=\"img/legend_nw.png\" title=\"\" width=\"800vmin\">\n",
    "    <img src=\"img/git_nw.png\" title=\"\" width=\"1300vmin\">\n",
    "  </center>\n",
    "  <div align=\"right\" style=\"color: #978282; line-height: 0; font-size: 2vmin\">\n",
    "    <em>\n",
    "      from <a href=\"https://trends.google.com/trends/\">Google Trends</a>\n",
    "    </em>\n",
    "  </div>\n",
    "</figure>"
   ]
  },
  {
   "cell_type": "markdown",
   "metadata": {
    "slideshow": {
     "slide_type": "subslide"
    }
   },
   "source": [
    "<span class=\"header\">Git</span>\n",
    "<br>\n",
    "\n",
    "Git is an open source distributed version control system (DVCS) created in 2005 by Linus Torvalds for the versioning of the Linux kernel during its development.\n",
    "<br><br><br>\n",
    "In distributed version control systems, the full history of projects lives on everybody's machine—as opposed to being only stored on a central server as was the case with centralized version control systems CVCS. This allows offline work, huge speedups, easy branching, and multiple backups. DVCS have taken over CVCS.\n",
    "<br><br><br>\n",
    "Git is extremely powerful and has strong branching capabilities. Since the early 2010s, it has become the most popular DVCS, increasingly rendering other systems quite marginal.\n"
   ]
  },
  {
   "cell_type": "markdown",
   "metadata": {
    "slideshow": {
     "slide_type": "subslide"
    }
   },
   "source": [
    "<span class=\"header\">Git</span>\n",
    "<br>\n",
    "All commands start with `git`.\n",
    "<br><br>\n",
    "A typical command is of the form:\n",
    "<br>\n",
    "```sh\n",
    "git <command> [flags] [arguments]\n",
    "```"
   ]
  },
  {
   "cell_type": "markdown",
   "metadata": {
    "slideshow": {
     "slide_type": "fragment"
    }
   },
   "source": [
    "*Example:*\n",
    "\n",
    "We already saw the following:\n",
    "\n",
    "```sh\n",
    "git config --global \"Your Name\"\n",
    "```"
   ]
  },
  {
   "cell_type": "markdown",
   "metadata": {
    "slideshow": {
     "slide_type": "slide"
    }
   },
   "source": [
    "## Configuration"
   ]
  },
  {
   "cell_type": "markdown",
   "metadata": {
    "slideshow": {
     "slide_type": "subslide"
    }
   },
   "source": [
    "<span class=\"header\">Configuration</span>\n",
    "\n",
    "### Global configuration\n",
    "<br>\n",
    "\n",
    "From anywhere, with the `--global` flag.\n",
    "<br><br>\n",
    "There are a number of configurations necessary to set before starting to use Git."
   ]
  },
  {
   "cell_type": "markdown",
   "metadata": {
    "slideshow": {
     "slide_type": "subslide"
    }
   },
   "source": [
    "<span class=\"header\">Configuration</span>\n",
    "<br>\n",
    "\n",
    "### Global configuration\n",
    "<br>\n",
    "\n",
    "Set the name and email address that will appear as signature of your commits:\n",
    "<br><br>\n",
    "```sh\n",
    "git config --global user.name \"Your Name\"\n",
    "git config --global user.email \"your@email\"\n",
    "```"
   ]
  },
  {
   "cell_type": "markdown",
   "metadata": {
    "slideshow": {
     "slide_type": "subslide"
    }
   },
   "source": [
    "<span class=\"header\">Configuration</span>\n",
    "<br>\n",
    "\n",
    "### Global configuration\n",
    "<br>\n",
    "\n",
    "Set the text editor you want to use with Git:\n",
    "<br><br>\n",
    "```sh\n",
    "git config --global core.editor \"editor\"  # e.g. \"nano\", \"vim\", \"emacs\"\n",
    "```"
   ]
  },
  {
   "cell_type": "markdown",
   "metadata": {
    "slideshow": {
     "slide_type": "subslide"
    }
   },
   "source": [
    "<span class=\"header\">Configuration</span>\n",
    "<br>\n",
    "\n",
    "### Global configuration\n",
    "<br>\n",
    "\n",
    "Format line endings properly:\n",
    "<br><br>\n",
    "```sh\n",
    "git config --global core.autocrlf input   # if you are on macOS or Linux\n",
    "git config --global core.autocrlf true    # if you are on Windows\n",
    "```"
   ]
  },
  {
   "cell_type": "markdown",
   "metadata": {
    "slideshow": {
     "slide_type": "subslide"
    }
   },
   "source": [
    "<span class=\"header\">Configuration</span>\n",
    "<br><br>\n",
    "\n",
    "### Global configuration\n",
    "<br>\n",
    "\n",
    "To see your current configuration:\n",
    "<br><br>\n",
    "```sh\n",
    "git config --list\n",
    "```"
   ]
  },
  {
   "cell_type": "markdown",
   "metadata": {
    "slideshow": {
     "slide_type": "fragment"
    }
   },
   "source": [
    "*Example:*"
   ]
  },
  {
   "cell_type": "code",
   "execution_count": null,
   "metadata": {},
   "outputs": [],
   "source": []
  },
  {
   "cell_type": "markdown",
   "metadata": {},
   "source": [
    "<br><br><br><br><br><br><br><br>"
   ]
  },
  {
   "cell_type": "markdown",
   "metadata": {
    "slideshow": {
     "slide_type": "subslide"
    }
   },
   "source": [
    "<span class=\"header\">Configuration</span>\n",
    "<br>\n",
    "\n",
    "### Project-specific configuration\n",
    "<br>\n",
    "\n",
    "You can set configurations specific to a single repository (e.g. maybe you want to use a different email address for a certain project).\n",
    "\n",
    "In that case, **make sure that you are in the repository you want to customize** and run the command without the `--global` flag.\n",
    "\n",
    "*Example:*\n",
    "\n",
    "```sh\n",
    "cd /path/to/project\n",
    "git config user.email \"your_other@email\"\n",
    "```"
   ]
  },
  {
   "cell_type": "markdown",
   "metadata": {
    "slideshow": {
     "slide_type": "slide"
    }
   },
   "source": [
    "## Documentation"
   ]
  },
  {
   "cell_type": "markdown",
   "metadata": {
    "slideshow": {
     "slide_type": "subslide"
    }
   },
   "source": [
    "<span class=\"header\">Documentation</span>\n",
    "<br>\n",
    "\n",
    "### Man pages\n",
    "<br>\n",
    "\n",
    "You can access the **man page** for a git command with either of:\n",
    "```bash\n",
    "git <command> --help\n",
    "git help <command>\n",
    "man git-<command>\n",
    "```\n",
    "<br>\n",
    "\n",
    "*Note:  \n",
    "Throughout this workshop, I will be using `<` and `>` to indicate that an expression needs to be replaced by the appropriate expression (without those signs).*"
   ]
  },
  {
   "cell_type": "markdown",
   "metadata": {
    "cell_style": "center",
    "slideshow": {
     "slide_type": "subslide"
    }
   },
   "source": [
    "<span class=\"header\">Documentation</span>\n",
    "<br>\n",
    "\n",
    "### Man pages\n",
    "<br>\n",
    "\n",
    "*Example:*"
   ]
  },
  {
   "cell_type": "code",
   "execution_count": null,
   "metadata": {},
   "outputs": [],
   "source": []
  },
  {
   "cell_type": "markdown",
   "metadata": {},
   "source": [
    "<br><br><br><br><br><br><br><br><br><br><br>"
   ]
  },
  {
   "cell_type": "markdown",
   "metadata": {
    "slideshow": {
     "slide_type": "subslide"
    }
   },
   "source": [
    "<span class=\"header\">Documentation</span>\n",
    "\n",
    "### Command options\n",
    "<br>\n",
    "\n",
    "To get a list of the **options** for a command, run:<br><br>\n",
    "```bash\n",
    "git <command> -h\n",
    "```"
   ]
  },
  {
   "cell_type": "markdown",
   "metadata": {
    "cell_style": "center",
    "slideshow": {
     "slide_type": "subslide"
    }
   },
   "source": [
    "<span class=\"header\">Documentation</span>\n",
    "<br>\n",
    "\n",
    "### Command options\n",
    "\n",
    "*Example:*"
   ]
  },
  {
   "cell_type": "code",
   "execution_count": null,
   "metadata": {},
   "outputs": [],
   "source": []
  },
  {
   "cell_type": "markdown",
   "metadata": {},
   "source": [
    "<br><br><br><br><br><br><br><br>"
   ]
  },
  {
   "cell_type": "markdown",
   "metadata": {
    "slideshow": {
     "slide_type": "subslide"
    }
   },
   "source": [
    "<span class=\"header\">Documentation</span>\n",
    "<br><br>\n",
    "\n",
    "### Resources\n",
    "<br>\n",
    "\n",
    "<a href=\"https://git-scm.com/docs\">Official Git manual</a><br>\n",
    "<a href=\"https://git-scm.com/book/en/v2\">Git book</a><br>\n",
    "<a href=\"http://swcarpentry.github.io/git-novice/\">Git Software Carpentry lesson</a><br>\n",
    "<a href=\"https://www.atlassian.com/git/tutorials/setting-up-a-repository\">Git tutorial by Atlassian</a><br>\n",
    "[WestGrid Summer School 2020 Git course](https://wgschool.netlify.app/git/)<br>\n",
    "[WestGrid workshop \"Collaborating through GitHub\"](https://westgrid-cli.netlify.app/workshops/github-colab/)<br>\n",
    "[WestGrid workshop \"Contributing to GitHub projects\"](https://westgrid-cli.netlify.app/workshops/github-contrib/)"
   ]
  },
  {
   "cell_type": "markdown",
   "metadata": {
    "cell_style": "split",
    "slideshow": {
     "slide_type": "slide"
    }
   },
   "source": [
    "<br><br><br><br><br><br>  \n",
    "## Troubleshooting Getting help"
   ]
  },
  {
   "cell_type": "markdown",
   "metadata": {
    "cell_style": "split",
    "slideshow": {
     "slide_type": "-"
    }
   },
   "source": [
    "<br>\n",
    "<figure style=\"display: table; margin: 0 auto; padding: 2vmin 0 0 0\">\n",
    "  <center>\n",
    "    <img src=\"https://imgs.xkcd.com/comics/git.png\" title=\"\" width=\"500vmin\" style=\"padding: 2vmin 0 0 0\">\n",
    "  </center>\n",
    "  <div align=\"right\" style=\"color: #978282; line-height: 0; font-size: 2vmin\">\n",
    "    <em>\n",
    "      from <a href=\"https://xkcd.com/\">xkcd.com</a>\n",
    "    </em>\n",
    "  </div>\n",
    "</figure>"
   ]
  },
  {
   "cell_type": "markdown",
   "metadata": {
    "slideshow": {
     "slide_type": "subslide"
    }
   },
   "source": [
    "<span class=\"header\">Troubleshooting & getting help</span>\n",
    "\n",
    "### <div style=\"padding: 8vmin 0 0 0\">\"Listen\" to Git!</div>\n",
    "<br>\n",
    "\n",
    "Git is extremely verbose: by default, it will return lots of information. Read it!\n",
    "\n",
    "These messages may feel overwhelming at first, but:\n",
    "- they will make more and more sense as you gain expertise\n",
    "- they often give you clues as to what the problem is\n",
    "- even if you don't understand them, you can use them as Google search terms"
   ]
  },
  {
   "cell_type": "markdown",
   "metadata": {
    "slideshow": {
     "slide_type": "subslide"
    }
   },
   "source": [
    "<span class=\"header\">Troubleshooting & getting help</span>\n",
    "\n",
    "### (Re-read) the doc\n",
    "<br>\n",
    "\n",
    "As I have no memory, I need to check the man pages all the time. That's ok! It is quick and easy.\n",
    "\n",
    "For more detailed information and examples, I really like the <a href=\"https://git-scm.com/docs\">Official Git manual.</a><br>"
   ]
  },
  {
   "cell_type": "markdown",
   "metadata": {
    "slideshow": {
     "slide_type": "subslide"
    }
   },
   "source": [
    "<span class=\"header\">Troubleshooting & getting help</span>\n",
    "\n",
    "### Search online\n",
    "<br>\n",
    "\n",
    "- Google\n",
    "- [WestGrid workshop: \"Collaborating through GitHub\"](https://westgrid-cli.netlify.app/workshops/github-colab/)  \n",
    "- [Stack Overflow [git] tag](https://stackoverflow.com/questions/tagged/git)"
   ]
  },
  {
   "cell_type": "markdown",
   "metadata": {
    "cell_style": "split",
    "slideshow": {
     "slide_type": "subslide"
    }
   },
   "source": [
    "<span class=\"header\">Troubleshooting & getting help</span>\n",
    "\n",
    "### <div style=\"padding: 2.5vmin\">Don't panic<br>Be analytical</div>\n",
    "\n",
    "It is easy to panic and feel lost if something doesn't work as expected.\n",
    "\n",
    "Take a breath and start with the basis:\n",
    "\n",
    "- make sure you are in the repo (`pwd`) and the files are where you think they are (`ls -a`)\n",
    "- inspect the repository (`git status`, `git diff`, `git log`). Make sure not to overlook what Git is \"telling\" you there\n",
    "\n",
    "Commit and push often to be safe."
   ]
  },
  {
   "cell_type": "markdown",
   "metadata": {
    "cell_style": "split",
    "slideshow": {
     "slide_type": "-"
    }
   },
   "source": [
    "<br><br><br>\n",
    "<figure style=\"display: table; margin: 0 auto\">\n",
    "  <center>\n",
    "    <img src=\"img/gitout.png\" title=\"\" width=\"400vmin\" style=\"padding: 2vmin 0 0 0\">\n",
    "  </center>\n",
    "  <div align=\"right\" style=\"color: #978282; line-height: 0; font-size: 2vmin\">\n",
    "    <em>\n",
    "      from <a href=\"https://www.redbubble.com/people/jscript/shop#profile\">jscript</a>\n",
    "    </em>\n",
    "  </div>\n",
    "</figure>"
   ]
  },
  {
   "cell_type": "markdown",
   "metadata": {
    "cell_style": "center",
    "slideshow": {
     "slide_type": "slide"
    }
   },
   "source": [
    "## Recording history"
   ]
  },
  {
   "cell_type": "markdown",
   "metadata": {
    "slideshow": {
     "slide_type": "subslide"
    }
   },
   "source": [
    "<span class=\"header\">Recording history</span>\n",
    "\n",
    "### <div style=\"padding: 9vmin 0 0 0\">Create the project root</div>\n",
    "\n",
    "1. Navigate to the location where you want to create your project.\n",
    "2. Create a new directory with the name of your project.  \n",
    "<font color=\"#e67300\">**Never use spaces in names and paths.**</font>"
   ]
  },
  {
   "cell_type": "code",
   "execution_count": 16,
   "metadata": {},
   "outputs": [
    {
     "name": "stdout",
     "output_type": "stream",
     "text": [
      "/home/marie/parvus/pwg/wtm/tjp\n"
     ]
    }
   ],
   "source": [
    "pwd"
   ]
  },
  {
   "cell_type": "code",
   "execution_count": 17,
   "metadata": {},
   "outputs": [],
   "source": [
    "cd ~/parvus/ptmp"
   ]
  },
  {
   "cell_type": "code",
   "execution_count": 18,
   "metadata": {},
   "outputs": [
    {
     "name": "stdout",
     "output_type": "stream",
     "text": [
      "/home/marie/parvus/ptmp\n"
     ]
    }
   ],
   "source": [
    "pwd"
   ]
  },
  {
   "cell_type": "code",
   "execution_count": 19,
   "metadata": {},
   "outputs": [],
   "source": [
    "mkdir ocean_temp"
   ]
  },
  {
   "cell_type": "code",
   "execution_count": 20,
   "metadata": {},
   "outputs": [
    {
     "name": "stdout",
     "output_type": "stream",
     "text": [
      "\u001b[0m\u001b[01;34mcollab\u001b[0m  \u001b[01;34mcontent\u001b[0m  \u001b[01;34mcorrupt_files\u001b[0m  \u001b[01;34mdl\u001b[0m  \u001b[01;34mocean_temp\u001b[0m  \u001b[01;34mredarc\u001b[0m  \u001b[01;34msort\u001b[0m\n"
     ]
    }
   ],
   "source": [
    "ls"
   ]
  },
  {
   "cell_type": "markdown",
   "metadata": {},
   "source": [
    "<br><br><br><br><br><br><br><br>"
   ]
  },
  {
   "cell_type": "markdown",
   "metadata": {
    "slideshow": {
     "slide_type": "subslide"
    }
   },
   "source": [
    "<span class=\"header\">Recording history</span>\n",
    "\n",
    "### <div style=\"padding: 9vmin 0 0 0\">Put the project under version control</div>\n",
    "<br>\n",
    "\n",
    "<font color=\"#e67300\">**Make sure to enter your new directory before initializing version control.**</font><br>\n",
    "A classic mistake leading to lots of confusion is to run `git init` outside the root of the project."
   ]
  },
  {
   "cell_type": "code",
   "execution_count": 21,
   "metadata": {},
   "outputs": [
    {
     "name": "stdout",
     "output_type": "stream",
     "text": [
      "/home/marie/parvus/ptmp\n"
     ]
    }
   ],
   "source": [
    "pwd"
   ]
  },
  {
   "cell_type": "code",
   "execution_count": 22,
   "metadata": {},
   "outputs": [],
   "source": [
    "cd ocean_temp"
   ]
  },
  {
   "cell_type": "code",
   "execution_count": 23,
   "metadata": {},
   "outputs": [
    {
     "name": "stdout",
     "output_type": "stream",
     "text": [
      "/home/marie/parvus/ptmp/ocean_temp\n"
     ]
    }
   ],
   "source": [
    "pwd"
   ]
  },
  {
   "cell_type": "code",
   "execution_count": 25,
   "metadata": {},
   "outputs": [
    {
     "name": "stdout",
     "output_type": "stream",
     "text": [
      "\u001b[0m\u001b[01;34m.\u001b[0m  \u001b[01;34m..\u001b[0m\n"
     ]
    }
   ],
   "source": [
    "ls -a"
   ]
  },
  {
   "cell_type": "code",
   "execution_count": 26,
   "metadata": {},
   "outputs": [
    {
     "name": "stdout",
     "output_type": "stream",
     "text": [
      "Initialized empty Git repository in /home/marie/parvus/ptmp/ocean_temp/.git/\n"
     ]
    }
   ],
   "source": [
    "git init"
   ]
  },
  {
   "cell_type": "code",
   "execution_count": 27,
   "metadata": {},
   "outputs": [
    {
     "name": "stdout",
     "output_type": "stream",
     "text": [
      "\u001b[0m\u001b[01;34m.\u001b[0m  \u001b[01;34m..\u001b[0m  \u001b[01;34m.git\u001b[0m\n"
     ]
    }
   ],
   "source": [
    "ls -a"
   ]
  },
  {
   "cell_type": "code",
   "execution_count": 28,
   "metadata": {},
   "outputs": [
    {
     "name": "stdout",
     "output_type": "stream",
     "text": [
      "On branch \u001b[1;33mmaster\u001b[m\n",
      "\n",
      "No commits yet\n",
      "\n",
      "nothing to commit (create/copy files and use \"git add\" to track)\n"
     ]
    }
   ],
   "source": [
    "git status"
   ]
  },
  {
   "cell_type": "code",
   "execution_count": 29,
   "metadata": {},
   "outputs": [
    {
     "name": "stdout",
     "output_type": "stream",
     "text": [
      "\u001b[0m\u001b[01;34m.\u001b[0m  \u001b[01;34m..\u001b[0m  \u001b[01;34m.git\u001b[0m\n"
     ]
    }
   ],
   "source": [
    "ls -a"
   ]
  },
  {
   "cell_type": "markdown",
   "metadata": {},
   "source": [
    "<br><br><br><br><br><br><br><br>"
   ]
  },
  {
   "cell_type": "markdown",
   "metadata": {
    "slideshow": {
     "slide_type": "subslide"
    }
   },
   "source": [
    "<span class=\"header\"><font color=\"#e66700\">**Under the hood**</font></span>\n",
    "<br><br>\n",
    "![](img/diagrams/01.png)"
   ]
  },
  {
   "cell_type": "markdown",
   "metadata": {
    "slideshow": {
     "slide_type": "subslide"
    }
   },
   "source": [
    "<span class=\"header\"><font color=\"#e66700\">**Under the hood**</font></span>\n",
    "<br><br>\n",
    "![](img/diagrams/02.png)"
   ]
  },
  {
   "cell_type": "markdown",
   "metadata": {
    "slideshow": {
     "slide_type": "subslide"
    }
   },
   "source": [
    "<span class=\"header\"><font color=\"#e66700\">**Under the hood**</font></span>\n",
    "<br><br>\n",
    "![](img/diagrams/03.png)"
   ]
  },
  {
   "cell_type": "markdown",
   "metadata": {
    "slideshow": {
     "slide_type": "subslide"
    }
   },
   "source": [
    "<span class=\"header\"><font color=\"#e66700\">**Under the hood**</font></span>\n",
    "<br><br>\n",
    "![](img/diagrams/04.png)"
   ]
  },
  {
   "cell_type": "markdown",
   "metadata": {
    "slideshow": {
     "slide_type": "subslide"
    }
   },
   "source": [
    "<span class=\"header\"><font color=\"#e66700\">**Under the hood**</font></span>\n",
    "<br><br>\n",
    "![](img/diagrams/05.png)"
   ]
  },
  {
   "cell_type": "markdown",
   "metadata": {
    "slideshow": {
     "slide_type": "subslide"
    }
   },
   "source": [
    "<span class=\"header\"><font color=\"#e66700\">**Under the hood**</font></span>\n",
    "<br><br>\n",
    "![](img/diagrams/06.png)"
   ]
  },
  {
   "cell_type": "markdown",
   "metadata": {
    "slideshow": {
     "slide_type": "subslide"
    }
   },
   "source": [
    "<span class=\"header\"><font color=\"#e66700\">**Under the hood**</font></span>\n",
    "<br><br>\n",
    "![](img/diagrams/07.png)"
   ]
  },
  {
   "cell_type": "markdown",
   "metadata": {
    "slideshow": {
     "slide_type": "subslide"
    }
   },
   "source": [
    "<span class=\"header\"><font color=\"#e66700\">**Under the hood**</font></span>\n",
    "<br><br>\n",
    "![](img/diagrams/05.png)"
   ]
  },
  {
   "cell_type": "markdown",
   "metadata": {
    "slideshow": {
     "slide_type": "subslide"
    }
   },
   "source": [
    "<span class=\"header\"><font color=\"#e66700\">**Under the hood**</font></span>\n",
    "<br><br>\n",
    "![](img/diagrams/09.png)"
   ]
  },
  {
   "cell_type": "markdown",
   "metadata": {
    "slideshow": {
     "slide_type": "subslide"
    }
   },
   "source": [
    "<span class=\"header\">Recording history</span>\n",
    "\n",
    "### <div style=\"padding: 9vmin 0 0 0\">Create a sensible project structure</div>"
   ]
  },
  {
   "cell_type": "code",
   "execution_count": 30,
   "metadata": {},
   "outputs": [],
   "source": [
    "mkdir src result ms data"
   ]
  },
  {
   "cell_type": "code",
   "execution_count": 31,
   "metadata": {},
   "outputs": [
    {
     "name": "stdout",
     "output_type": "stream",
     "text": [
      "\u001b[0m\u001b[01;34m.\u001b[0m  \u001b[01;34m..\u001b[0m  \u001b[01;34m.git\u001b[0m  \u001b[01;34mdata\u001b[0m  \u001b[01;34mms\u001b[0m  \u001b[01;34mresult\u001b[0m  \u001b[01;34msrc\u001b[0m\n"
     ]
    }
   ],
   "source": [
    "ls -a"
   ]
  },
  {
   "cell_type": "code",
   "execution_count": 32,
   "metadata": {},
   "outputs": [
    {
     "name": "stdout",
     "output_type": "stream",
     "text": [
      "\u001b[01;34m.\u001b[00m\n",
      "├── \u001b[01;34mdata\u001b[00m\n",
      "├── \u001b[01;34mms\u001b[00m\n",
      "├── \u001b[01;34mresult\u001b[00m\n",
      "└── \u001b[01;34msrc\u001b[00m\n",
      "\n",
      "4 directories, 0 files\n"
     ]
    }
   ],
   "source": [
    "tree"
   ]
  },
  {
   "cell_type": "code",
   "execution_count": 33,
   "metadata": {},
   "outputs": [
    {
     "name": "stdout",
     "output_type": "stream",
     "text": [
      "On branch \u001b[1;33mmaster\u001b[m\n",
      "\n",
      "No commits yet\n",
      "\n",
      "nothing to commit (create/copy files and use \"git add\" to track)\n"
     ]
    }
   ],
   "source": [
    "git status"
   ]
  },
  {
   "cell_type": "markdown",
   "metadata": {},
   "source": [
    "<br><br><br><br><br><br><br><br>"
   ]
  },
  {
   "cell_type": "markdown",
   "metadata": {
    "slideshow": {
     "slide_type": "subslide"
    }
   },
   "source": [
    "<span class=\"header\">Recording history</span>\n",
    "\n",
    "### <div style=\"padding: 9vmin 0 0 0\">Add first file</div>\n",
    "<br>\n",
    "\n",
    "*Note: Git—which is such a powerful tool—works on any text files.  \n",
    "If you write your manuscript as a text file (e.g. `.org`, `.md`, `.Rmd`, `.txt`, `.ipynb`) rather than a MS Word or LibreOffice Writer file, you can put it under version control.  \n",
    "This has countless advantages, from easy versioning to easy collaboration.*"
   ]
  },
  {
   "cell_type": "code",
   "execution_count": 37,
   "metadata": {},
   "outputs": [],
   "source": [
    "echo \"import numpy as np\n",
    "\n",
    "years = list(range(2001, 2020))\" > src/enso_model.py"
   ]
  },
  {
   "cell_type": "code",
   "execution_count": 35,
   "metadata": {},
   "outputs": [
    {
     "name": "stdout",
     "output_type": "stream",
     "text": [
      "\u001b[01;34m.\u001b[00m\n",
      "├── \u001b[01;34mdata\u001b[00m\n",
      "├── \u001b[01;34mms\u001b[00m\n",
      "├── \u001b[01;34mresult\u001b[00m\n",
      "└── \u001b[01;34msrc\u001b[00m\n",
      "    └── enso_model.py\n",
      "\n",
      "4 directories, 1 file\n"
     ]
    }
   ],
   "source": [
    "tree"
   ]
  },
  {
   "cell_type": "code",
   "execution_count": 36,
   "metadata": {},
   "outputs": [
    {
     "name": "stdout",
     "output_type": "stream",
     "text": [
      "On branch \u001b[1;33mmaster\u001b[m\n",
      "\n",
      "No commits yet\n",
      "\n",
      "Untracked files:\n",
      "  (use \"git add <file>...\" to include in what will be committed)\n",
      "\t\u001b[31msrc/\u001b[m\n",
      "\n",
      "nothing added to commit but untracked files present (use \"git add\" to track)\n"
     ]
    }
   ],
   "source": [
    "git status"
   ]
  },
  {
   "cell_type": "markdown",
   "metadata": {},
   "source": [
    "<br><br><br><br><br><br><br><br>"
   ]
  },
  {
   "cell_type": "markdown",
   "metadata": {
    "slideshow": {
     "slide_type": "subslide"
    }
   },
   "source": [
    "<span class=\"header\"><font color=\"#e66700\">**Under the hood**</font></span>\n",
    "<br><br>\n",
    "![](img/diagrams/10.png)"
   ]
  },
  {
   "cell_type": "markdown",
   "metadata": {
    "slideshow": {
     "slide_type": "subslide"
    }
   },
   "source": [
    "<span class=\"header\">Recording history</span>\n",
    "\n",
    "### <div style=\"padding: 9vmin 0 0 0\">Stage our file</div>\n",
    "<br>"
   ]
  },
  {
   "cell_type": "code",
   "execution_count": 38,
   "metadata": {},
   "outputs": [],
   "source": [
    "git add ."
   ]
  },
  {
   "cell_type": "code",
   "execution_count": 39,
   "metadata": {},
   "outputs": [
    {
     "name": "stdout",
     "output_type": "stream",
     "text": [
      "On branch \u001b[1;33mmaster\u001b[m\n",
      "\n",
      "No commits yet\n",
      "\n",
      "Changes to be committed:\n",
      "  (use \"git rm --cached <file>...\" to unstage)\n",
      "\t\u001b[32mnew file:   src/enso_model.py\u001b[m\n",
      "\n"
     ]
    }
   ],
   "source": [
    "git status"
   ]
  },
  {
   "cell_type": "code",
   "execution_count": 41,
   "metadata": {},
   "outputs": [
    {
     "name": "stdout",
     "output_type": "stream",
     "text": [
      "import numpy as np\n",
      "\n",
      "years = list(range(2001, 2020))\n"
     ]
    }
   ],
   "source": [
    "cat src/enso_model.py"
   ]
  },
  {
   "cell_type": "markdown",
   "metadata": {},
   "source": [
    "<br><br><br><br><br><br><br><br>"
   ]
  },
  {
   "cell_type": "markdown",
   "metadata": {
    "slideshow": {
     "slide_type": "subslide"
    }
   },
   "source": [
    "<span class=\"header\"><font color=\"#e66700\">**Under the hood**</font></span>\n",
    "<br><br>\n",
    "![](img/diagrams/11.png)"
   ]
  },
  {
   "cell_type": "markdown",
   "metadata": {
    "slideshow": {
     "slide_type": "subslide"
    }
   },
   "source": [
    "<span class=\"header\">Recording history</span>\n",
    "\n",
    "### <div style=\"padding: 9vmin 0 0 0\">Create a first snapshot (the initial commit)</div>\n",
    "<br>"
   ]
  },
  {
   "cell_type": "code",
   "execution_count": 40,
   "metadata": {},
   "outputs": [
    {
     "name": "stdout",
     "output_type": "stream",
     "text": [
      "[master (root-commit) 6f21c25] Initial commit\n",
      " 1 file changed, 3 insertions(+)\n",
      " create mode 100644 src/enso_model.py\n"
     ]
    }
   ],
   "source": [
    "git commit -m \"Initial commit\""
   ]
  },
  {
   "cell_type": "code",
   "execution_count": 42,
   "metadata": {},
   "outputs": [
    {
     "name": "stdout",
     "output_type": "stream",
     "text": [
      "import numpy as np\n",
      "\n",
      "years = list(range(2001, 2020))\n"
     ]
    }
   ],
   "source": [
    "cat src/enso_model.py"
   ]
  },
  {
   "cell_type": "markdown",
   "metadata": {},
   "source": [
    "<br><br><br><br><br><br><br><br>"
   ]
  },
  {
   "cell_type": "markdown",
   "metadata": {
    "slideshow": {
     "slide_type": "subslide"
    }
   },
   "source": [
    "<span class=\"header\"><font color=\"#e66700\">**Under the hood**</font></span>\n",
    "<br><br>\n",
    "![](img/diagrams/12.png)"
   ]
  },
  {
   "cell_type": "markdown",
   "metadata": {
    "slideshow": {
     "slide_type": "subslide"
    }
   },
   "source": [
    "<span class=\"header\"><font color=\"#e66700\">**Under the hood**</font></span>\n",
    "<br><br>\n",
    "![](img/diagrams/13.png)"
   ]
  },
  {
   "cell_type": "markdown",
   "metadata": {
    "slideshow": {
     "slide_type": "subslide"
    }
   },
   "source": [
    "<span class=\"header\">Recording history</span>\n",
    "\n",
    "### SHA-1 checksum\n",
    "<br>\n",
    "\n",
    "Each commit is identified by a unique 40-character SHA-1 checksum. People usually refer to it as a “hash”.\n",
    "\n",
    "The short form of a hash only contains the first 7 characters, which is generally sufficient to identify a commit.\n",
    "\n",
    "After you committed, Git gave you the short form of the hash of your first commit."
   ]
  },
  {
   "cell_type": "markdown",
   "metadata": {
    "cell_style": "split",
    "slideshow": {
     "slide_type": "subslide"
    }
   },
   "source": [
    "<span class=\"header\">Recording history</span><br><br>\n",
    "\n",
    "### On writing good commit messages\n",
    "<br>\n",
    "\n",
    "<figure style=\"display: table; margin: 0 auto\">\n",
    "  <center>\n",
    "    <img src=\"https://imgs.xkcd.com/comics/git_commit.png\" title=\"\" width=\"700vmin\" style=\"padding: 2vmin 0 0 0\">\n",
    "  </center>\n",
    "  <div align=\"right\" style=\"color: #978282; line-height: 0; font-size: 2vmin\">\n",
    "    <em>\n",
    "      from <a href=\"https://xkcd.com/\">xkcd.com</a>\n",
    "    </em>\n",
    "  </div>\n",
    "</figure>"
   ]
  },
  {
   "cell_type": "markdown",
   "metadata": {
    "cell_style": "split",
    "slideshow": {
     "slide_type": "fragment"
    }
   },
   "source": [
    "<br><br><br>\n",
    "\n",
    "- Use the present tense\n",
    "\n",
    "- The first line is a summary of the commit and is less than 50 characters long\n",
    "\n",
    "- Leave a blank line below\n",
    "\n",
    "- Then add the body of your commit message with more details"
   ]
  },
  {
   "cell_type": "markdown",
   "metadata": {
    "cell_style": "split",
    "slideshow": {
     "slide_type": "subslide"
    }
   },
   "source": [
    "<br>\n",
    "<div style=\"line-height: 10vmin\">\n",
    "    <br>\n",
    "</div>\n",
    "\n",
    "- Use the present tense\n",
    "\n",
    "- The first line is a summary of the commit and is less than 50 characters long\n",
    "\n",
    "- Leave a blank line below\n",
    "\n",
    "- Then add the body of your commit message with more details"
   ]
  },
  {
   "cell_type": "markdown",
   "metadata": {
    "cell_style": "split",
    "slideshow": {
     "slide_type": "-"
    }
   },
   "source": [
    "<span class=\"header\">Recording history</span><br><br>\n",
    "\n",
    "*Example of a good commit message:*\n",
    "\n",
    "```sh\n",
    "git commit -m \"Reduce boundary conditions by a factor of 0.3\n",
    "\n",
    "Update boundaries\n",
    "Rerun model and update table\n",
    "Rephrase method section in ms\"\n",
    "```"
   ]
  },
  {
   "cell_type": "markdown",
   "metadata": {
    "slideshow": {
     "slide_type": "subslide"
    }
   },
   "source": [
    "<span class=\"header\">Recording history</span>\n",
    "\n",
    "### <div style=\"padding: 9vmin 0 0 0\">Let's make changes to our file</div>\n",
    "<br>"
   ]
  },
  {
   "cell_type": "code",
   "execution_count": 43,
   "metadata": {},
   "outputs": [
    {
     "name": "stdout",
     "output_type": "stream",
     "text": [
      "Waiting for Emacs...\n"
     ]
    }
   ],
   "source": [
    "emacsclient -c src/enso_model.py"
   ]
  },
  {
   "cell_type": "code",
   "execution_count": 44,
   "metadata": {},
   "outputs": [
    {
     "name": "stdout",
     "output_type": "stream",
     "text": [
      "On branch \u001b[1;33mmaster\u001b[m\n",
      "Changes not staged for commit:\n",
      "  (use \"git add <file>...\" to update what will be committed)\n",
      "  (use \"git restore <file>...\" to discard changes in working directory)\n",
      "\t\u001b[31mmodified:   src/enso_model.py\u001b[m\n",
      "\n",
      "no changes added to commit (use \"git add\" and/or \"git commit -a\")\n"
     ]
    }
   ],
   "source": [
    "git status"
   ]
  },
  {
   "cell_type": "code",
   "execution_count": 57,
   "metadata": {},
   "outputs": [
    {
     "name": "stdout",
     "output_type": "stream",
     "text": [
      "import numpy as np\n",
      "\n",
      "years = list(range(2001, 2019))\n"
     ]
    }
   ],
   "source": [
    "cat src/enso_model.py"
   ]
  },
  {
   "cell_type": "markdown",
   "metadata": {},
   "source": [
    "<br><br><br><br><br><br><br><br>"
   ]
  },
  {
   "cell_type": "markdown",
   "metadata": {
    "slideshow": {
     "slide_type": "subslide"
    }
   },
   "source": [
    "<span class=\"header\"><font color=\"#e66700\">**Under the hood**</font></span>\n",
    "<br><br>\n",
    "![](img/diagrams/15.png)"
   ]
  },
  {
   "cell_type": "markdown",
   "metadata": {
    "slideshow": {
     "slide_type": "subslide"
    }
   },
   "source": [
    "<span class=\"header\">Recording history</span>\n",
    "\n",
    "### <div style=\"padding: 5vmin 0 0 0\">Stage our file again</div>\n",
    "<br>"
   ]
  },
  {
   "cell_type": "code",
   "execution_count": 45,
   "metadata": {},
   "outputs": [],
   "source": [
    "git add ."
   ]
  },
  {
   "cell_type": "code",
   "execution_count": 46,
   "metadata": {},
   "outputs": [
    {
     "name": "stdout",
     "output_type": "stream",
     "text": [
      "On branch \u001b[1;33mmaster\u001b[m\n",
      "Changes to be committed:\n",
      "  (use \"git restore --staged <file>...\" to unstage)\n",
      "\t\u001b[32mmodified:   src/enso_model.py\u001b[m\n",
      "\n"
     ]
    }
   ],
   "source": [
    "git status"
   ]
  },
  {
   "cell_type": "markdown",
   "metadata": {},
   "source": [
    "<br><br><br><br><br><br><br><br>"
   ]
  },
  {
   "cell_type": "markdown",
   "metadata": {
    "slideshow": {
     "slide_type": "subslide"
    }
   },
   "source": [
    "<span class=\"header\"><font color=\"#e66700\">**Under the hood**</font></span>\n",
    "<br><br>\n",
    "![](img/diagrams/16.png)"
   ]
  },
  {
   "cell_type": "markdown",
   "metadata": {
    "slideshow": {
     "slide_type": "subslide"
    }
   },
   "source": [
    "<span class=\"header\">Recording history</span>\n",
    "\n",
    "### <div style=\"padding: 5vmin 0 0 0\">Create a second commit</div>\n",
    "<br>"
   ]
  },
  {
   "cell_type": "code",
   "execution_count": 47,
   "metadata": {},
   "outputs": [
    {
     "name": "stdout",
     "output_type": "stream",
     "text": [
      "[master b8d72d1] Change end date enso script to 2019\n",
      " 1 file changed, 1 insertion(+), 1 deletion(-)\n"
     ]
    }
   ],
   "source": [
    "git commit -m \"Change end date enso script to 2019\""
   ]
  },
  {
   "cell_type": "code",
   "execution_count": 48,
   "metadata": {},
   "outputs": [
    {
     "name": "stdout",
     "output_type": "stream",
     "text": [
      "On branch \u001b[1;33mmaster\u001b[m\n",
      "nothing to commit, working tree clean\n"
     ]
    }
   ],
   "source": [
    "git status"
   ]
  },
  {
   "cell_type": "code",
   "execution_count": 49,
   "metadata": {},
   "outputs": [
    {
     "name": "stdout",
     "output_type": "stream",
     "text": [
      "\u001b[01;34m.\u001b[00m\n",
      "├── \u001b[01;34mdata\u001b[00m\n",
      "├── \u001b[01;34mms\u001b[00m\n",
      "├── \u001b[01;34mresult\u001b[00m\n",
      "└── \u001b[01;34msrc\u001b[00m\n",
      "    └── enso_model.py\n",
      "\n",
      "4 directories, 1 file\n"
     ]
    }
   ],
   "source": [
    "tree"
   ]
  },
  {
   "cell_type": "markdown",
   "metadata": {},
   "source": [
    "<br><br><br><br><br><br><br><br>"
   ]
  },
  {
   "cell_type": "markdown",
   "metadata": {
    "slideshow": {
     "slide_type": "subslide"
    }
   },
   "source": [
    "<span class=\"header\"><font color=\"#e66700\">**Under the hood**</font></span>\n",
    "<br><br>\n",
    "![](img/diagrams/17.png)"
   ]
  },
  {
   "cell_type": "markdown",
   "metadata": {
    "slideshow": {
     "slide_type": "subslide"
    }
   },
   "source": [
    "<span class=\"header\"><font color=\"#e66700\">**Under the hood**</font></span>\n",
    "<br><br>\n",
    "![](img/diagrams/18.png)"
   ]
  },
  {
   "cell_type": "markdown",
   "metadata": {
    "slideshow": {
     "slide_type": "subslide"
    }
   },
   "source": [
    "<span class=\"header\">Recording history</span>\n",
    "\n",
    "### <div style=\"padding: 7vmin 0 0 0\">Excluding from version control</div>\n",
    "<br>\n",
    "\n",
    "There are files you really **should** put under version control, but there are files you shouldn't."
   ]
  },
  {
   "cell_type": "markdown",
   "metadata": {
    "cell_style": "split",
    "slideshow": {
     "slide_type": "fragment"
    }
   },
   "source": [
    "#### Put under vc\n",
    "\n",
    "- Scripts\n",
    "- Manuscripts and notes\n",
    "- Makefile and the like"
   ]
  },
  {
   "cell_type": "markdown",
   "metadata": {
    "cell_style": "split",
    "slideshow": {
     "slide_type": "fragment"
    }
   },
   "source": [
    "#### Do *not* put under vc\n",
    "\n",
    "- Non-text files (e.g. images, office documents)\n",
    "- Outputs that can be recreated by running code"
   ]
  },
  {
   "cell_type": "markdown",
   "metadata": {
    "slideshow": {
     "slide_type": "subslide"
    }
   },
   "source": [
    "<span class=\"header\">Recording history</span>\n",
    "\n",
    "### <div style=\"padding: 7vmin 0 0 0\">Excluding from version control</div>\n",
    "<br>\n",
    "\n",
    "You want to have a clean working directory, so you need to tell Git to ignore those files.\n",
    "\n",
    "You do this by adding them to a file that you create in the root of the project called `.gitignore`."
   ]
  },
  {
   "cell_type": "code",
   "execution_count": 50,
   "metadata": {},
   "outputs": [
    {
     "name": "stdout",
     "output_type": "stream",
     "text": [
      "On branch \u001b[1;33mmaster\u001b[m\n",
      "nothing to commit, working tree clean\n"
     ]
    }
   ],
   "source": [
    "git status"
   ]
  },
  {
   "cell_type": "code",
   "execution_count": 51,
   "metadata": {},
   "outputs": [],
   "source": [
    "touch result/graph.png"
   ]
  },
  {
   "cell_type": "code",
   "execution_count": 52,
   "metadata": {},
   "outputs": [
    {
     "name": "stdout",
     "output_type": "stream",
     "text": [
      "On branch \u001b[1;33mmaster\u001b[m\n",
      "Untracked files:\n",
      "  (use \"git add <file>...\" to include in what will be committed)\n",
      "\t\u001b[31mresult/\u001b[m\n",
      "\n",
      "nothing added to commit but untracked files present (use \"git add\" to track)\n"
     ]
    }
   ],
   "source": [
    "git status"
   ]
  },
  {
   "cell_type": "code",
   "execution_count": 53,
   "metadata": {},
   "outputs": [],
   "source": [
    "echo \"/result/\" > .gitignore"
   ]
  },
  {
   "cell_type": "code",
   "execution_count": 55,
   "metadata": {},
   "outputs": [
    {
     "name": "stdout",
     "output_type": "stream",
     "text": [
      "\u001b[0m\u001b[01;34m.\u001b[0m  \u001b[01;34m..\u001b[0m  \u001b[01;34m.git\u001b[0m  .gitignore  \u001b[01;34mdata\u001b[0m  \u001b[01;34mms\u001b[0m  \u001b[01;34mresult\u001b[0m  \u001b[01;34msrc\u001b[0m\n"
     ]
    }
   ],
   "source": [
    "ls -a"
   ]
  },
  {
   "cell_type": "code",
   "execution_count": 56,
   "metadata": {},
   "outputs": [
    {
     "name": "stdout",
     "output_type": "stream",
     "text": [
      "On branch \u001b[1;33mmaster\u001b[m\n",
      "Untracked files:\n",
      "  (use \"git add <file>...\" to include in what will be committed)\n",
      "\t\u001b[31m.gitignore\u001b[m\n",
      "\n",
      "nothing added to commit but untracked files present (use \"git add\" to track)\n"
     ]
    }
   ],
   "source": [
    "git status"
   ]
  },
  {
   "cell_type": "markdown",
   "metadata": {},
   "source": [
    "<br><br><br><br><br><br><br><br>"
   ]
  },
  {
   "cell_type": "markdown",
   "metadata": {
    "slideshow": {
     "slide_type": "subslide"
    }
   },
   "source": [
    "<span class=\"header\">Recording history</span>\n",
    "\n",
    "### <div style=\"padding: 5vmin 0 0 0\">.gitignore rules</div>\n",
    "<br>\n",
    "\n",
    "Each line in a `.gitignore` file specifies a pattern.\n",
    "\n",
    "Blank lines are ignored and can serve as separators for readability.\n",
    "\n",
    "Lines starting with `#` are comments.\n",
    "\n",
    "To add patterns starting with a special character (e.g. `#`, `!`), that character needs escaping with `\\`.\n",
    "\n",
    "Trailing spaces are ignored unless they are escaped with `\\`.\n",
    "\n",
    "`!` negates patterns (matching files excluded by previous patterns become included again). **However** it is not possible to re-include a file if one of its parent directories is excluded (Git doesn’t list excluded directories for performance reasons). One way to go around that is to force the inclusion of a file which is in an ignored directory with the option `-f`.\n",
    "\n",
    "&emsp;&emsp;&emsp; *Example: `git add -f <file>`*\n",
    "\n",
    "Patterns ending with `/` match directories. Otherwise patterns match both files and directories.\n",
    "\n",
    "`/` at the beginning or within a search pattern indicates that the pattern is relative to the directory level of the `.gitignore` file. Otherwise the pattern matches anywhere below the `.gitignore` level.\n",
    "\n",
    "&emsp;&emsp;&emsp; *Examples:*  \n",
    "*&emsp;&emsp;&emsp;&emsp;&emsp;&emsp; - `foo/bar/` matches the directory `foo/bar`, but not the directory `a/foo/bar`*  \n",
    "*&emsp;&emsp;&emsp;&emsp;&emsp;&emsp; - `bar/` matches both the directories `foo/bar` and `a/foo/bar`*\n",
    "\n",
    "`*` matches anything except `/`.\n",
    "\n",
    "`?` matches any one character except `/`.\n",
    "\n",
    "The range notation (e.g. `[a-zA-Z]`) can be used to match one of the characters in a range.\n",
    "\n",
    "A leading `**/` matches all directories.\n",
    "\n",
    "&emsp;&emsp;&emsp; *Example: `**/foo` matches file or directory `foo` anywhere. This is the same as `foo`*\n",
    "\n",
    "A trailing `/**` matches everything inside what it precedes.\n",
    "\n",
    "&emsp;&emsp;&emsp; *Example: `abc/**` matches all files (recursively) inside directory `abc`*\n",
    "\n",
    "`/**/` matches zero or more directories.\n",
    "\n",
    "&emsp;&emsp;&emsp; *Example: `a/**/b` matches `a/b`, `a/x/b`, and `a/x/y/b`*"
   ]
  },
  {
   "cell_type": "markdown",
   "metadata": {
    "slideshow": {
     "slide_type": "subslide"
    }
   },
   "source": [
    "<span class=\"header\">Recording history</span>\n",
    "\n",
    "### <div style=\"padding: 7vmin 0 0 0\">Tagging</div>\n",
    "<br>\n",
    "\n",
    "#### <div style=\"text-align: left\">Annotated tag</div>"
   ]
  },
  {
   "cell_type": "code",
   "execution_count": 58,
   "metadata": {},
   "outputs": [],
   "source": [
    "git tag"
   ]
  },
  {
   "cell_type": "code",
   "execution_count": 59,
   "metadata": {},
   "outputs": [],
   "source": [
    "git tag -a J_Climate_2009 -m \"Stage of project at publication of paper\""
   ]
  },
  {
   "cell_type": "code",
   "execution_count": 60,
   "metadata": {},
   "outputs": [
    {
     "name": "stdout",
     "output_type": "stream",
     "text": [
      "J_Climate_2009\n"
     ]
    }
   ],
   "source": [
    "git tag"
   ]
  },
  {
   "cell_type": "code",
   "execution_count": 61,
   "metadata": {},
   "outputs": [
    {
     "name": "stdout",
     "output_type": "stream",
     "text": [
      "\u001b[33mtag J_Climate_2009\u001b[m\n",
      "Tagger: Marie-Helene Burle <marie.burle@westgrid.ca>\n",
      "Date:   Fri Sep 11 11:15:42 2020 -0700\n",
      "\n",
      "Stage of project at publication of paper\n",
      "\n",
      "\u001b[33mcommit b8d72d15ab02bdc1f6dc14422cf52eeb39a2bba0\u001b[m\u001b[33m (\u001b[m\u001b[1;36mHEAD -> \u001b[m\u001b[1;32mmaster\u001b[m\u001b[33m, \u001b[m\u001b[1;33mtag: J_Climate_2009\u001b[m\u001b[33m)\u001b[m\n",
      "Author: Marie-Helene Burle <marie.burle@westgrid.ca>\n",
      "Date:   Fri Sep 11 10:40:06 2020 -0700\n",
      "\n",
      "    Change end date enso script to 2019\n",
      "\n",
      "\u001b[1mdiff --git a/src/enso_model.py b/src/enso_model.py\u001b[m\n",
      "\u001b[1mindex e21ee34..7eda930 100644\u001b[m\n",
      "\u001b[1m--- a/src/enso_model.py\u001b[m\n",
      "\u001b[1m+++ b/src/enso_model.py\u001b[m\n",
      "\u001b[36m@@ -1,3 +1,3 @@\u001b[m\n",
      " import numpy as np\u001b[m\n",
      " \u001b[m\n",
      "\u001b[31m-years = list(range(2001, 2020))\u001b[m\n",
      "\u001b[32m+\u001b[m\u001b[32myears = list(range(2001, 2019))\u001b[m\n"
     ]
    }
   ],
   "source": [
    "git show J_Climate_2009"
   ]
  },
  {
   "cell_type": "markdown",
   "metadata": {},
   "source": [
    "<br><br><br><br><br><br><br><br>"
   ]
  },
  {
   "cell_type": "markdown",
   "metadata": {
    "slideshow": {
     "slide_type": "subslide"
    }
   },
   "source": [
    "<span class=\"header\">Recording history</span>\n",
    "\n",
    "### <div style=\"padding: 7vmin 0 0 0\">Tagging</div>\n",
    "<br>\n",
    "\n",
    "#### <div style=\"text-align: left\">Leightweight tag</div>"
   ]
  },
  {
   "cell_type": "code",
   "execution_count": 62,
   "metadata": {},
   "outputs": [],
   "source": [
    "git tag J_Climate_2009_light"
   ]
  },
  {
   "cell_type": "code",
   "execution_count": 63,
   "metadata": {},
   "outputs": [
    {
     "name": "stdout",
     "output_type": "stream",
     "text": [
      "\u001b[33mcommit b8d72d15ab02bdc1f6dc14422cf52eeb39a2bba0\u001b[m\u001b[33m (\u001b[m\u001b[1;36mHEAD -> \u001b[m\u001b[1;32mmaster\u001b[m\u001b[33m, \u001b[m\u001b[1;33mtag: J_Climate_2009_light\u001b[m\u001b[33m, \u001b[m\u001b[1;33mtag: J_Climate_2009\u001b[m\u001b[33m)\u001b[m\n",
      "Author: Marie-Helene Burle <marie.burle@westgrid.ca>\n",
      "Date:   Fri Sep 11 10:40:06 2020 -0700\n",
      "\n",
      "    Change end date enso script to 2019\n",
      "\n",
      "\u001b[1mdiff --git a/src/enso_model.py b/src/enso_model.py\u001b[m\n",
      "\u001b[1mindex e21ee34..7eda930 100644\u001b[m\n",
      "\u001b[1m--- a/src/enso_model.py\u001b[m\n",
      "\u001b[1m+++ b/src/enso_model.py\u001b[m\n",
      "\u001b[36m@@ -1,3 +1,3 @@\u001b[m\n",
      " import numpy as np\u001b[m\n",
      " \u001b[m\n",
      "\u001b[31m-years = list(range(2001, 2020))\u001b[m\n",
      "\u001b[32m+\u001b[m\u001b[32myears = list(range(2001, 2019))\u001b[m\n"
     ]
    }
   ],
   "source": [
    "git show J_Climate_2009_light"
   ]
  },
  {
   "cell_type": "code",
   "execution_count": 64,
   "metadata": {},
   "outputs": [
    {
     "name": "stdout",
     "output_type": "stream",
     "text": [
      "J_Climate_2009\n",
      "J_Climate_2009_light\n"
     ]
    }
   ],
   "source": [
    "git tag"
   ]
  },
  {
   "cell_type": "markdown",
   "metadata": {},
   "source": [
    "<br><br><br><br><br><br><br><br>"
   ]
  },
  {
   "cell_type": "markdown",
   "metadata": {
    "slideshow": {
     "slide_type": "subslide"
    }
   },
   "source": [
    "<span class=\"header\"><font color=\"#e66700\">**Under the hood**</font></span>\n",
    "<br><br>\n",
    "![](img/diagrams/19.png)"
   ]
  },
  {
   "cell_type": "markdown",
   "metadata": {
    "slideshow": {
     "slide_type": "subslide"
    }
   },
   "source": [
    "<span class=\"header\"><font color=\"#e66700\">**Under the hood**</font></span>\n",
    "<br><br>\n",
    "![](img/diagrams/20.png)"
   ]
  },
  {
   "cell_type": "markdown",
   "metadata": {
    "slideshow": {
     "slide_type": "subslide"
    }
   },
   "source": [
    "<span class=\"header\">Recording history</span>\n",
    "\n",
    "### <div style=\"padding: 5vmin 0 0 0\">Tagging</div>\n",
    "<br>\n",
    "\n",
    "#### <div style=\"text-align: left\">Deleting tags</div>"
   ]
  },
  {
   "cell_type": "code",
   "execution_count": 65,
   "metadata": {},
   "outputs": [
    {
     "name": "stdout",
     "output_type": "stream",
     "text": [
      "Deleted tag 'J_Climate_2009_light' (was b8d72d1)\n"
     ]
    }
   ],
   "source": [
    "git tag -d J_Climate_2009_light"
   ]
  },
  {
   "cell_type": "code",
   "execution_count": 66,
   "metadata": {},
   "outputs": [
    {
     "name": "stdout",
     "output_type": "stream",
     "text": [
      "J_Climate_2009\n"
     ]
    }
   ],
   "source": [
    "git tag"
   ]
  },
  {
   "cell_type": "markdown",
   "metadata": {},
   "source": [
    "<br><br><br><br><br><br><br><br>"
   ]
  },
  {
   "cell_type": "markdown",
   "metadata": {
    "slideshow": {
     "slide_type": "subslide"
    }
   },
   "source": [
    "<span class=\"header\">Recording history</span>\n",
    "\n",
    "### <div style=\"padding: 5vmin 0 0 0\">Let's create more selective snapshots</div>\n",
    "<br>\n",
    "\n",
    "We made our first commit with:\n",
    "<br>\n",
    "```sh\n",
    "git add .\n",
    "git commit -m \"Initial commit\"\n",
    "```\n",
    "\n",
    "`git add .` stages all new changes in the repo.\n",
    "\n",
    "It is even possible to commit all changes to the tracked files, staged or not, with `git commit -a -m \"Some message\"`. With this command, you can thus skip the staging area entirely.\n",
    "\n",
    "While these commands are convenient, you seldom want to do that: chances are, you'd be committing a mixed bag of changes that aren't grouped sensibly.\n",
    "\n",
    "This creates a messy history that will be hard to navigate in the future (and will be hell for your collaborators)."
   ]
  },
  {
   "cell_type": "markdown",
   "metadata": {
    "slideshow": {
     "slide_type": "subslide"
    }
   },
   "source": [
    "<span class=\"header\">Recording history</span>\n",
    "\n",
    "### <div style=\"padding: 9vmin 0 0 0\">Let's create more selective snapshots</div>\n",
    "<br>\n",
    "\n",
    "What you want to do is to create commits that are meaningful.\n",
    "\n",
    "This is why Git has this 2-step process to make snapshots:\n",
    "- first you stage\n",
    "- then you commit\n",
    "\n",
    "The staging area allows you to pick and choose changes that you want to commit together."
   ]
  },
  {
   "cell_type": "markdown",
   "metadata": {
    "slideshow": {
     "slide_type": "subslide"
    }
   },
   "source": [
    "<span class=\"header\">Recording history</span>\n",
    "\n",
    "### <div style=\"padding: 9vmin 0 0 0\">Let's create more selective snapshots</div>\n",
    "<br>\n",
    "\n",
    "`git add <file>` allows you to only add the changes you made in `<file>` to the staging area (leaving changes to other files unstaged).\n",
    "<br><br>\n",
    "Even better, `git add -p <file>` allows you to stage only some of the changes made in `<file>`.\n",
    "<br><br>\n",
    "This gives you entire control over your recording of history."
   ]
  },
  {
   "cell_type": "markdown",
   "metadata": {
    "slideshow": {
     "slide_type": "subslide"
    }
   },
   "source": [
    "<span class=\"header\">Recording history</span>\n",
    "\n",
    "### <div style=\"padding: 9vmin 0 0 0\">Let's create more selective snapshots</div>\n",
    "<br>\n",
    "\n",
    "`git add -p <file>` starts an interactive staging session.\n",
    "\n",
    "For each modified section (called \"hunk\"), Git will ask you:\n",
    "\n",
    "```\n",
    "y\tyes (stage this hunk)\n",
    "n\tno (don't stage this hunk)\n",
    "a\tall (stage this hunk and all subsequent ones in this file)\n",
    "d\tdo not stage this hunk nor any of the remaining ones\n",
    "s\tsplit this hunk (if possible)\n",
    "e\tedit\n",
    "?\tprint help\n",
    "```"
   ]
  },
  {
   "cell_type": "code",
   "execution_count": 67,
   "metadata": {},
   "outputs": [],
   "source": [
    "echo \"# Effect of ENSO on SST in the North Pacific between the years 2001 and 2019\n",
    "\n",
    "## Introduction\n",
    "\n",
    "## Methods\n",
    "\n",
    "## Results\n",
    "\n",
    "## Conclusion\" > ms/enso_effect.md"
   ]
  },
  {
   "cell_type": "code",
   "execution_count": 68,
   "metadata": {},
   "outputs": [
    {
     "name": "stdout",
     "output_type": "stream",
     "text": [
      "On branch \u001b[1;33mmaster\u001b[m\n",
      "Untracked files:\n",
      "  (use \"git add <file>...\" to include in what will be committed)\n",
      "\t\u001b[31m.gitignore\u001b[m\n",
      "\t\u001b[31mms/\u001b[m\n",
      "\n",
      "nothing added to commit but untracked files present (use \"git add\" to track)\n"
     ]
    }
   ],
   "source": [
    "git status"
   ]
  },
  {
   "cell_type": "code",
   "execution_count": 69,
   "metadata": {},
   "outputs": [],
   "source": [
    "git add ms/enso_effect.md"
   ]
  },
  {
   "cell_type": "code",
   "execution_count": 70,
   "metadata": {},
   "outputs": [
    {
     "name": "stdout",
     "output_type": "stream",
     "text": [
      "On branch \u001b[1;33mmaster\u001b[m\n",
      "Changes to be committed:\n",
      "  (use \"git restore --staged <file>...\" to unstage)\n",
      "\t\u001b[32mnew file:   ms/enso_effect.md\u001b[m\n",
      "\n",
      "Untracked files:\n",
      "  (use \"git add <file>...\" to include in what will be committed)\n",
      "\t\u001b[31m.gitignore\u001b[m\n",
      "\n"
     ]
    }
   ],
   "source": [
    "git status"
   ]
  },
  {
   "cell_type": "code",
   "execution_count": 71,
   "metadata": {},
   "outputs": [
    {
     "name": "stdout",
     "output_type": "stream",
     "text": [
      "[master d945403] Add first draft enso ms\n",
      " 1 file changed, 9 insertions(+)\n",
      " create mode 100644 ms/enso_effect.md\n"
     ]
    }
   ],
   "source": [
    "git commit -m \"Add first draft enso ms\""
   ]
  },
  {
   "cell_type": "code",
   "execution_count": 72,
   "metadata": {},
   "outputs": [
    {
     "name": "stdout",
     "output_type": "stream",
     "text": [
      "On branch \u001b[1;33mmaster\u001b[m\n",
      "Untracked files:\n",
      "  (use \"git add <file>...\" to include in what will be committed)\n",
      "\t\u001b[31m.gitignore\u001b[m\n",
      "\n",
      "nothing added to commit but untracked files present (use \"git add\" to track)\n"
     ]
    }
   ],
   "source": [
    "git status"
   ]
  },
  {
   "cell_type": "code",
   "execution_count": 73,
   "metadata": {},
   "outputs": [],
   "source": [
    "echo \"Twas brillig, and the slithy toves\n",
    "Did gyre and gimble in the wabe:\n",
    "All mimsy were the borogoves,\n",
    "And the mome raths outgrabe\" >> ms/enso_effect.md"
   ]
  },
  {
   "cell_type": "code",
   "execution_count": 74,
   "metadata": {},
   "outputs": [
    {
     "name": "stdout",
     "output_type": "stream",
     "text": [
      "On branch \u001b[1;33mmaster\u001b[m\n",
      "Changes not staged for commit:\n",
      "  (use \"git add <file>...\" to update what will be committed)\n",
      "  (use \"git restore <file>...\" to discard changes in working directory)\n",
      "\t\u001b[31mmodified:   ms/enso_effect.md\u001b[m\n",
      "\n",
      "Untracked files:\n",
      "  (use \"git add <file>...\" to include in what will be committed)\n",
      "\t\u001b[31m.gitignore\u001b[m\n",
      "\n",
      "no changes added to commit (use \"git add\" and/or \"git commit -a\")\n"
     ]
    }
   ],
   "source": [
    "git status"
   ]
  },
  {
   "cell_type": "code",
   "execution_count": 75,
   "metadata": {},
   "outputs": [],
   "source": [
    "echo \"Beware the Jabberwock, my son!\n",
    "The jaws that bite, the claws that catch!\n",
    "Beware the Jubjub bird, and shun\n",
    "The frumious Bandersnatch\" >> src/enso_model.py"
   ]
  },
  {
   "cell_type": "code",
   "execution_count": 76,
   "metadata": {},
   "outputs": [
    {
     "name": "stdout",
     "output_type": "stream",
     "text": [
      "On branch \u001b[1;33mmaster\u001b[m\n",
      "Changes not staged for commit:\n",
      "  (use \"git add <file>...\" to update what will be committed)\n",
      "  (use \"git restore <file>...\" to discard changes in working directory)\n",
      "\t\u001b[31mmodified:   ms/enso_effect.md\u001b[m\n",
      "\t\u001b[31mmodified:   src/enso_model.py\u001b[m\n",
      "\n",
      "Untracked files:\n",
      "  (use \"git add <file>...\" to include in what will be committed)\n",
      "\t\u001b[31m.gitignore\u001b[m\n",
      "\n",
      "no changes added to commit (use \"git add\" and/or \"git commit -a\")\n"
     ]
    }
   ],
   "source": [
    "git status"
   ]
  },
  {
   "cell_type": "code",
   "execution_count": 77,
   "metadata": {},
   "outputs": [],
   "source": [
    "git add ms/enso_effect.md src/enso_model.py"
   ]
  },
  {
   "cell_type": "code",
   "execution_count": 78,
   "metadata": {},
   "outputs": [
    {
     "name": "stdout",
     "output_type": "stream",
     "text": [
      "On branch \u001b[1;33mmaster\u001b[m\n",
      "Changes to be committed:\n",
      "  (use \"git restore --staged <file>...\" to unstage)\n",
      "\t\u001b[32mmodified:   ms/enso_effect.md\u001b[m\n",
      "\t\u001b[32mmodified:   src/enso_model.py\u001b[m\n",
      "\n",
      "Untracked files:\n",
      "  (use \"git add <file>...\" to include in what will be committed)\n",
      "\t\u001b[31m.gitignore\u001b[m\n",
      "\n"
     ]
    }
   ],
   "source": [
    "git status"
   ]
  },
  {
   "cell_type": "code",
   "execution_count": 79,
   "metadata": {},
   "outputs": [
    {
     "name": "stdout",
     "output_type": "stream",
     "text": [
      "[master 86ee292] Add Jabberwock to ms and script\n",
      " 2 files changed, 8 insertions(+)\n"
     ]
    }
   ],
   "source": [
    "git commit -m \"Add Jabberwock to ms and script\""
   ]
  },
  {
   "cell_type": "code",
   "execution_count": 80,
   "metadata": {},
   "outputs": [
    {
     "name": "stdout",
     "output_type": "stream",
     "text": [
      "On branch \u001b[1;33mmaster\u001b[m\n",
      "Untracked files:\n",
      "  (use \"git add <file>...\" to include in what will be committed)\n",
      "\t\u001b[31m.gitignore\u001b[m\n",
      "\n",
      "nothing added to commit but untracked files present (use \"git add\" to track)\n"
     ]
    }
   ],
   "source": [
    "git status"
   ]
  },
  {
   "cell_type": "code",
   "execution_count": 81,
   "metadata": {},
   "outputs": [],
   "source": [
    "git add ."
   ]
  },
  {
   "cell_type": "code",
   "execution_count": 82,
   "metadata": {},
   "outputs": [
    {
     "name": "stdout",
     "output_type": "stream",
     "text": [
      "On branch \u001b[1;33mmaster\u001b[m\n",
      "Changes to be committed:\n",
      "  (use \"git restore --staged <file>...\" to unstage)\n",
      "\t\u001b[32mnew file:   .gitignore\u001b[m\n",
      "\n"
     ]
    }
   ],
   "source": [
    "git status"
   ]
  },
  {
   "cell_type": "code",
   "execution_count": 83,
   "metadata": {},
   "outputs": [
    {
     "name": "stdout",
     "output_type": "stream",
     "text": [
      "[master 7207059] add .gitignore with /result/\n",
      " 1 file changed, 1 insertion(+)\n",
      " create mode 100644 .gitignore\n"
     ]
    }
   ],
   "source": [
    "git commit -m \"add .gitignore with /result/\""
   ]
  },
  {
   "cell_type": "code",
   "execution_count": 84,
   "metadata": {},
   "outputs": [
    {
     "name": "stdout",
     "output_type": "stream",
     "text": [
      "/result/\n"
     ]
    }
   ],
   "source": [
    "cat .gitignore"
   ]
  },
  {
   "cell_type": "code",
   "execution_count": 85,
   "metadata": {},
   "outputs": [
    {
     "name": "stdout",
     "output_type": "stream",
     "text": [
      "Waiting for Emacs...\n"
     ]
    }
   ],
   "source": [
    "emacsclient -c ms/enso_effect.md"
   ]
  },
  {
   "cell_type": "code",
   "execution_count": 86,
   "metadata": {},
   "outputs": [
    {
     "name": "stdout",
     "output_type": "stream",
     "text": [
      "On branch \u001b[1;33mmaster\u001b[m\n",
      "Changes not staged for commit:\n",
      "  (use \"git add <file>...\" to update what will be committed)\n",
      "  (use \"git restore <file>...\" to discard changes in working directory)\n",
      "\t\u001b[31mmodified:   ms/enso_effect.md\u001b[m\n",
      "\n",
      "no changes added to commit (use \"git add\" and/or \"git commit -a\")\n"
     ]
    }
   ],
   "source": [
    "git status"
   ]
  },
  {
   "cell_type": "code",
   "execution_count": 88,
   "metadata": {},
   "outputs": [
    {
     "name": "stdout",
     "output_type": "stream",
     "text": [
      "On branch \u001b[1;33mmaster\u001b[m\n",
      "Changes to be committed:\n",
      "  (use \"git restore --staged <file>...\" to unstage)\n",
      "\t\u001b[32mmodified:   ms/enso_effect.md\u001b[m\n",
      "\n",
      "Changes not staged for commit:\n",
      "  (use \"git add <file>...\" to update what will be committed)\n",
      "  (use \"git restore <file>...\" to discard changes in working directory)\n",
      "\t\u001b[31mmodified:   ms/enso_effect.md\u001b[m\n",
      "\n"
     ]
    }
   ],
   "source": [
    "git status"
   ]
  },
  {
   "cell_type": "markdown",
   "metadata": {},
   "source": [
    "<br><br><br><br><br><br><br><br>"
   ]
  },
  {
   "cell_type": "markdown",
   "metadata": {
    "slideshow": {
     "slide_type": "subslide"
    }
   },
   "source": [
    "<span class=\"header\">Recording history</span>\n",
    "\n",
    "### <div style=\"padding: 7vmin 0 0 0\">Inspecting changes</div>\n",
    "<br>\n",
    "\n",
    "We saw that `git status` is the key command to get information on the current state of the repo.\n",
    "\n",
    "While this gives us the list of new files and files with changes, it doesn't allow us to see what those changes are. For this, we need `git diff`.\n",
    "\n",
    "`git diff` shows changes between any two elements (e.g. between commits, between a commit and your working tree, between branches, etc.)."
   ]
  },
  {
   "cell_type": "code",
   "execution_count": 139,
   "metadata": {},
   "outputs": [
    {
     "name": "stdout",
     "output_type": "stream",
     "text": [
      "On branch \u001b[1;33mmaster\u001b[m\n",
      "Changes to be committed:\n",
      "  (use \"git restore --staged <file>...\" to unstage)\n",
      "\t\u001b[32mmodified:   ms/enso_effect.md\u001b[m\n",
      "\n",
      "Changes not staged for commit:\n",
      "  (use \"git add <file>...\" to update what will be committed)\n",
      "  (use \"git restore <file>...\" to discard changes in working directory)\n",
      "\t\u001b[31mmodified:   ms/enso_effect.md\u001b[m\n",
      "\n"
     ]
    }
   ],
   "source": [
    "git status"
   ]
  },
  {
   "cell_type": "markdown",
   "metadata": {},
   "source": [
    "<br><br><br><br><br><br><br><br>"
   ]
  },
  {
   "cell_type": "markdown",
   "metadata": {
    "slideshow": {
     "slide_type": "subslide"
    }
   },
   "source": [
    "<span class=\"header\"><font color=\"#e66700\">**Under the hood**</font></span>\n",
    "<br><br>\n",
    "![](img/diagrams/50.png)"
   ]
  },
  {
   "cell_type": "markdown",
   "metadata": {},
   "source": [
    "<br><br><br><br><br><br><br><br>"
   ]
  },
  {
   "cell_type": "markdown",
   "metadata": {
    "slideshow": {
     "slide_type": "subslide"
    }
   },
   "source": [
    "<span class=\"header\">Recording history</span>\n",
    "\n",
    "### <div style=\"padding: 5vmin 0 0 0\">Inspecting changes</div>\n",
    "<br>\n",
    "\n",
    "#### <div style=\"text-align: left\">Difference between the working directory and the index</div>\n",
    "\n",
    "That's all your unstaged changes *on tracked files*.\n",
    "\n",
    "Git can see new files you haven't staged: it lists them in the output of `git status`. Until you put them under version control by staging them for the first time however, Git has no information about their content: at this point, they are untracked and they are not part of the working tree yet. So their content never appears in the output of `git diff`."
   ]
  },
  {
   "cell_type": "markdown",
   "metadata": {
    "slideshow": {
     "slide_type": "subslide"
    }
   },
   "source": [
    "<span class=\"header\"><font color=\"#e66700\">**Under the hood**</font></span>\n",
    "<br><br>\n",
    "![](img/diagrams/51.png)"
   ]
  },
  {
   "cell_type": "markdown",
   "metadata": {
    "slideshow": {
     "slide_type": "subslide"
    }
   },
   "source": [
    "<span class=\"header\">Recording history</span>\n",
    "<br>"
   ]
  },
  {
   "cell_type": "code",
   "execution_count": 140,
   "metadata": {},
   "outputs": [
    {
     "name": "stdout",
     "output_type": "stream",
     "text": [
      "\u001b[1mdiff --git a/ms/enso_effect.md b/ms/enso_effect.md\u001b[m\n",
      "\u001b[1mindex 454e410..d6f38f4 100644\u001b[m\n",
      "\u001b[1m--- a/ms/enso_effect.md\u001b[m\n",
      "\u001b[1m+++ b/ms/enso_effect.md\u001b[m\n",
      "\u001b[36m@@ -6,8 +6,12 @@\u001b[m \u001b[mAdd some intro.\u001b[m\n",
      " \u001b[m\n",
      " ## Methods\u001b[m\n",
      " \u001b[m\n",
      "\u001b[32m+\u001b[m\u001b[32mSome methods here.\u001b[m\n",
      "\u001b[32m+\u001b[m\n",
      " ## Results\u001b[m\n",
      " \u001b[m\n",
      "\u001b[32m+\u001b[m\u001b[32mAdd some results.\u001b[m\n",
      "\u001b[32m+\u001b[m\n",
      " ## Conclusion\u001b[m\n",
      " \u001b[m\n",
      " Twas brillig, and the slithy toves\u001b[m\n"
     ]
    }
   ],
   "source": [
    "git diff"
   ]
  },
  {
   "cell_type": "markdown",
   "metadata": {},
   "source": [
    "<br><br><br><br><br><br><br><br>"
   ]
  },
  {
   "cell_type": "markdown",
   "metadata": {
    "slideshow": {
     "slide_type": "subslide"
    }
   },
   "source": [
    "<span class=\"header\">Recording history</span>\n",
    "\n",
    "### <div style=\"padding: 5vmin 0 0 0\">Inspecting changes</div>\n",
    "<br>\n",
    "\n",
    "#### <div style=\"text-align: left\">Difference between the index and your last commit</div>\n",
    "\n",
    "That's your staged changes ready to be committed.\n",
    "\n",
    "That is, that's what would be committed with `git commit -m \"Some message\"`."
   ]
  },
  {
   "cell_type": "markdown",
   "metadata": {
    "slideshow": {
     "slide_type": "subslide"
    }
   },
   "source": [
    "<span class=\"header\"><font color=\"#e66700\">**Under the hood**</font></span>\n",
    "<br><br>\n",
    "![](img/diagrams/52.png)"
   ]
  },
  {
   "cell_type": "markdown",
   "metadata": {
    "slideshow": {
     "slide_type": "subslide"
    }
   },
   "source": [
    "<span class=\"header\">Recording history</span>\n",
    "<br>"
   ]
  },
  {
   "cell_type": "code",
   "execution_count": 141,
   "metadata": {},
   "outputs": [
    {
     "name": "stdout",
     "output_type": "stream",
     "text": [
      "\u001b[1mdiff --git a/ms/enso_effect.md b/ms/enso_effect.md\u001b[m\n",
      "\u001b[1mindex c76dcd1..454e410 100644\u001b[m\n",
      "\u001b[1m--- a/ms/enso_effect.md\u001b[m\n",
      "\u001b[1m+++ b/ms/enso_effect.md\u001b[m\n",
      "\u001b[36m@@ -2,12 +2,17 @@\u001b[m\n",
      " \u001b[m\n",
      " ## Introduction\u001b[m\n",
      " \u001b[m\n",
      "\u001b[32m+\u001b[m\u001b[32mAdd some intro.\u001b[m\n",
      "\u001b[32m+\u001b[m\n",
      " ## Methods\u001b[m\n",
      " \u001b[m\n",
      " ## Results\u001b[m\n",
      " \u001b[m\n",
      " ## Conclusion\u001b[m\n",
      "\u001b[32m+\u001b[m\n",
      " Twas brillig, and the slithy toves\u001b[m\n",
      " Did gyre and gimble in the wabe:\u001b[m\n",
      " All mimsy were the borogoves,\u001b[m\n",
      " And the mome raths outgrabe\u001b[m\n",
      "\u001b[32m+\u001b[m\n",
      "\u001b[32m+\u001b[m\u001b[32mNew thoughts.\u001b[m\n"
     ]
    }
   ],
   "source": [
    "git diff --cached"
   ]
  },
  {
   "cell_type": "markdown",
   "metadata": {},
   "source": [
    "<br><br><br><br><br><br><br><br>"
   ]
  },
  {
   "cell_type": "markdown",
   "metadata": {
    "slideshow": {
     "slide_type": "subslide"
    }
   },
   "source": [
    "<span class=\"header\">Recording history</span>\n",
    "\n",
    "### <div style=\"padding: 5vmin 0 0 0\">Inspecting changes</div>\n",
    "<br>\n",
    "\n",
    "#### <div style=\"text-align: left\">Difference between the working directory and your last commit</div>\n",
    "\n",
    "So both of the above combined.\n",
    "\n",
    "That's all your staged and unstaged changes (again, only on tracked files)."
   ]
  },
  {
   "cell_type": "markdown",
   "metadata": {
    "slideshow": {
     "slide_type": "subslide"
    }
   },
   "source": [
    "<span class=\"header\"><font color=\"#e66700\">**Under the hood**</font></span>\n",
    "<br><br>\n",
    "![](img/diagrams/53.png)"
   ]
  },
  {
   "cell_type": "markdown",
   "metadata": {
    "slideshow": {
     "slide_type": "subslide"
    }
   },
   "source": [
    "<span class=\"header\">Recording history</span>\n",
    "<br>"
   ]
  },
  {
   "cell_type": "code",
   "execution_count": 142,
   "metadata": {},
   "outputs": [
    {
     "name": "stdout",
     "output_type": "stream",
     "text": [
      "\u001b[1mdiff --git a/ms/enso_effect.md b/ms/enso_effect.md\u001b[m\n",
      "\u001b[1mindex c76dcd1..d6f38f4 100644\u001b[m\n",
      "\u001b[1m--- a/ms/enso_effect.md\u001b[m\n",
      "\u001b[1m+++ b/ms/enso_effect.md\u001b[m\n",
      "\u001b[36m@@ -2,12 +2,21 @@\u001b[m\n",
      " \u001b[m\n",
      " ## Introduction\u001b[m\n",
      " \u001b[m\n",
      "\u001b[32m+\u001b[m\u001b[32mAdd some intro.\u001b[m\n",
      "\u001b[32m+\u001b[m\n",
      " ## Methods\u001b[m\n",
      " \u001b[m\n",
      "\u001b[32m+\u001b[m\u001b[32mSome methods here.\u001b[m\n",
      "\u001b[32m+\u001b[m\n",
      " ## Results\u001b[m\n",
      " \u001b[m\n",
      "\u001b[32m+\u001b[m\u001b[32mAdd some results.\u001b[m\n",
      "\u001b[32m+\u001b[m\n",
      " ## Conclusion\u001b[m\n",
      "\u001b[32m+\u001b[m\n",
      " Twas brillig, and the slithy toves\u001b[m\n",
      " Did gyre and gimble in the wabe:\u001b[m\n",
      " All mimsy were the borogoves,\u001b[m\n",
      " And the mome raths outgrabe\u001b[m\n",
      "\u001b[32m+\u001b[m\n",
      "\u001b[32m+\u001b[m\u001b[32mNew thoughts.\u001b[m\n"
     ]
    }
   ],
   "source": [
    "git diff HEAD"
   ]
  },
  {
   "cell_type": "markdown",
   "metadata": {},
   "source": [
    "<br><br><br><br><br><br><br><br>"
   ]
  },
  {
   "cell_type": "markdown",
   "metadata": {
    "slideshow": {
     "slide_type": "subslide"
    }
   },
   "source": [
    "<span class=\"header\">Recording history</span>\n",
    "\n",
    "### <div style=\"padding: 5vmin 0 0 0\">Inspecting changes</div>\n",
    "<br>\n",
    "\n",
    "#### <div style=\"text-align: left\">Difference between commits</div>"
   ]
  },
  {
   "cell_type": "code",
   "execution_count": 144,
   "metadata": {},
   "outputs": [
    {
     "name": "stdout",
     "output_type": "stream",
     "text": [
      "\u001b[1mdiff --git a/.gitignore b/.gitignore\u001b[m\n",
      "\u001b[1mnew file mode 100644\u001b[m\n",
      "\u001b[1mindex 0000000..98793f7\u001b[m\n",
      "\u001b[1m--- /dev/null\u001b[m\n",
      "\u001b[1m+++ b/.gitignore\u001b[m\n",
      "\u001b[36m@@ -0,0 +1 @@\u001b[m\n",
      "\u001b[32m+\u001b[m\u001b[32m/result/\u001b[m\n"
     ]
    }
   ],
   "source": [
    "git diff HEAD~ HEAD"
   ]
  },
  {
   "cell_type": "code",
   "execution_count": 145,
   "metadata": {},
   "outputs": [
    {
     "name": "stdout",
     "output_type": "stream",
     "text": [
      "\u001b[1mdiff --git a/.gitignore b/.gitignore\u001b[m\n",
      "\u001b[1mdeleted file mode 100644\u001b[m\n",
      "\u001b[1mindex 98793f7..0000000\u001b[m\n",
      "\u001b[1m--- a/.gitignore\u001b[m\n",
      "\u001b[1m+++ /dev/null\u001b[m\n",
      "\u001b[36m@@ -1 +0,0 @@\u001b[m\n",
      "\u001b[31m-/result/\u001b[m\n"
     ]
    }
   ],
   "source": [
    "git diff HEAD HEAD~"
   ]
  },
  {
   "cell_type": "markdown",
   "metadata": {},
   "source": [
    "<br><br><br><br><br><br><br><br>"
   ]
  },
  {
   "cell_type": "markdown",
   "metadata": {
    "slideshow": {
     "slide_type": "subslide"
    }
   },
   "source": [
    "<span class=\"header\">Recording history</span>\n",
    "\n",
    "### <div style=\"padding: 7vmin 0 0 0\">Inspecting changes</div>\n",
    "<br>\n",
    "\n",
    "`git diff` uses a pager (by default, [less](https://en.wikipedia.org/wiki/Less_(Unix))).\n",
    "\n",
    "To navigate in the pager:\n",
    "\n",
    "```\n",
    "SPACE   scroll one screen down\n",
    "b       scroll one screen up\n",
    "q       exit\n",
    "```\n",
    "Type `man less` and look at the \"COMMANDS\" section for more info.\n",
    "\n",
    "You can circumvent the pager."
   ]
  },
  {
   "cell_type": "code",
   "execution_count": 147,
   "metadata": {},
   "outputs": [
    {
     "name": "stdout",
     "output_type": "stream",
     "text": [
      "\u001b[1mdiff --git a/ms/enso_effect.md b/ms/enso_effect.md\u001b[m\n",
      "\u001b[1mindex c76dcd1..d6f38f4 100644\u001b[m\n",
      "\u001b[1m--- a/ms/enso_effect.md\u001b[m\n",
      "\u001b[1m+++ b/ms/enso_effect.md\u001b[m\n",
      "\u001b[36m@@ -2,12 +2,21 @@\u001b[m\n",
      " \u001b[m\n",
      " ## Introduction\u001b[m\n",
      " \u001b[m\n",
      "\u001b[32m+\u001b[m\u001b[32mAdd some intro.\u001b[m\n",
      "\u001b[32m+\u001b[m\n",
      " ## Methods\u001b[m\n",
      " \u001b[m\n",
      "\u001b[32m+\u001b[m\u001b[32mSome methods here.\u001b[m\n",
      "\u001b[32m+\u001b[m\n",
      " ## Results\u001b[m\n",
      " \u001b[m\n",
      "\u001b[32m+\u001b[m\u001b[32mAdd some results.\u001b[m\n",
      "\u001b[32m+\u001b[m\n",
      " ## Conclusion\u001b[m\n",
      "\u001b[32m+\u001b[m\n",
      " Twas brillig, and the slithy toves\u001b[m\n",
      " Did gyre and gimble in the wabe:\u001b[m\n",
      " All mimsy were the borogoves,\u001b[m\n",
      " And the mome raths outgrabe\u001b[m\n",
      "\u001b[32m+\u001b[m\n",
      "\u001b[32m+\u001b[m\u001b[32mNew thoughts.\u001b[m\n"
     ]
    }
   ],
   "source": [
    "git --no-pager diff HEAD"
   ]
  },
  {
   "cell_type": "markdown",
   "metadata": {},
   "source": [
    "<br><br><br><br><br><br><br><br>"
   ]
  },
  {
   "cell_type": "markdown",
   "metadata": {
    "slideshow": {
     "slide_type": "subslide"
    }
   },
   "source": [
    "<span class=\"header\">Recording history</span>\n",
    "\n",
    "### <div style=\"padding: 7vmin 0 0 0\">Inspecting changes</div>\n",
    "<br>\n",
    "\n",
    "`git show` shows one object. Applied to a commit, shows the log and changes made at that commit."
   ]
  },
  {
   "cell_type": "code",
   "execution_count": 150,
   "metadata": {},
   "outputs": [
    {
     "name": "stdout",
     "output_type": "stream",
     "text": [
      "\u001b[33mcommit d9454033548ea49b38d5fde792c74e172e8aca8a\u001b[m\n",
      "Author: Marie-Helene Burle <marie.burle@westgrid.ca>\n",
      "Date:   Fri Sep 11 11:35:18 2020 -0700\n",
      "\n",
      "    Add first draft enso ms\n",
      "\n",
      "\u001b[1mdiff --git a/ms/enso_effect.md b/ms/enso_effect.md\u001b[m\n",
      "\u001b[1mnew file mode 100644\u001b[m\n",
      "\u001b[1mindex 0000000..006458f\u001b[m\n",
      "\u001b[1m--- /dev/null\u001b[m\n",
      "\u001b[1m+++ b/ms/enso_effect.md\u001b[m\n",
      "\u001b[36m@@ -0,0 +1,9 @@\u001b[m\n",
      "\u001b[32m+\u001b[m\u001b[32m# Effect of ENSO on SST in the North Pacific between the years 2001 and 2019\u001b[m\n",
      "\u001b[32m+\u001b[m\n",
      "\u001b[32m+\u001b[m\u001b[32m## Introduction\u001b[m\n",
      "\u001b[32m+\u001b[m\n",
      "\u001b[32m+\u001b[m\u001b[32m## Methods\u001b[m\n",
      "\u001b[32m+\u001b[m\n",
      "\u001b[32m+\u001b[m\u001b[32m## Results\u001b[m\n",
      "\u001b[32m+\u001b[m\n",
      "\u001b[32m+\u001b[m\u001b[32m## Conclusion\u001b[m\n"
     ]
    }
   ],
   "source": [
    "git show d9454033"
   ]
  },
  {
   "cell_type": "markdown",
   "metadata": {},
   "source": [
    "<br><br><br><br><br><br><br><br>"
   ]
  },
  {
   "cell_type": "markdown",
   "metadata": {
    "cell_style": "center",
    "slideshow": {
     "slide_type": "slide"
    }
   },
   "source": [
    "## Working with branches"
   ]
  },
  {
   "cell_type": "markdown",
   "metadata": {
    "slideshow": {
     "slide_type": "subslide"
    }
   },
   "source": [
    "<span class=\"header\">Working with branches</span>\n",
    "\n",
    "### <div style=\"padding: 5vmin 0 0 0\">Putting aside for a while (stashing)</div>\n",
    "<br>\n",
    "\n",
    "**Before moving HEAD around (amongst branches or in the past), make sure to have a clean working directory.**\n",
    "\n",
    "If you aren't ready to create a commit (messy, unfinished changes, etc.), you can stash those changes and retrieve them later."
   ]
  },
  {
   "cell_type": "code",
   "execution_count": 151,
   "metadata": {},
   "outputs": [
    {
     "name": "stdout",
     "output_type": "stream",
     "text": [
      "On branch \u001b[1;33mmaster\u001b[m\n",
      "Changes to be committed:\n",
      "  (use \"git restore --staged <file>...\" to unstage)\n",
      "\t\u001b[32mmodified:   ms/enso_effect.md\u001b[m\n",
      "\n",
      "Changes not staged for commit:\n",
      "  (use \"git add <file>...\" to update what will be committed)\n",
      "  (use \"git restore <file>...\" to discard changes in working directory)\n",
      "\t\u001b[31mmodified:   ms/enso_effect.md\u001b[m\n",
      "\n"
     ]
    }
   ],
   "source": [
    "git status"
   ]
  },
  {
   "cell_type": "code",
   "execution_count": 152,
   "metadata": {},
   "outputs": [
    {
     "name": "stdout",
     "output_type": "stream",
     "text": [
      "Saved working directory and index state WIP on master: 7207059 add .gitignore with /result/\n"
     ]
    }
   ],
   "source": [
    "git stash -u"
   ]
  },
  {
   "cell_type": "code",
   "execution_count": 153,
   "metadata": {},
   "outputs": [
    {
     "name": "stdout",
     "output_type": "stream",
     "text": [
      "On branch \u001b[1;33mmaster\u001b[m\n",
      "nothing to commit, working tree clean\n"
     ]
    }
   ],
   "source": [
    "git status"
   ]
  },
  {
   "cell_type": "code",
   "execution_count": 154,
   "metadata": {},
   "outputs": [
    {
     "name": "stdout",
     "output_type": "stream",
     "text": [
      "On branch \u001b[1;33mmaster\u001b[m\n",
      "Changes to be committed:\n",
      "  (use \"git restore --staged <file>...\" to unstage)\n",
      "\t\u001b[32mmodified:   ms/enso_effect.md\u001b[m\n",
      "\n",
      "Changes not staged for commit:\n",
      "  (use \"git add <file>...\" to update what will be committed)\n",
      "  (use \"git restore <file>...\" to discard changes in working directory)\n",
      "\t\u001b[31mmodified:   ms/enso_effect.md\u001b[m\n",
      "\n"
     ]
    }
   ],
   "source": [
    "git stash apply --index"
   ]
  },
  {
   "cell_type": "code",
   "execution_count": 155,
   "metadata": {},
   "outputs": [
    {
     "name": "stdout",
     "output_type": "stream",
     "text": [
      "stash@{0}: WIP on master: 7207059 add .gitignore with /result/\n"
     ]
    }
   ],
   "source": [
    "git stash list"
   ]
  },
  {
   "cell_type": "code",
   "execution_count": 156,
   "metadata": {},
   "outputs": [
    {
     "name": "stdout",
     "output_type": "stream",
     "text": [
      "Dropped refs/stash@{0} (3156f4e0db3257eda67d9f4d078bef5e08a2b620)\n"
     ]
    }
   ],
   "source": [
    "git stash drop"
   ]
  },
  {
   "cell_type": "code",
   "execution_count": 157,
   "metadata": {},
   "outputs": [],
   "source": [
    "git stash list"
   ]
  },
  {
   "cell_type": "markdown",
   "metadata": {},
   "source": [
    "<br><br><br><br><br><br><br><br>"
   ]
  },
  {
   "cell_type": "markdown",
   "metadata": {
    "slideshow": {
     "slide_type": "subslide"
    }
   },
   "source": [
    "<span class=\"header\">Working with branches</span>\n",
    "\n",
    "### <div style=\"padding: 7vmin 0 0 0\">Putting aside for a while (stashing)</div>\n",
    "<br>\n",
    "\n",
    "A few notes:\n",
    "\n",
    "- You can apply a stash on a dirty directory\n",
    "- You can apply a stash on another branch\n",
    "- You can apply and drop a stash in one command with `git stash pop`, but the `--index` option is not available\n",
    "- You can have several stashes. In that case, Git always assumes you want to perform an action on the last one. If that is not the case, you have to provide the name of the stash you want to use (e.g. `git stash apply stash@{1}`. You can find that name with `git stash list`)."
   ]
  },
  {
   "cell_type": "code",
   "execution_count": 158,
   "metadata": {},
   "outputs": [],
   "source": [
    "git stash list"
   ]
  },
  {
   "cell_type": "code",
   "execution_count": 159,
   "metadata": {},
   "outputs": [
    {
     "name": "stdout",
     "output_type": "stream",
     "text": [
      "On branch \u001b[1;33mmaster\u001b[m\n",
      "Changes to be committed:\n",
      "  (use \"git restore --staged <file>...\" to unstage)\n",
      "\t\u001b[32mmodified:   ms/enso_effect.md\u001b[m\n",
      "\n",
      "Changes not staged for commit:\n",
      "  (use \"git add <file>...\" to update what will be committed)\n",
      "  (use \"git restore <file>...\" to discard changes in working directory)\n",
      "\t\u001b[31mmodified:   ms/enso_effect.md\u001b[m\n",
      "\n"
     ]
    }
   ],
   "source": [
    "git status"
   ]
  },
  {
   "cell_type": "code",
   "execution_count": 160,
   "metadata": {},
   "outputs": [
    {
     "name": "stdout",
     "output_type": "stream",
     "text": [
      "Saved working directory and index state WIP on master: 7207059 add .gitignore with /result/\n"
     ]
    }
   ],
   "source": [
    "git stash"
   ]
  },
  {
   "cell_type": "code",
   "execution_count": 161,
   "metadata": {},
   "outputs": [
    {
     "name": "stdout",
     "output_type": "stream",
     "text": [
      "On branch \u001b[1;33mmaster\u001b[m\n",
      "nothing to commit, working tree clean\n"
     ]
    }
   ],
   "source": [
    "git status"
   ]
  },
  {
   "cell_type": "code",
   "execution_count": 162,
   "metadata": {},
   "outputs": [
    {
     "name": "stdout",
     "output_type": "stream",
     "text": [
      "stash@{0}: WIP on master: 7207059 add .gitignore with /result/\n"
     ]
    }
   ],
   "source": [
    "git stash list"
   ]
  },
  {
   "cell_type": "code",
   "execution_count": 163,
   "metadata": {},
   "outputs": [],
   "source": [
    "touch ms/acidity.md"
   ]
  },
  {
   "cell_type": "code",
   "execution_count": 164,
   "metadata": {},
   "outputs": [
    {
     "name": "stdout",
     "output_type": "stream",
     "text": [
      "On branch \u001b[1;33mmaster\u001b[m\n",
      "Untracked files:\n",
      "  (use \"git add <file>...\" to include in what will be committed)\n",
      "\t\u001b[31mms/acidity.md\u001b[m\n",
      "\n",
      "nothing added to commit but untracked files present (use \"git add\" to track)\n"
     ]
    }
   ],
   "source": [
    "git status"
   ]
  },
  {
   "cell_type": "code",
   "execution_count": 165,
   "metadata": {},
   "outputs": [
    {
     "name": "stdout",
     "output_type": "stream",
     "text": [
      "No local changes to save\n"
     ]
    }
   ],
   "source": [
    "git stash"
   ]
  },
  {
   "cell_type": "code",
   "execution_count": 166,
   "metadata": {},
   "outputs": [
    {
     "name": "stdout",
     "output_type": "stream",
     "text": [
      "On branch \u001b[1;33mmaster\u001b[m\n",
      "Untracked files:\n",
      "  (use \"git add <file>...\" to include in what will be committed)\n",
      "\t\u001b[31mms/acidity.md\u001b[m\n",
      "\n",
      "nothing added to commit but untracked files present (use \"git add\" to track)\n"
     ]
    }
   ],
   "source": [
    "git status"
   ]
  },
  {
   "cell_type": "code",
   "execution_count": 167,
   "metadata": {},
   "outputs": [
    {
     "name": "stdout",
     "output_type": "stream",
     "text": [
      "Saved working directory and index state WIP on master: 7207059 add .gitignore with /result/\n"
     ]
    }
   ],
   "source": [
    "git stash -u"
   ]
  },
  {
   "cell_type": "code",
   "execution_count": 168,
   "metadata": {},
   "outputs": [
    {
     "name": "stdout",
     "output_type": "stream",
     "text": [
      "On branch \u001b[1;33mmaster\u001b[m\n",
      "nothing to commit, working tree clean\n"
     ]
    }
   ],
   "source": [
    "git status"
   ]
  },
  {
   "cell_type": "code",
   "execution_count": 169,
   "metadata": {},
   "outputs": [
    {
     "name": "stdout",
     "output_type": "stream",
     "text": [
      "stash@{0}: WIP on master: 7207059 add .gitignore with /result/\n",
      "stash@{1}: WIP on master: 7207059 add .gitignore with /result/\n"
     ]
    }
   ],
   "source": [
    "git stash list"
   ]
  },
  {
   "cell_type": "code",
   "execution_count": 170,
   "metadata": {},
   "outputs": [
    {
     "name": "stdout",
     "output_type": "stream",
     "text": [
      "On branch \u001b[1;33mmaster\u001b[m\n",
      "Changes not staged for commit:\n",
      "  (use \"git add <file>...\" to update what will be committed)\n",
      "  (use \"git restore <file>...\" to discard changes in working directory)\n",
      "\t\u001b[31mmodified:   ms/enso_effect.md\u001b[m\n",
      "\n",
      "no changes added to commit (use \"git add\" and/or \"git commit -a\")\n"
     ]
    }
   ],
   "source": [
    "git stash apply stash@{1}"
   ]
  },
  {
   "cell_type": "code",
   "execution_count": 171,
   "metadata": {},
   "outputs": [
    {
     "name": "stdout",
     "output_type": "stream",
     "text": [
      "stash@{0}: WIP on master: 7207059 add .gitignore with /result/\n",
      "stash@{1}: WIP on master: 7207059 add .gitignore with /result/\n"
     ]
    }
   ],
   "source": [
    "git stash list"
   ]
  },
  {
   "cell_type": "code",
   "execution_count": 172,
   "metadata": {},
   "outputs": [
    {
     "name": "stdout",
     "output_type": "stream",
     "text": [
      "Saved working directory and index state WIP on master: 7207059 add .gitignore with /result/\n"
     ]
    }
   ],
   "source": [
    "git stash"
   ]
  },
  {
   "cell_type": "code",
   "execution_count": 173,
   "metadata": {},
   "outputs": [
    {
     "name": "stdout",
     "output_type": "stream",
     "text": [
      "stash@{0}: WIP on master: 7207059 add .gitignore with /result/\n",
      "stash@{1}: WIP on master: 7207059 add .gitignore with /result/\n",
      "stash@{2}: WIP on master: 7207059 add .gitignore with /result/\n"
     ]
    }
   ],
   "source": [
    "git stash list"
   ]
  },
  {
   "cell_type": "code",
   "execution_count": 174,
   "metadata": {},
   "outputs": [
    {
     "name": "stdout",
     "output_type": "stream",
     "text": [
      "On branch \u001b[1;33mmaster\u001b[m\n",
      "nothing to commit, working tree clean\n"
     ]
    }
   ],
   "source": [
    "git status"
   ]
  },
  {
   "cell_type": "code",
   "execution_count": 175,
   "metadata": {},
   "outputs": [
    {
     "name": "stdout",
     "output_type": "stream",
     "text": [
      "\u001b[0m\u001b[01;34m.\u001b[0m  \u001b[01;34m..\u001b[0m  \u001b[01;34m.git\u001b[0m  .gitignore  \u001b[01;34mms\u001b[0m  \u001b[01;34mresult\u001b[0m  \u001b[01;34msrc\u001b[0m\n"
     ]
    }
   ],
   "source": [
    "ls -a"
   ]
  },
  {
   "cell_type": "code",
   "execution_count": 176,
   "metadata": {},
   "outputs": [
    {
     "name": "stdout",
     "output_type": "stream",
     "text": [
      "\u001b[01;34m.\u001b[00m\n",
      "├── \u001b[01;34mms\u001b[00m\n",
      "│   └── enso_effect.md\n",
      "├── \u001b[01;34mresult\u001b[00m\n",
      "│   └── \u001b[01;35mgraph.png\u001b[00m\n",
      "└── \u001b[01;34msrc\u001b[00m\n",
      "    └── enso_model.py\n",
      "\n",
      "3 directories, 3 files\n"
     ]
    }
   ],
   "source": [
    "tree"
   ]
  },
  {
   "cell_type": "code",
   "execution_count": 177,
   "metadata": {},
   "outputs": [
    {
     "name": "stdout",
     "output_type": "stream",
     "text": [
      "# Effect of ENSO on SST in the North Pacific between the years 2001 and 2019\n",
      "\n",
      "## Introduction\n",
      "\n",
      "## Methods\n",
      "\n",
      "## Results\n",
      "\n",
      "## Conclusion\n",
      "Twas brillig, and the slithy toves\n",
      "Did gyre and gimble in the wabe:\n",
      "All mimsy were the borogoves,\n",
      "And the mome raths outgrabe\n"
     ]
    }
   ],
   "source": [
    "cat ms/enso_effect.md"
   ]
  },
  {
   "cell_type": "markdown",
   "metadata": {},
   "source": [
    "<br><br><br><br><br><br><br><br>"
   ]
  },
  {
   "cell_type": "markdown",
   "metadata": {
    "slideshow": {
     "slide_type": "subslide"
    }
   },
   "source": [
    "<span class=\"header\">Working with branches</span>\n",
    "\n",
    "### <div style=\"padding: 3vmin 0 0 0\">Creating branches</div>\n",
    "<br>\n",
    "\n",
    "#### <div style=\"text-align: left\">\"master\"</div>\n",
    "\n",
    "When you initialized your repository with `git init`, a branch got created. It is called master (you could rename it to something else if you wanted—that initial branch, despite its name, has nothing special).\n",
    "\n",
    "So as soon as you start working on your project, there is one branch (master) and you are on it."
   ]
  },
  {
   "cell_type": "markdown",
   "metadata": {
    "slideshow": {
     "slide_type": "subslide"
    }
   },
   "source": [
    "<span class=\"header\">Working with branches</span>\n",
    "\n",
    "### <div style=\"padding: 5vmin 0 0 0\">Creating branches</div>\n",
    "\n",
    "#### <div style=\"text-align: left\">Additional branches</div>\n",
    "\n",
    "You can create additional branches with `git branch <branch-name>`."
   ]
  },
  {
   "cell_type": "code",
   "execution_count": 178,
   "metadata": {},
   "outputs": [
    {
     "name": "stdout",
     "output_type": "stream",
     "text": [
      "* \u001b[1;33mmaster\u001b[m\n"
     ]
    }
   ],
   "source": [
    "git branch"
   ]
  },
  {
   "cell_type": "code",
   "execution_count": 179,
   "metadata": {},
   "outputs": [],
   "source": [
    "git branch test"
   ]
  },
  {
   "cell_type": "code",
   "execution_count": 180,
   "metadata": {},
   "outputs": [
    {
     "name": "stdout",
     "output_type": "stream",
     "text": [
      "* \u001b[1;33mmaster\u001b[m\n",
      "  \u001b[33mtest\u001b[m\n"
     ]
    }
   ],
   "source": [
    "git branch"
   ]
  },
  {
   "cell_type": "code",
   "execution_count": 181,
   "metadata": {},
   "outputs": [
    {
     "name": "stdout",
     "output_type": "stream",
     "text": [
      "On branch \u001b[1;33mmaster\u001b[m\n",
      "nothing to commit, working tree clean\n"
     ]
    }
   ],
   "source": [
    "git status"
   ]
  },
  {
   "cell_type": "markdown",
   "metadata": {},
   "source": [
    "<br><br><br><br><br><br><br><br>"
   ]
  },
  {
   "cell_type": "markdown",
   "metadata": {
    "slideshow": {
     "slide_type": "subslide"
    }
   },
   "source": [
    "<span class=\"header\"><font color=\"#e66700\">**Under the hood**</font></span>\n",
    "<br><br>\n",
    "![](img/diagrams/21.png)"
   ]
  },
  {
   "cell_type": "markdown",
   "metadata": {
    "slideshow": {
     "slide_type": "subslide"
    }
   },
   "source": [
    "<span class=\"header\"><font color=\"#e66700\">**Under the hood**</font></span>\n",
    "<br><br>\n",
    "![](img/diagrams/22.png)"
   ]
  },
  {
   "cell_type": "markdown",
   "metadata": {
    "slideshow": {
     "slide_type": "subslide"
    }
   },
   "source": [
    "<span class=\"header\"><font color=\"#e66700\">**Under the hood**</font></span>\n",
    "<br><br>\n",
    "![](img/diagrams/23.png)"
   ]
  },
  {
   "cell_type": "markdown",
   "metadata": {
    "slideshow": {
     "slide_type": "subslide"
    }
   },
   "source": [
    "<span class=\"header\">Working with branches</span>\n",
    "\n",
    "### <div style=\"padding: 7vmin 0 0 0\">Switching branch</div>\n",
    "<br>\n",
    "\n",
    "To switch branch, you use `git checkout <branch-name>`."
   ]
  },
  {
   "cell_type": "code",
   "execution_count": 182,
   "metadata": {},
   "outputs": [
    {
     "name": "stdout",
     "output_type": "stream",
     "text": [
      "* \u001b[1;33mmaster\u001b[m\n",
      "  \u001b[33mtest\u001b[m\n"
     ]
    }
   ],
   "source": [
    "git branch"
   ]
  },
  {
   "cell_type": "code",
   "execution_count": 183,
   "metadata": {},
   "outputs": [
    {
     "name": "stdout",
     "output_type": "stream",
     "text": [
      "Switched to branch 'test'\n"
     ]
    }
   ],
   "source": [
    "git checkout test"
   ]
  },
  {
   "cell_type": "code",
   "execution_count": 184,
   "metadata": {},
   "outputs": [
    {
     "name": "stdout",
     "output_type": "stream",
     "text": [
      "  \u001b[33mmaster\u001b[m\n",
      "* \u001b[1;33mtest\u001b[m\n"
     ]
    }
   ],
   "source": [
    "git branch"
   ]
  },
  {
   "cell_type": "code",
   "execution_count": 185,
   "metadata": {},
   "outputs": [
    {
     "name": "stdout",
     "output_type": "stream",
     "text": [
      "On branch \u001b[1;33mtest\u001b[m\n",
      "nothing to commit, working tree clean\n"
     ]
    }
   ],
   "source": [
    "git status"
   ]
  },
  {
   "cell_type": "markdown",
   "metadata": {},
   "source": [
    "<br><br><br><br><br><br><br><br>"
   ]
  },
  {
   "cell_type": "markdown",
   "metadata": {
    "slideshow": {
     "slide_type": "subslide"
    }
   },
   "source": [
    "<span class=\"header\"><font color=\"#e66700\">**Under the hood**</font></span>\n",
    "<br><br>\n",
    "![](img/diagrams/23.png)"
   ]
  },
  {
   "cell_type": "markdown",
   "metadata": {
    "slideshow": {
     "slide_type": "subslide"
    }
   },
   "source": [
    "<span class=\"header\"><font color=\"#e66700\">**Under the hood**</font></span>\n",
    "<br><br>\n",
    "![](img/diagrams/24.png)"
   ]
  },
  {
   "cell_type": "markdown",
   "metadata": {
    "slideshow": {
     "slide_type": "subslide"
    }
   },
   "source": [
    "<span class=\"header\">Working with branches</span>\n",
    "\n",
    "### <div style=\"padding: 7vmin 0 0 0\">Creating a branch & switching to it immediately</div>\n",
    "<br>\n",
    "\n",
    "When you create a branch, most of the time you want to switch to it. So there is a command which allows to create a branch and switch to it immediately without having to do this in two steps: `git checkout -b <branch-name>`.\n",
    "\n",
    "This command is convenient: when you create a branch with `git branch <branch-name>`, it is very easy to forget to switch to the new branch before making commits!"
   ]
  },
  {
   "cell_type": "code",
   "execution_count": 186,
   "metadata": {},
   "outputs": [
    {
     "name": "stdout",
     "output_type": "stream",
     "text": [
      "Switched to branch 'master'\n"
     ]
    }
   ],
   "source": [
    "git checkout master"
   ]
  },
  {
   "cell_type": "code",
   "execution_count": 187,
   "metadata": {},
   "outputs": [
    {
     "name": "stdout",
     "output_type": "stream",
     "text": [
      "* \u001b[1;33mmaster\u001b[m\n",
      "  \u001b[33mtest\u001b[m\n"
     ]
    }
   ],
   "source": [
    "git branch"
   ]
  },
  {
   "cell_type": "code",
   "execution_count": 189,
   "metadata": {},
   "outputs": [
    {
     "name": "stdout",
     "output_type": "stream",
     "text": [
      "Switched to a new branch 'dev'\n"
     ]
    }
   ],
   "source": [
    "git checkout -b dev"
   ]
  },
  {
   "cell_type": "code",
   "execution_count": 190,
   "metadata": {},
   "outputs": [
    {
     "name": "stdout",
     "output_type": "stream",
     "text": [
      "* \u001b[1;33mdev\u001b[m\n",
      "  \u001b[33mmaster\u001b[m\n",
      "  \u001b[33mtest\u001b[m\n"
     ]
    }
   ],
   "source": [
    "git branch"
   ]
  },
  {
   "cell_type": "markdown",
   "metadata": {},
   "source": [
    "<br><br><br><br><br><br><br><br>"
   ]
  },
  {
   "cell_type": "markdown",
   "metadata": {
    "slideshow": {
     "slide_type": "subslide"
    }
   },
   "source": [
    "<span class=\"header\">Working with branches</span>\n",
    "\n",
    "### <div style=\"padding: 7vmin 0 0 0\">Creating commits on the new branch</div>"
   ]
  },
  {
   "cell_type": "code",
   "execution_count": 191,
   "metadata": {},
   "outputs": [
    {
     "name": "stdout",
     "output_type": "stream",
     "text": [
      "Switched to branch 'test'\n"
     ]
    }
   ],
   "source": [
    "git checkout test"
   ]
  },
  {
   "cell_type": "code",
   "execution_count": 192,
   "metadata": {},
   "outputs": [],
   "source": [
    "touch src/acidity.py"
   ]
  },
  {
   "cell_type": "code",
   "execution_count": 193,
   "metadata": {},
   "outputs": [
    {
     "name": "stdout",
     "output_type": "stream",
     "text": [
      "On branch \u001b[1;33mtest\u001b[m\n",
      "Untracked files:\n",
      "  (use \"git add <file>...\" to include in what will be committed)\n",
      "\t\u001b[31msrc/acidity.py\u001b[m\n",
      "\n",
      "nothing added to commit but untracked files present (use \"git add\" to track)\n"
     ]
    }
   ],
   "source": [
    "git status"
   ]
  },
  {
   "cell_type": "code",
   "execution_count": 194,
   "metadata": {},
   "outputs": [],
   "source": [
    "git add src/acidity.py"
   ]
  },
  {
   "cell_type": "code",
   "execution_count": 195,
   "metadata": {},
   "outputs": [
    {
     "name": "stdout",
     "output_type": "stream",
     "text": [
      "[test d1169e0] Add new acidity script\n",
      " 1 file changed, 0 insertions(+), 0 deletions(-)\n",
      " create mode 100644 src/acidity.py\n"
     ]
    }
   ],
   "source": [
    "git commit -m \"Add new acidity script\""
   ]
  },
  {
   "cell_type": "code",
   "execution_count": 196,
   "metadata": {},
   "outputs": [],
   "source": [
    "echo \"Some content\" >> src/acidity.py"
   ]
  },
  {
   "cell_type": "code",
   "execution_count": 197,
   "metadata": {},
   "outputs": [
    {
     "name": "stdout",
     "output_type": "stream",
     "text": [
      "On branch \u001b[1;33mtest\u001b[m\n",
      "Changes not staged for commit:\n",
      "  (use \"git add <file>...\" to update what will be committed)\n",
      "  (use \"git restore <file>...\" to discard changes in working directory)\n",
      "\t\u001b[31mmodified:   src/acidity.py\u001b[m\n",
      "\n",
      "no changes added to commit (use \"git add\" and/or \"git commit -a\")\n"
     ]
    }
   ],
   "source": [
    "git status"
   ]
  },
  {
   "cell_type": "code",
   "execution_count": 198,
   "metadata": {},
   "outputs": [
    {
     "name": "stdout",
     "output_type": "stream",
     "text": [
      "[test cc7ab28] Add some content to acidity script\n",
      " 1 file changed, 1 insertion(+)\n"
     ]
    }
   ],
   "source": [
    "git commit -a -m \"Add some content to acidity script\""
   ]
  },
  {
   "cell_type": "code",
   "execution_count": 199,
   "metadata": {},
   "outputs": [
    {
     "name": "stdout",
     "output_type": "stream",
     "text": [
      "On branch \u001b[1;33mtest\u001b[m\n",
      "nothing to commit, working tree clean\n"
     ]
    }
   ],
   "source": [
    "git status"
   ]
  },
  {
   "cell_type": "code",
   "execution_count": 200,
   "metadata": {},
   "outputs": [
    {
     "name": "stdout",
     "output_type": "stream",
     "text": [
      "\u001b[01;34m.\u001b[00m\n",
      "├── \u001b[01;34mms\u001b[00m\n",
      "│   └── enso_effect.md\n",
      "├── \u001b[01;34mresult\u001b[00m\n",
      "│   └── \u001b[01;35mgraph.png\u001b[00m\n",
      "└── \u001b[01;34msrc\u001b[00m\n",
      "    ├── acidity.py\n",
      "    └── enso_model.py\n",
      "\n",
      "3 directories, 4 files\n"
     ]
    }
   ],
   "source": [
    "tree"
   ]
  },
  {
   "cell_type": "code",
   "execution_count": 201,
   "metadata": {},
   "outputs": [
    {
     "name": "stdout",
     "output_type": "stream",
     "text": [
      "Switched to branch 'master'\n"
     ]
    }
   ],
   "source": [
    "git checkout master"
   ]
  },
  {
   "cell_type": "code",
   "execution_count": 202,
   "metadata": {},
   "outputs": [
    {
     "name": "stdout",
     "output_type": "stream",
     "text": [
      "On branch \u001b[1;33mmaster\u001b[m\n",
      "nothing to commit, working tree clean\n"
     ]
    }
   ],
   "source": [
    "git status"
   ]
  },
  {
   "cell_type": "code",
   "execution_count": 203,
   "metadata": {},
   "outputs": [
    {
     "name": "stdout",
     "output_type": "stream",
     "text": [
      "\u001b[01;34m.\u001b[00m\n",
      "├── \u001b[01;34mms\u001b[00m\n",
      "│   └── enso_effect.md\n",
      "├── \u001b[01;34mresult\u001b[00m\n",
      "│   └── \u001b[01;35mgraph.png\u001b[00m\n",
      "└── \u001b[01;34msrc\u001b[00m\n",
      "    └── enso_model.py\n",
      "\n",
      "3 directories, 3 files\n"
     ]
    }
   ],
   "source": [
    "tree"
   ]
  },
  {
   "cell_type": "code",
   "execution_count": 204,
   "metadata": {},
   "outputs": [
    {
     "name": "stdout",
     "output_type": "stream",
     "text": [
      "Switched to branch 'test'\n"
     ]
    }
   ],
   "source": [
    "git checkout test"
   ]
  },
  {
   "cell_type": "code",
   "execution_count": 205,
   "metadata": {},
   "outputs": [
    {
     "name": "stdout",
     "output_type": "stream",
     "text": [
      "\u001b[01;34m.\u001b[00m\n",
      "├── \u001b[01;34mms\u001b[00m\n",
      "│   └── enso_effect.md\n",
      "├── \u001b[01;34mresult\u001b[00m\n",
      "│   └── \u001b[01;35mgraph.png\u001b[00m\n",
      "└── \u001b[01;34msrc\u001b[00m\n",
      "    ├── acidity.py\n",
      "    └── enso_model.py\n",
      "\n",
      "3 directories, 4 files\n"
     ]
    }
   ],
   "source": [
    "tree"
   ]
  },
  {
   "cell_type": "markdown",
   "metadata": {},
   "source": [
    "<br><br><br><br><br><br><br><br>"
   ]
  },
  {
   "cell_type": "markdown",
   "metadata": {
    "slideshow": {
     "slide_type": "subslide"
    }
   },
   "source": [
    "<span class=\"header\"><font color=\"#e66700\">**Under the hood**</font></span>\n",
    "<br><br>\n",
    "![](img/diagrams/24.png)"
   ]
  },
  {
   "cell_type": "markdown",
   "metadata": {
    "slideshow": {
     "slide_type": "subslide"
    }
   },
   "source": [
    "<span class=\"header\"><font color=\"#e66700\">**Under the hood**</font></span>\n",
    "<br><br>\n",
    "![](img/diagrams/25.png)"
   ]
  },
  {
   "cell_type": "markdown",
   "metadata": {
    "slideshow": {
     "slide_type": "subslide"
    }
   },
   "source": [
    "<span class=\"header\"><font color=\"#e66700\">**Under the hood**</font></span>\n",
    "<br><br>\n",
    "![](img/diagrams/26.png)"
   ]
  },
  {
   "cell_type": "markdown",
   "metadata": {
    "slideshow": {
     "slide_type": "subslide"
    }
   },
   "source": [
    "<span class=\"header\"><font color=\"#e66700\">**Under the hood**</font></span>\n",
    "<br><br>\n",
    "![](img/diagrams/27.png)"
   ]
  },
  {
   "cell_type": "markdown",
   "metadata": {
    "slideshow": {
     "slide_type": "subslide"
    }
   },
   "source": [
    "<span class=\"header\"><font color=\"#e66700\">**Under the hood**</font></span>\n",
    "<br><br>\n",
    "![](img/diagrams/26.png)"
   ]
  },
  {
   "cell_type": "markdown",
   "metadata": {
    "slideshow": {
     "slide_type": "subslide"
    }
   },
   "source": [
    "<span class=\"header\">Working with branches</span>\n",
    "\n",
    "### <div style=\"padding: 7vmin 0 0 0\">Comparing branches</div>\n",
    "<br>"
   ]
  },
  {
   "cell_type": "code",
   "execution_count": 206,
   "metadata": {},
   "outputs": [
    {
     "name": "stdout",
     "output_type": "stream",
     "text": [
      "\u001b[1mdiff --git a/src/acidity.py b/src/acidity.py\u001b[m\n",
      "\u001b[1mdeleted file mode 100644\u001b[m\n",
      "\u001b[1mindex 0ee3895..0000000\u001b[m\n",
      "\u001b[1m--- a/src/acidity.py\u001b[m\n",
      "\u001b[1m+++ /dev/null\u001b[m\n",
      "\u001b[36m@@ -1 +0,0 @@\u001b[m\n",
      "\u001b[31m-Some content\u001b[m\n"
     ]
    }
   ],
   "source": [
    "git diff test master"
   ]
  },
  {
   "cell_type": "code",
   "execution_count": 207,
   "metadata": {},
   "outputs": [
    {
     "name": "stdout",
     "output_type": "stream",
     "text": [
      "\u001b[1mdiff --git a/src/acidity.py b/src/acidity.py\u001b[m\n",
      "\u001b[1mnew file mode 100644\u001b[m\n",
      "\u001b[1mindex 0000000..0ee3895\u001b[m\n",
      "\u001b[1m--- /dev/null\u001b[m\n",
      "\u001b[1m+++ b/src/acidity.py\u001b[m\n",
      "\u001b[36m@@ -0,0 +1 @@\u001b[m\n",
      "\u001b[32m+\u001b[m\u001b[32mSome content\u001b[m\n"
     ]
    }
   ],
   "source": [
    "git diff master test"
   ]
  },
  {
   "cell_type": "code",
   "execution_count": 208,
   "metadata": {},
   "outputs": [],
   "source": [
    "git diff dev master"
   ]
  },
  {
   "cell_type": "code",
   "execution_count": 209,
   "metadata": {},
   "outputs": [
    {
     "name": "stdout",
     "output_type": "stream",
     "text": [
      "\u001b[1mdiff --git a/src/acidity.py b/src/acidity.py\u001b[m\n",
      "\u001b[1mnew file mode 100644\u001b[m\n",
      "\u001b[1mindex 0000000..0ee3895\u001b[m\n",
      "\u001b[1m--- /dev/null\u001b[m\n",
      "\u001b[1m+++ b/src/acidity.py\u001b[m\n",
      "\u001b[36m@@ -0,0 +1 @@\u001b[m\n",
      "\u001b[32m+\u001b[m\u001b[32mSome content\u001b[m\n"
     ]
    }
   ],
   "source": [
    "git diff dev test"
   ]
  },
  {
   "cell_type": "code",
   "execution_count": 210,
   "metadata": {},
   "outputs": [
    {
     "name": "stdout",
     "output_type": "stream",
     "text": [
      "\u001b[01;34m.\u001b[00m\n",
      "├── \u001b[01;34mms\u001b[00m\n",
      "│   └── enso_effect.md\n",
      "├── \u001b[01;34mresult\u001b[00m\n",
      "│   └── \u001b[01;35mgraph.png\u001b[00m\n",
      "└── \u001b[01;34msrc\u001b[00m\n",
      "    ├── acidity.py\n",
      "    └── enso_model.py\n",
      "\n",
      "3 directories, 4 files\n"
     ]
    }
   ],
   "source": [
    "tree"
   ]
  },
  {
   "cell_type": "code",
   "execution_count": 211,
   "metadata": {},
   "outputs": [
    {
     "name": "stdout",
     "output_type": "stream",
     "text": [
      "/result/\n"
     ]
    }
   ],
   "source": [
    "cat .gitignore"
   ]
  },
  {
   "cell_type": "code",
   "execution_count": 212,
   "metadata": {},
   "outputs": [
    {
     "name": "stdout",
     "output_type": "stream",
     "text": [
      "  \u001b[33mdev\u001b[m\n",
      "  \u001b[33mmaster\u001b[m\n",
      "* \u001b[1;33mtest\u001b[m\n"
     ]
    }
   ],
   "source": [
    "git branch"
   ]
  },
  {
   "cell_type": "code",
   "execution_count": 215,
   "metadata": {},
   "outputs": [
    {
     "name": "stdout",
     "output_type": "stream",
     "text": [
      "Switched to branch 'test'\n"
     ]
    }
   ],
   "source": [
    "git checkout test"
   ]
  },
  {
   "cell_type": "code",
   "execution_count": 214,
   "metadata": {},
   "outputs": [
    {
     "name": "stdout",
     "output_type": "stream",
     "text": [
      "\u001b[01;34m.\u001b[00m\n",
      "├── \u001b[01;34mms\u001b[00m\n",
      "│   └── enso_effect.md\n",
      "├── \u001b[01;34mresult\u001b[00m\n",
      "│   └── \u001b[01;35mgraph.png\u001b[00m\n",
      "└── \u001b[01;34msrc\u001b[00m\n",
      "    └── enso_model.py\n",
      "\n",
      "3 directories, 3 files\n"
     ]
    }
   ],
   "source": [
    "tree"
   ]
  },
  {
   "cell_type": "markdown",
   "metadata": {},
   "source": [
    "<br><br><br><br><br><br><br><br>"
   ]
  },
  {
   "cell_type": "markdown",
   "metadata": {
    "cell_style": "split",
    "slideshow": {
     "slide_type": "subslide"
    }
   },
   "source": [
    "<span class=\"header\">Working with branches</span>\n",
    "\n",
    "### <div style=\"padding: 5vmin 0 0 0\">Merging branches</div>\n",
    "<br>\n",
    "\n",
    "One thing that makes Git branches powerful is—as we just saw—how easy it is to create new branches and to switch from one branch to another. Another thing is how easy it is to merge branches together.\n",
    "\n",
    "If you created an experimental branch and are happy with the result, you'll want to merge it into your main branch.\n",
    "\n",
    "First, switch to the main development branch, then merge your experimental branch into the main branch:\n",
    "\n",
    "```sh\n",
    "git merge <branch-to-merge-into-current-branch>\n",
    "```"
   ]
  },
  {
   "cell_type": "markdown",
   "metadata": {
    "cell_style": "split",
    "slideshow": {
     "slide_type": "-"
    }
   },
   "source": [
    "<br><br><br>\n",
    "<figure style=\"display: table; margin: 0 auto\">\n",
    "  <center>\n",
    "    <img src=\"https://imgs.xkcd.com/comics/algorithms.png\" title=\"\" width=\"1000vmin\" style=\"padding: 2vmin 0 0 0\">\n",
    "  </center>\n",
    "  <div align=\"right\" style=\"color: #978282; line-height: 0; font-size: 2vmin\">\n",
    "    <em>\n",
    "      from <a href=\"https://xkcd.com/\">xkcd.com</a>\n",
    "    </em>\n",
    "  </div>\n",
    "</figure>"
   ]
  },
  {
   "cell_type": "markdown",
   "metadata": {
    "cell_style": "center",
    "slideshow": {
     "slide_type": "subslide"
    }
   },
   "source": [
    "<span class=\"header\">Working with branches</span>\n",
    "\n",
    "### <div style=\"padding: 7vmin 0 0 0\">Merging branches</div>\n",
    "\n",
    "#### <div style=\"text-align: left\">Fast-forward merge</div>"
   ]
  },
  {
   "cell_type": "code",
   "execution_count": 216,
   "metadata": {},
   "outputs": [
    {
     "name": "stdout",
     "output_type": "stream",
     "text": [
      "  \u001b[33mdev\u001b[m\n",
      "  \u001b[33mmaster\u001b[m\n",
      "* \u001b[1;33mtest\u001b[m\n"
     ]
    }
   ],
   "source": [
    "git branch"
   ]
  },
  {
   "cell_type": "code",
   "execution_count": 217,
   "metadata": {},
   "outputs": [
    {
     "name": "stdout",
     "output_type": "stream",
     "text": [
      "Switched to branch 'master'\n"
     ]
    }
   ],
   "source": [
    "git checkout master"
   ]
  },
  {
   "cell_type": "code",
   "execution_count": 218,
   "metadata": {},
   "outputs": [
    {
     "name": "stdout",
     "output_type": "stream",
     "text": [
      "  \u001b[33mdev\u001b[m\n",
      "* \u001b[1;33mmaster\u001b[m\n",
      "  \u001b[33mtest\u001b[m\n"
     ]
    }
   ],
   "source": [
    "git branch"
   ]
  },
  {
   "cell_type": "code",
   "execution_count": 219,
   "metadata": {},
   "outputs": [
    {
     "name": "stdout",
     "output_type": "stream",
     "text": [
      "Updating 7207059..cc7ab28\n",
      "Fast-forward\n",
      " src/acidity.py | 1 \u001b[32m+\u001b[m\n",
      " 1 file changed, 1 insertion(+)\n",
      " create mode 100644 src/acidity.py\n"
     ]
    }
   ],
   "source": [
    "git merge test"
   ]
  },
  {
   "cell_type": "markdown",
   "metadata": {},
   "source": [
    "<br><br><br><br><br><br><br><br>"
   ]
  },
  {
   "cell_type": "markdown",
   "metadata": {
    "slideshow": {
     "slide_type": "subslide"
    }
   },
   "source": [
    "<span class=\"header\"><font color=\"#e66700\">**Under the hood**</font></span>\n",
    "<br><br>\n",
    "![](img/diagrams/26.png)"
   ]
  },
  {
   "cell_type": "markdown",
   "metadata": {
    "slideshow": {
     "slide_type": "subslide"
    }
   },
   "source": [
    "<span class=\"header\"><font color=\"#e66700\">**Under the hood**</font></span>\n",
    "<br><br>\n",
    "![](img/diagrams/27.png)"
   ]
  },
  {
   "cell_type": "markdown",
   "metadata": {
    "slideshow": {
     "slide_type": "subslide"
    }
   },
   "source": [
    "<span class=\"header\"><font color=\"#e66700\">**Under the hood**</font></span>\n",
    "<br><br>\n",
    "![](img/diagrams/28.png)"
   ]
  },
  {
   "cell_type": "markdown",
   "metadata": {
    "slideshow": {
     "slide_type": "subslide"
    }
   },
   "source": [
    "<span class=\"header\">Working with branches</span>\n",
    "\n",
    "### <div style=\"padding: 5vmin 0 0 0\">Deleting branches</div>\n",
    "<br>\n",
    "\n",
    "Once you have merged a branch into another or if you decide that the experiments on a branch are not worth keeping, you can delete that branch.\n",
    "\n",
    "To do so, we could run `git branch -d test`, but we will keep it for now as it will be useful later on."
   ]
  },
  {
   "cell_type": "markdown",
   "metadata": {
    "slideshow": {
     "slide_type": "subslide"
    }
   },
   "source": [
    "<span class=\"header\"><font color=\"#e66700\">**Under the hood**</font></span>\n",
    "<br><br>\n",
    "![](img/diagrams/28.png)"
   ]
  },
  {
   "cell_type": "markdown",
   "metadata": {
    "slideshow": {
     "slide_type": "subslide"
    }
   },
   "source": [
    "<span class=\"header\"><font color=\"#e66700\">**Under the hood**</font></span>\n",
    "<br><br>\n",
    "![](img/diagrams/29.png)"
   ]
  },
  {
   "cell_type": "markdown",
   "metadata": {
    "cell_style": "center",
    "slideshow": {
     "slide_type": "subslide"
    }
   },
   "source": [
    "<span class=\"header\">Working with branches</span>\n",
    "\n",
    "### <div style=\"padding: 7vmin 0 0 0\">Merging branches</div>\n",
    "\n",
    "#### <div style=\"text-align: left\">Merge commit</div>"
   ]
  },
  {
   "cell_type": "code",
   "execution_count": 220,
   "metadata": {},
   "outputs": [
    {
     "name": "stdout",
     "output_type": "stream",
     "text": [
      "  \u001b[33mdev\u001b[m\n",
      "* \u001b[1;33mmaster\u001b[m\n",
      "  \u001b[33mtest\u001b[m\n"
     ]
    }
   ],
   "source": [
    "git branch"
   ]
  },
  {
   "cell_type": "code",
   "execution_count": 221,
   "metadata": {},
   "outputs": [
    {
     "name": "stdout",
     "output_type": "stream",
     "text": [
      "Switched to a new branch 'test2'\n"
     ]
    }
   ],
   "source": [
    "git checkout -b test2"
   ]
  },
  {
   "cell_type": "code",
   "execution_count": 222,
   "metadata": {},
   "outputs": [],
   "source": [
    "echo \"Some edits to the enso ms\" >> ms/enso_effect.md"
   ]
  },
  {
   "cell_type": "code",
   "execution_count": 223,
   "metadata": {},
   "outputs": [
    {
     "name": "stdout",
     "output_type": "stream",
     "text": [
      "On branch \u001b[1;33mtest2\u001b[m\n",
      "Changes not staged for commit:\n",
      "  (use \"git add <file>...\" to update what will be committed)\n",
      "  (use \"git restore <file>...\" to discard changes in working directory)\n",
      "\t\u001b[31mmodified:   ms/enso_effect.md\u001b[m\n",
      "\n",
      "no changes added to commit (use \"git add\" and/or \"git commit -a\")\n"
     ]
    }
   ],
   "source": [
    "git status"
   ]
  },
  {
   "cell_type": "code",
   "execution_count": 224,
   "metadata": {},
   "outputs": [
    {
     "name": "stdout",
     "output_type": "stream",
     "text": [
      "[test2 fa4187d] Edit enso ms\n",
      " 1 file changed, 1 insertion(+)\n"
     ]
    }
   ],
   "source": [
    "git commit -a -m \"Edit enso ms\""
   ]
  },
  {
   "cell_type": "code",
   "execution_count": 225,
   "metadata": {},
   "outputs": [
    {
     "name": "stdout",
     "output_type": "stream",
     "text": [
      "Switched to branch 'master'\n"
     ]
    }
   ],
   "source": [
    "git checkout master"
   ]
  },
  {
   "cell_type": "code",
   "execution_count": 226,
   "metadata": {},
   "outputs": [],
   "source": [
    "echo \"Add some code to the script\" >> src/enso_model.py"
   ]
  },
  {
   "cell_type": "code",
   "execution_count": 227,
   "metadata": {},
   "outputs": [
    {
     "name": "stdout",
     "output_type": "stream",
     "text": [
      "[master e343951] Add code enso script\n",
      " 1 file changed, 1 insertion(+)\n"
     ]
    }
   ],
   "source": [
    "git commit -a -m \"Add code enso script\""
   ]
  },
  {
   "cell_type": "code",
   "execution_count": 228,
   "metadata": {},
   "outputs": [
    {
     "name": "stdout",
     "output_type": "stream",
     "text": [
      "On branch \u001b[1;33mmaster\u001b[m\n",
      "nothing to commit, working tree clean\n"
     ]
    }
   ],
   "source": [
    "git status"
   ]
  },
  {
   "cell_type": "code",
   "execution_count": 229,
   "metadata": {},
   "outputs": [
    {
     "name": "stdout",
     "output_type": "stream",
     "text": [
      "hint: Waiting for your editor to close the file... Waiting for Emacs...\n",
      "\u001b[KMerge made by the 'recursive' strategy.\n",
      " ms/enso_effect.md | 1 \u001b[32m+\u001b[m\n",
      " 1 file changed, 1 insertion(+)\n"
     ]
    }
   ],
   "source": [
    "git merge test2"
   ]
  },
  {
   "cell_type": "markdown",
   "metadata": {},
   "source": [
    "<br><br><br><br><br><br><br><br>"
   ]
  },
  {
   "cell_type": "markdown",
   "metadata": {
    "slideshow": {
     "slide_type": "subslide"
    }
   },
   "source": [
    "<span class=\"header\"><font color=\"#e66700\">**Under the hood**</font></span>\n",
    "<br><br>\n",
    "![](img/diagrams/22.png)"
   ]
  },
  {
   "cell_type": "markdown",
   "metadata": {
    "slideshow": {
     "slide_type": "subslide"
    }
   },
   "source": [
    "<span class=\"header\"><font color=\"#e66700\">**Under the hood**</font></span>\n",
    "<br><br>\n",
    "![](img/diagrams/31.png)"
   ]
  },
  {
   "cell_type": "markdown",
   "metadata": {
    "slideshow": {
     "slide_type": "subslide"
    }
   },
   "source": [
    "<span class=\"header\"><font color=\"#e66700\">**Under the hood**</font></span>\n",
    "<br><br>\n",
    "![](img/diagrams/32.png)"
   ]
  },
  {
   "cell_type": "markdown",
   "metadata": {
    "slideshow": {
     "slide_type": "subslide"
    }
   },
   "source": [
    "<span class=\"header\"><font color=\"#e66700\">**Under the hood**</font></span>\n",
    "<br><br>\n",
    "![](img/diagrams/33.png)"
   ]
  },
  {
   "cell_type": "markdown",
   "metadata": {
    "slideshow": {
     "slide_type": "subslide"
    }
   },
   "source": [
    "<span class=\"header\"><font color=\"#e66700\">**Under the hood**</font></span>\n",
    "<br><br>\n",
    "![](img/diagrams/34.png)"
   ]
  },
  {
   "cell_type": "markdown",
   "metadata": {
    "slideshow": {
     "slide_type": "subslide"
    }
   },
   "source": [
    "<span class=\"header\"><font color=\"#e66700\">**Under the hood**</font></span>\n",
    "<br><br>\n",
    "![](img/diagrams/35.png)"
   ]
  },
  {
   "cell_type": "markdown",
   "metadata": {
    "slideshow": {
     "slide_type": "subslide"
    }
   },
   "source": [
    "<span class=\"header\"><font color=\"#e66700\">**Under the hood**</font></span>\n",
    "<br><br>\n",
    "![](img/diagrams/36.png)"
   ]
  },
  {
   "cell_type": "markdown",
   "metadata": {
    "slideshow": {
     "slide_type": "subslide"
    }
   },
   "source": [
    "<span class=\"header\"><font color=\"#e66700\">**Under the hood**</font></span>\n",
    "<br><br>\n",
    "![](img/diagrams/37.png)"
   ]
  },
  {
   "cell_type": "markdown",
   "metadata": {
    "slideshow": {
     "slide_type": "subslide"
    }
   },
   "source": [
    "<span class=\"header\"><font color=\"#e66700\">**Under the hood**</font></span>\n",
    "<br><br>\n",
    "![](img/diagrams/38.png)"
   ]
  },
  {
   "cell_type": "markdown",
   "metadata": {
    "slideshow": {
     "slide_type": "subslide"
    }
   },
   "source": [
    "<span class=\"header\"><font color=\"#e66700\">**Under the hood**</font></span>\n",
    "<br><br>\n",
    "![](img/diagrams/39.png)"
   ]
  },
  {
   "cell_type": "markdown",
   "metadata": {
    "slideshow": {
     "slide_type": "subslide"
    }
   },
   "source": [
    "<span class=\"header\">Working with branches</span>\n",
    "\n",
    "### <div style=\"padding: 5vmin 0 0 0\">Merge conflicts</div>\n",
    "\n",
    "As you were developing your experimental branch, maybe you were also developing your main branch. As long as the differences between the branches do not overlap (you have been working on different parts of the project in each branch, which can include different parts of the same file), there is no problem.\n",
    "\n",
    "If the two branches contain different versions of the same part of a file however, Git cannot know which of the versions you want to keep. The merge will then be interrupted and Git will ask you to resolve the conflict(s) before the merge can be completed.\n",
    "\n",
    "Conflicts will look like this:\n",
    "\n",
    "```sh\n",
    "<<<<<<< HEAD\n",
    "Version of this section of the file on your checkedout branch\n",
    "=======\n",
    "Alternative version of the same section of the file\n",
    ">>>>>>> alternative version\n",
    "```"
   ]
  },
  {
   "cell_type": "markdown",
   "metadata": {
    "slideshow": {
     "slide_type": "subslide"
    }
   },
   "source": [
    "<span class=\"header\">Working with branches</span>\n",
    "\n",
    "### <div style=\"padding: 5vmin 0 0 0\">Merge conflicts</div>"
   ]
  },
  {
   "cell_type": "code",
   "execution_count": 230,
   "metadata": {},
   "outputs": [
    {
     "name": "stdout",
     "output_type": "stream",
     "text": [
      "  \u001b[33mdev\u001b[m\n",
      "* \u001b[1;33mmaster\u001b[m\n",
      "  \u001b[33mtest\u001b[m\n",
      "  \u001b[33mtest2\u001b[m\n"
     ]
    }
   ],
   "source": [
    "git branch"
   ]
  },
  {
   "cell_type": "code",
   "execution_count": 231,
   "metadata": {},
   "outputs": [
    {
     "name": "stdout",
     "output_type": "stream",
     "text": [
      "Switched to a new branch 'test3'\n"
     ]
    }
   ],
   "source": [
    "git checkout -b test3"
   ]
  },
  {
   "cell_type": "code",
   "execution_count": 232,
   "metadata": {},
   "outputs": [
    {
     "name": "stdout",
     "output_type": "stream",
     "text": [
      "On branch \u001b[1;33mtest3\u001b[m\n",
      "nothing to commit, working tree clean\n"
     ]
    }
   ],
   "source": [
    "git status"
   ]
  },
  {
   "cell_type": "code",
   "execution_count": 233,
   "metadata": {},
   "outputs": [
    {
     "name": "stdout",
     "output_type": "stream",
     "text": [
      "Waiting for Emacs...\n"
     ]
    }
   ],
   "source": [
    "emacsclient -c ms/enso_effect.md"
   ]
  },
  {
   "cell_type": "code",
   "execution_count": 234,
   "metadata": {},
   "outputs": [
    {
     "name": "stdout",
     "output_type": "stream",
     "text": [
      "[test3 2405b50] Make some edits intro enso ms\n",
      " 1 file changed, 2 insertions(+)\n"
     ]
    }
   ],
   "source": [
    "git commit -a -m \"Make some edits intro enso ms\""
   ]
  },
  {
   "cell_type": "code",
   "execution_count": 235,
   "metadata": {},
   "outputs": [
    {
     "name": "stdout",
     "output_type": "stream",
     "text": [
      "Switched to branch 'master'\n"
     ]
    }
   ],
   "source": [
    "git checkout master"
   ]
  },
  {
   "cell_type": "code",
   "execution_count": 236,
   "metadata": {},
   "outputs": [
    {
     "name": "stdout",
     "output_type": "stream",
     "text": [
      "Waiting for Emacs...\n"
     ]
    }
   ],
   "source": [
    "emacsclient -c ms/enso_effect.md"
   ]
  },
  {
   "cell_type": "code",
   "execution_count": 237,
   "metadata": {},
   "outputs": [
    {
     "name": "stdout",
     "output_type": "stream",
     "text": [
      "\u001b[1mdiff --git a/ms/enso_effect.md b/ms/enso_effect.md\u001b[m\n",
      "\u001b[1mindex 21370ec..5d4265c 100644\u001b[m\n",
      "\u001b[1m--- a/ms/enso_effect.md\u001b[m\n",
      "\u001b[1m+++ b/ms/enso_effect.md\u001b[m\n",
      "\u001b[36m@@ -2,6 +2,8 @@\u001b[m\n",
      " \u001b[m\n",
      " ## Introduction\u001b[m\n",
      " \u001b[m\n",
      "\u001b[32m+\u001b[m\u001b[32mSome other intro on master.\u001b[m\n",
      "\u001b[32m+\u001b[m\n",
      " ## Methods\u001b[m\n",
      " \u001b[m\n",
      " ## Results\u001b[m\n"
     ]
    }
   ],
   "source": [
    "git diff"
   ]
  },
  {
   "cell_type": "code",
   "execution_count": 238,
   "metadata": {},
   "outputs": [
    {
     "name": "stdout",
     "output_type": "stream",
     "text": [
      "[master 26aa2cd] Make conflicting edits enso ms\n",
      " 1 file changed, 2 insertions(+)\n"
     ]
    }
   ],
   "source": [
    "git commit -a -m \"Make conflicting edits enso ms\""
   ]
  },
  {
   "cell_type": "code",
   "execution_count": 239,
   "metadata": {},
   "outputs": [
    {
     "name": "stdout",
     "output_type": "stream",
     "text": [
      "On branch \u001b[1;33mmaster\u001b[m\n",
      "nothing to commit, working tree clean\n"
     ]
    }
   ],
   "source": [
    "git status"
   ]
  },
  {
   "cell_type": "code",
   "execution_count": null,
   "metadata": {},
   "outputs": [],
   "source": [
    "git status"
   ]
  },
  {
   "cell_type": "code",
   "execution_count": 240,
   "metadata": {},
   "outputs": [
    {
     "name": "stdout",
     "output_type": "stream",
     "text": [
      "Auto-merging ms/enso_effect.md\n",
      "CONFLICT (content): Merge conflict in ms/enso_effect.md\n",
      "Automatic merge failed; fix conflicts and then commit the result.\n"
     ]
    }
   ],
   "source": [
    "git merge test3"
   ]
  },
  {
   "cell_type": "markdown",
   "metadata": {},
   "source": [
    "<br><br><br><br><br><br><br><br>"
   ]
  },
  {
   "cell_type": "markdown",
   "metadata": {
    "slideshow": {
     "slide_type": "subslide"
    }
   },
   "source": [
    "<span class=\"header\">Working with branches</span>\n",
    "\n",
    "### <div style=\"padding: 5vmin 0 0 0\">Resolving conflicts</div>\n",
    "<br>\n",
    "\n",
    "Merge tools allow you to jump from conflict to conflict within a file and ask you to decide which version you want to choose for each of them (you can also write a combination of the two)."
   ]
  },
  {
   "cell_type": "code",
   "execution_count": null,
   "metadata": {},
   "outputs": [],
   "source": [
    "git mergetool"
   ]
  },
  {
   "cell_type": "code",
   "execution_count": null,
   "metadata": {},
   "outputs": [],
   "source": [
    "git mergetool --tool-help"
   ]
  },
  {
   "cell_type": "markdown",
   "metadata": {},
   "source": [
    "<br><br><br><br><br><br><br><br>"
   ]
  },
  {
   "cell_type": "markdown",
   "metadata": {
    "slideshow": {
     "slide_type": "subslide"
    }
   },
   "source": [
    "<span class=\"header\">Working with branches</span>\n",
    "\n",
    "### <div style=\"padding: 6vmin 0 0 0\">Resolving conflicts</div>\n",
    "<br>\n",
    "\n",
    "If you don't use any merge tool, you can edit those sections manually in any text editor.\n",
    "\n",
    "You can also in one swoop keep *our* version (i.e. the version of the branch you are currently on or HEAD ) or all of *their* version (the alternative version of the file you are merging into your branch) for all of the sections.\n",
    "\n",
    "```sh\n",
    "git checkout --ours <file>\n",
    "git checkout --theirs <file>\n",
    "```"
   ]
  },
  {
   "cell_type": "code",
   "execution_count": null,
   "metadata": {},
   "outputs": [],
   "source": [
    "emacsclient -c ms/enso_effect.md"
   ]
  },
  {
   "cell_type": "code",
   "execution_count": null,
   "metadata": {},
   "outputs": [],
   "source": [
    "git status"
   ]
  },
  {
   "cell_type": "code",
   "execution_count": null,
   "metadata": {},
   "outputs": [],
   "source": [
    "git add ms/enso_effect.md"
   ]
  },
  {
   "cell_type": "code",
   "execution_count": null,
   "metadata": {},
   "outputs": [],
   "source": [
    "git commit"
   ]
  },
  {
   "cell_type": "code",
   "execution_count": null,
   "metadata": {},
   "outputs": [],
   "source": [
    "git status"
   ]
  },
  {
   "cell_type": "markdown",
   "metadata": {},
   "source": [
    "<br><br><br><br><br><br><br><br>"
   ]
  },
  {
   "cell_type": "markdown",
   "metadata": {
    "cell_style": "center",
    "slideshow": {
     "slide_type": "slide"
    }
   },
   "source": [
    "## Exploring the past"
   ]
  },
  {
   "cell_type": "markdown",
   "metadata": {
    "slideshow": {
     "slide_type": "subslide"
    }
   },
   "source": [
    "<span class=\"header\">Exploring the past</span>\n",
    "\n",
    "### Overview of commit history\n",
    "<br>\n",
    "\n",
    "`git log` shows the log of commits."
   ]
  },
  {
   "cell_type": "markdown",
   "metadata": {
    "slideshow": {
     "slide_type": "fragment"
    }
   },
   "source": [
    "In its simplest form, it gives a list of past commits in a pager."
   ]
  },
  {
   "cell_type": "code",
   "execution_count": 9,
   "metadata": {},
   "outputs": [
    {
     "name": "stdout",
     "output_type": "stream",
     "text": [
      "\u001b[33mcommit 58bed3c4259632ad9a5cdd36a425077a12eebd21\u001b[m\u001b[33m (\u001b[m\u001b[1;36mHEAD -> \u001b[m\u001b[1;32mmaster\u001b[m\u001b[33m)\u001b[m\n",
      "Author: Marie-Helene Burle <marie.burle@westgrid.ca>\n",
      "Date:   Sun Sep 13 16:52:03 2020 -0700\n",
      "\n",
      "    Restore\n",
      "\n",
      "\u001b[33mcommit 25a79b34490b9cc31f2b71500b86f38efea045e5\u001b[m\n",
      "Author: Marie-Helene Burle <marie.burle@westgrid.ca>\n",
      "Date:   Sun Sep 13 16:48:13 2020 -0700\n",
      "\n",
      "    add tut\n",
      "\n",
      "\u001b[33mcommit f628a259ef29855da56e904a56e575cfcb51b703\u001b[m\n",
      "Author: Marie-Helene Burle <marie.burle@westgrid.ca>\n",
      "Date:   Sun Sep 13 16:48:02 2020 -0700\n",
      "\n",
      "    add tat\n",
      "\n",
      "\u001b[33mcommit f20e8a27b738c3ca2d5ceb1d60f7176e0d94b852\u001b[m\n",
      "Author: Marie-Helene Burle <marie.burle@westgrid.ca>\n",
      "Date:   Sun Sep 13 16:47:34 2020 -0700\n",
      "\n",
      "    add tut\n",
      "\n",
      "\u001b[33mcommit cec10427c61aa5444c26d63972d42740804684d4\u001b[m\n",
      "Author: Marie-Helene Burle <marie.burle@westgrid.ca>\n",
      "Date:   Sun Sep 13 16:47:24 2020 -0700\n",
      "\n",
      "    add tat\n",
      "\n",
      "\u001b[33mcommit ddb4f83b94cf99e3bd7708aff826000b38ddffb7\u001b[m\n",
      "Author: Marie-Helene Burle <marie.burle@westgrid.ca>\n",
      "Date:   Sun Sep 13 16:45:55 2020 -0700\n",
      "\n",
      "    test2\n",
      "\n",
      "\u001b[33mcommit dfabc7965836dec4961fc8d22513ece0bf31209e\u001b[m\n",
      "Author: Marie-Helene Burle <marie.burle@westgrid.ca>\n",
      "Date:   Sun Sep 13 16:40:09 2020 -0700\n",
      "\n",
      "    test1\n",
      "\n",
      "\u001b[33mcommit 6e0c38c38e894265aa562d9299589d307dc60324\u001b[m\n",
      "Author: Marie-Helene Burle <marie.burle@westgrid.ca>\n",
      "Date:   Sun Sep 13 16:36:38 2020 -0700\n",
      "\n",
      "    test\n",
      "\n",
      "\u001b[33mcommit 91ba70abb57c762d3466bf36dd348e65f7b711d8\u001b[m\n",
      "Merge: 26aa2cd 2405b50\n",
      "Author: Marie-Helene Burle <marie.burle@westgrid.ca>\n",
      "Date:   Fri Sep 11 15:03:45 2020 -0700\n",
      "\n",
      "    Merge branch 'test3' into master\n",
      "\n",
      "\u001b[33mcommit 26aa2cd6ec4908d7f886f20577def9567276cf02\u001b[m\n",
      "Author: Marie-Helene Burle <marie.burle@westgrid.ca>\n",
      "Date:   Fri Sep 11 14:40:54 2020 -0700\n",
      "\n",
      "    Make conflicting edits enso ms\n",
      "\n",
      "\u001b[33mcommit 2405b50b8f415b4387985225901b1863785b558e\u001b[m\u001b[33m (\u001b[m\u001b[1;32mtest3\u001b[m\u001b[33m)\u001b[m\n",
      "Author: Marie-Helene Burle <marie.burle@westgrid.ca>\n",
      "Date:   Fri Sep 11 14:36:42 2020 -0700\n",
      "\n",
      "    Make some edits intro enso ms\n",
      "\n",
      "\u001b[33mcommit 50eaaebda435082fa7b4336ca799a33917cc37e5\u001b[m\n",
      "Merge: e343951 fa4187d\n",
      "Author: Marie-Helene Burle <marie.burle@westgrid.ca>\n",
      "Date:   Fri Sep 11 14:22:02 2020 -0700\n",
      "\n",
      "    Merge branch 'test2' into master\n",
      "\n",
      "\u001b[33mcommit e34395158fcc9d1ca1dfc43fb8ae5ecc61347f02\u001b[m\n",
      "Author: Marie-Helene Burle <marie.burle@westgrid.ca>\n",
      "Date:   Fri Sep 11 14:21:18 2020 -0700\n",
      "\n",
      "    Add code enso script\n",
      "\n",
      "\u001b[33mcommit fa4187d77a94f6903b36219c918e863123d13c2a\u001b[m\u001b[33m (\u001b[m\u001b[1;32mtest2\u001b[m\u001b[33m)\u001b[m\n",
      "Author: Marie-Helene Burle <marie.burle@westgrid.ca>\n",
      "Date:   Fri Sep 11 14:20:09 2020 -0700\n",
      "\n",
      "    Edit enso ms\n",
      "\n",
      "\u001b[33mcommit cc7ab28f213377399b66aa2f259091d107921141\u001b[m\u001b[33m (\u001b[m\u001b[1;32mtest\u001b[m\u001b[33m)\u001b[m\n",
      "Author: Marie-Helene Burle <marie.burle@westgrid.ca>\n",
      "Date:   Fri Sep 11 13:55:03 2020 -0700\n",
      "\n",
      "    Add some content to acidity script\n",
      "\n",
      "\u001b[33mcommit d1169e09bc1ad692d5bbfeb49160b29c909254f8\u001b[m\n",
      "Author: Marie-Helene Burle <marie.burle@westgrid.ca>\n",
      "Date:   Fri Sep 11 13:54:04 2020 -0700\n",
      "\n",
      "    Add new acidity script\n",
      "\n",
      "\u001b[33mcommit 7207059432f467debaa8d75827f08196951a152d\u001b[m\u001b[33m (\u001b[m\u001b[1;32mdev\u001b[m\u001b[33m)\u001b[m\n",
      "Author: Marie-Helene Burle <marie.burle@westgrid.ca>\n",
      "Date:   Fri Sep 11 11:46:43 2020 -0700\n",
      "\n",
      "    add .gitignore with /result/\n",
      "\n",
      "\u001b[33mcommit 86ee292fe241fdefa628379d962941e741f0ea36\u001b[m\n",
      "Author: Marie-Helene Burle <marie.burle@westgrid.ca>\n",
      "Date:   Fri Sep 11 11:46:05 2020 -0700\n",
      "\n",
      "    Add Jabberwock to ms and script\n",
      "\n",
      "\u001b[33mcommit d9454033548ea49b38d5fde792c74e172e8aca8a\u001b[m\n",
      "Author: Marie-Helene Burle <marie.burle@westgrid.ca>\n",
      "Date:   Fri Sep 11 11:35:18 2020 -0700\n",
      "\n",
      "    Add first draft enso ms\n",
      "\n",
      "\u001b[33mcommit b8d72d15ab02bdc1f6dc14422cf52eeb39a2bba0\u001b[m\u001b[33m (\u001b[m\u001b[1;33mtag: J_Climate_2009\u001b[m\u001b[33m)\u001b[m\n",
      "Author: Marie-Helene Burle <marie.burle@westgrid.ca>\n",
      "Date:   Fri Sep 11 10:40:06 2020 -0700\n",
      "\n",
      "    Change end date enso script to 2019\n",
      "\n",
      "\u001b[33mcommit 6f21c25496863d8c735800d465f5c879d7639a6a\u001b[m\n",
      "Author: Marie-Helene Burle <marie.burle@westgrid.ca>\n",
      "Date:   Fri Sep 11 10:22:07 2020 -0700\n",
      "\n",
      "    Initial commit\n"
     ]
    }
   ],
   "source": [
    "git log"
   ]
  },
  {
   "cell_type": "markdown",
   "metadata": {},
   "source": [
    "<br><br><br><br><br><br><br><br>"
   ]
  },
  {
   "cell_type": "markdown",
   "metadata": {
    "slideshow": {
     "slide_type": "subslide"
    }
   },
   "source": [
    "<span class=\"header\">Exploring the past</span>\n",
    "\n",
    "### <div style=\"padding: 5vmin 0 0 0\">Overview of commit history</div>\n",
    "<br>\n",
    "\n",
    "This log can be customized greatly by playing with the various flags."
   ]
  },
  {
   "cell_type": "code",
   "execution_count": 10,
   "metadata": {
    "slideshow": {
     "slide_type": "-"
    }
   },
   "outputs": [
    {
     "name": "stdout",
     "output_type": "stream",
     "text": [
      "\u001b[33m58bed3c\u001b[m\u001b[33m (\u001b[m\u001b[1;36mHEAD -> \u001b[m\u001b[1;32mmaster\u001b[m\u001b[33m)\u001b[m Restore\n",
      "\u001b[33m25a79b3\u001b[m add tut\n",
      "\u001b[33mf628a25\u001b[m add tat\n",
      "\u001b[33mf20e8a2\u001b[m add tut\n",
      "\u001b[33mcec1042\u001b[m add tat\n",
      "\u001b[33mddb4f83\u001b[m test2\n",
      "\u001b[33mdfabc79\u001b[m test1\n",
      "\u001b[33m6e0c38c\u001b[m test\n",
      "\u001b[33m91ba70a\u001b[m Merge branch 'test3' into master\n",
      "\u001b[33m26aa2cd\u001b[m Make conflicting edits enso ms\n",
      "\u001b[33m2405b50\u001b[m\u001b[33m (\u001b[m\u001b[1;32mtest3\u001b[m\u001b[33m)\u001b[m Make some edits intro enso ms\n",
      "\u001b[33m50eaaeb\u001b[m Merge branch 'test2' into master\n",
      "\u001b[33me343951\u001b[m Add code enso script\n",
      "\u001b[33mfa4187d\u001b[m\u001b[33m (\u001b[m\u001b[1;32mtest2\u001b[m\u001b[33m)\u001b[m Edit enso ms\n",
      "\u001b[33mcc7ab28\u001b[m\u001b[33m (\u001b[m\u001b[1;32mtest\u001b[m\u001b[33m)\u001b[m Add some content to acidity script\n",
      "\u001b[33md1169e0\u001b[m Add new acidity script\n",
      "\u001b[33m7207059\u001b[m\u001b[33m (\u001b[m\u001b[1;32mdev\u001b[m\u001b[33m)\u001b[m add .gitignore with /result/\n",
      "\u001b[33m86ee292\u001b[m Add Jabberwock to ms and script\n",
      "\u001b[33md945403\u001b[m Add first draft enso ms\n",
      "\u001b[33mb8d72d1\u001b[m\u001b[33m (\u001b[m\u001b[1;33mtag: J_Climate_2009\u001b[m\u001b[33m)\u001b[m Change end date enso script to 2019\n",
      "\u001b[33m6f21c25\u001b[m Initial commit\n"
     ]
    }
   ],
   "source": [
    "git log --oneline"
   ]
  },
  {
   "cell_type": "code",
   "execution_count": 4,
   "metadata": {},
   "outputs": [
    {
     "name": "stdout",
     "output_type": "stream",
     "text": [
      "GIT-LOG(1)                        Git Manual                        GIT-LOG(1)\n",
      "\n",
      "NAME\n",
      "       git-log - Show commit logs\n",
      "\n",
      "SYNOPSIS\n",
      "       git log [<options>] [<revision range>] [[--] <path>...]\n",
      "\n",
      "DESCRIPTION\n",
      "       Shows the commit logs.\n",
      "\n",
      "       The command takes options applicable to the git rev-list command to\n",
      "       control what is shown and how, and options applicable to the git diff-*\n",
      "       commands to control how the changes each commit introduces are shown.\n",
      "\n",
      "OPTIONS\n",
      "       --follow\n",
      "           Continue listing the history of a file beyond renames (works only\n",
      "           for a single file).\n",
      "\n",
      "       --no-decorate, --decorate[=short|full|auto|no]\n",
      "           Print out the ref names of any commits that are shown. If short is\n",
      "           specified, the ref name prefixes refs/heads/, refs/tags/ and\n",
      "           refs/remotes/ will not be printed. If full is specified, the full\n",
      "           ref name (including prefix) will be printed. If auto is specified,\n",
      "           then if the output is going to a terminal, the ref names are shown\n",
      "           as if short were given, otherwise no ref names are shown. The\n",
      "           default option is short.\n",
      "\n",
      "       --decorate-refs=<pattern>, --decorate-refs-exclude=<pattern>\n",
      "           If no --decorate-refs is given, pretend as if all refs were\n",
      "           included. For each candidate, do not use it for decoration if it\n",
      "           matches any patterns given to --decorate-refs-exclude or if it\n",
      "           doesn’t match any of the patterns given to --decorate-refs. The\n",
      "           log.excludeDecoration config option allows excluding refs from the\n",
      "           decorations, but an explicit --decorate-refs pattern will override\n",
      "           a match in log.excludeDecoration.\n",
      "\n",
      "       --source\n",
      "           Print out the ref name given on the command line by which each\n",
      "           commit was reached.\n",
      "\n",
      "       --[no-]mailmap, --[no-]use-mailmap\n",
      "           Use mailmap file to map author and committer names and email\n",
      "           addresses to canonical real names and email addresses. See git-\n",
      "           shortlog(1).\n",
      "\n",
      "       --full-diff\n",
      "           Without this flag, git log -p <path>...  shows commits that touch\n",
      "           the specified paths, and diffs about the same specified paths. With\n",
      "           this, the full diff is shown for commits that touch the specified\n",
      "           paths; this means that \"<path>...\" limits only commits, and doesn’t\n",
      "           limit diff for those commits.\n",
      "\n",
      "           Note that this affects all diff-based output types, e.g. those\n",
      "           produced by --stat, etc.\n",
      "\n",
      "       --log-size\n",
      "           Include a line “log size <number>” in the output for each commit,\n",
      "           where <number> is the length of that commit’s message in bytes.\n",
      "           Intended to speed up tools that read log messages from git log\n",
      "           output by allowing them to allocate space in advance.\n",
      "\n",
      "       -L <start>,<end>:<file>, -L :<funcname>:<file>\n",
      "           Trace the evolution of the line range given by \"<start>,<end>\" (or\n",
      "           the function name regex <funcname>) within the <file>. You may not\n",
      "           give any pathspec limiters. This is currently limited to a walk\n",
      "           starting from a single revision, i.e., you may only give zero or\n",
      "           one positive revision arguments, and <start> and <end> (or\n",
      "           <funcname>) must exist in the starting revision. You can specify\n",
      "           this option more than once. Implies --patch. Patch output can be\n",
      "           suppressed using --no-patch, but other diff formats (namely --raw,\n",
      "           --numstat, --shortstat, --dirstat, --summary, --name-only,\n",
      "           --name-status, --check) are not currently implemented.\n",
      "\n",
      "           <start> and <end> can take one of these forms:\n",
      "\n",
      "           •   number\n",
      "\n",
      "               If <start> or <end> is a number, it specifies an absolute line\n",
      "               number (lines count from 1).\n",
      "\n",
      "           •   /regex/\n",
      "\n",
      "               This form will use the first line matching the given POSIX\n",
      "               regex. If <start> is a regex, it will search from the end of\n",
      "               the previous -L range, if any, otherwise from the start of\n",
      "               file. If <start> is “^/regex/”, it will search from the start\n",
      "               of file. If <end> is a regex, it will search starting at the\n",
      "               line given by <start>.\n",
      "\n",
      "           •   +offset or -offset\n",
      "\n",
      "               This is only valid for <end> and will specify a number of lines\n",
      "               before or after the line given by <start>.\n",
      "\n",
      "           If “:<funcname>” is given in place of <start> and <end>, it is a\n",
      "           regular expression that denotes the range from the first funcname\n",
      "           line that matches <funcname>, up to the next funcname line.\n",
      "           “:<funcname>” searches from the end of the previous -L range, if\n",
      "           any, otherwise from the start of file. “^:<funcname>” searches from\n",
      "           the start of file.\n",
      "\n",
      "       <revision range>\n",
      "           Show only commits in the specified revision range. When no\n",
      "           <revision range> is specified, it defaults to HEAD (i.e. the whole\n",
      "           history leading to the current commit).  origin..HEAD specifies all\n",
      "           the commits reachable from the current commit (i.e.  HEAD), but not\n",
      "           from origin. For a complete list of ways to spell <revision range>,\n",
      "           see the Specifying Ranges section of gitrevisions(7).\n",
      "\n",
      "       [--] <path>...\n",
      "           Show only commits that are enough to explain how the files that\n",
      "           match the specified paths came to be. See History Simplification\n",
      "           below for details and other simplification modes.\n",
      "\n",
      "           Paths may need to be prefixed with -- to separate them from options\n",
      "           or the revision range, when confusion arises.\n",
      "\n",
      "   Commit Limiting\n",
      "       Besides specifying a range of commits that should be listed using the\n",
      "       special notations explained in the description, additional commit\n",
      "       limiting may be applied.\n",
      "\n",
      "       Using more options generally further limits the output (e.g.\n",
      "       --since=<date1> limits to commits newer than <date1>, and using it with\n",
      "       --grep=<pattern> further limits to commits whose log message has a line\n",
      "       that matches <pattern>), unless otherwise noted.\n",
      "\n",
      "       Note that these are applied before commit ordering and formatting\n",
      "       options, such as --reverse.\n",
      "\n",
      "       -<number>, -n <number>, --max-count=<number>\n",
      "           Limit the number of commits to output.\n",
      "\n",
      "       --skip=<number>\n",
      "           Skip number commits before starting to show the commit output.\n",
      "\n",
      "       --since=<date>, --after=<date>\n",
      "           Show commits more recent than a specific date.\n",
      "\n",
      "       --until=<date>, --before=<date>\n",
      "           Show commits older than a specific date.\n",
      "\n",
      "       --author=<pattern>, --committer=<pattern>\n",
      "           Limit the commits output to ones with author/committer header lines\n",
      "           that match the specified pattern (regular expression). With more\n",
      "           than one --author=<pattern>, commits whose author matches any of\n",
      "           the given patterns are chosen (similarly for multiple\n",
      "           --committer=<pattern>).\n",
      "\n",
      "       --grep-reflog=<pattern>\n",
      "           Limit the commits output to ones with reflog entries that match the\n",
      "           specified pattern (regular expression). With more than one\n",
      "           --grep-reflog, commits whose reflog message matches any of the\n",
      "           given patterns are chosen. It is an error to use this option unless\n",
      "           --walk-reflogs is in use.\n",
      "\n",
      "       --grep=<pattern>\n",
      "           Limit the commits output to ones with log message that matches the\n",
      "           specified pattern (regular expression). With more than one\n",
      "           --grep=<pattern>, commits whose message matches any of the given\n",
      "           patterns are chosen (but see --all-match).\n",
      "\n",
      "           When --notes is in effect, the message from the notes is matched as\n",
      "           if it were part of the log message.\n",
      "\n",
      "       --all-match\n",
      "           Limit the commits output to ones that match all given --grep,\n",
      "           instead of ones that match at least one.\n",
      "\n",
      "       --invert-grep\n",
      "           Limit the commits output to ones with log message that do not match\n",
      "           the pattern specified with --grep=<pattern>.\n",
      "\n",
      "       -i, --regexp-ignore-case\n"
     ]
    },
    {
     "name": "stdout",
     "output_type": "stream",
     "text": [
      "           Match the regular expression limiting patterns without regard to\n",
      "           letter case.\n",
      "\n",
      "       --basic-regexp\n",
      "           Consider the limiting patterns to be basic regular expressions;\n",
      "           this is the default.\n",
      "\n",
      "       -E, --extended-regexp\n",
      "           Consider the limiting patterns to be extended regular expressions\n",
      "           instead of the default basic regular expressions.\n",
      "\n",
      "       -F, --fixed-strings\n",
      "           Consider the limiting patterns to be fixed strings (don’t interpret\n",
      "           pattern as a regular expression).\n",
      "\n",
      "       -P, --perl-regexp\n",
      "           Consider the limiting patterns to be Perl-compatible regular\n",
      "           expressions.\n",
      "\n",
      "           Support for these types of regular expressions is an optional\n",
      "           compile-time dependency. If Git wasn’t compiled with support for\n",
      "           them providing this option will cause it to die.\n",
      "\n",
      "       --remove-empty\n",
      "           Stop when a given path disappears from the tree.\n",
      "\n",
      "       --merges\n",
      "           Print only merge commits. This is exactly the same as\n",
      "           --min-parents=2.\n",
      "\n",
      "       --no-merges\n",
      "           Do not print commits with more than one parent. This is exactly the\n",
      "           same as --max-parents=1.\n",
      "\n",
      "       --min-parents=<number>, --max-parents=<number>, --no-min-parents,\n",
      "       --no-max-parents\n",
      "           Show only commits which have at least (or at most) that many parent\n",
      "           commits. In particular, --max-parents=1 is the same as --no-merges,\n",
      "           --min-parents=2 is the same as --merges.  --max-parents=0 gives all\n",
      "           root commits and --min-parents=3 all octopus merges.\n",
      "\n",
      "           --no-min-parents and --no-max-parents reset these limits (to no\n",
      "           limit) again. Equivalent forms are --min-parents=0 (any commit has\n",
      "           0 or more parents) and --max-parents=-1 (negative numbers denote no\n",
      "           upper limit).\n",
      "\n",
      "       --first-parent\n",
      "           Follow only the first parent commit upon seeing a merge commit.\n",
      "           This option can give a better overview when viewing the evolution\n",
      "           of a particular topic branch, because merges into a topic branch\n",
      "           tend to be only about adjusting to updated upstream from time to\n",
      "           time, and this option allows you to ignore the individual commits\n",
      "           brought in to your history by such a merge. Cannot be combined with\n",
      "           --bisect.\n",
      "\n",
      "       --not\n",
      "           Reverses the meaning of the ^ prefix (or lack thereof) for all\n",
      "           following revision specifiers, up to the next --not.\n",
      "\n",
      "       --all\n",
      "           Pretend as if all the refs in refs/, along with HEAD, are listed on\n",
      "           the command line as <commit>.\n",
      "\n",
      "       --branches[=<pattern>]\n",
      "           Pretend as if all the refs in refs/heads are listed on the command\n",
      "           line as <commit>. If <pattern> is given, limit branches to ones\n",
      "           matching given shell glob. If pattern lacks ?, *, or [, /* at the\n",
      "           end is implied.\n",
      "\n",
      "       --tags[=<pattern>]\n",
      "           Pretend as if all the refs in refs/tags are listed on the command\n",
      "           line as <commit>. If <pattern> is given, limit tags to ones\n",
      "           matching given shell glob. If pattern lacks ?, *, or [, /* at the\n",
      "           end is implied.\n",
      "\n",
      "       --remotes[=<pattern>]\n",
      "           Pretend as if all the refs in refs/remotes are listed on the\n",
      "           command line as <commit>. If <pattern> is given, limit\n",
      "           remote-tracking branches to ones matching given shell glob. If\n",
      "           pattern lacks ?, *, or [, /* at the end is implied.\n",
      "\n",
      "       --glob=<glob-pattern>\n",
      "           Pretend as if all the refs matching shell glob <glob-pattern> are\n",
      "           listed on the command line as <commit>. Leading refs/, is\n",
      "           automatically prepended if missing. If pattern lacks ?, *, or [, /*\n",
      "           at the end is implied.\n",
      "\n",
      "       --exclude=<glob-pattern>\n",
      "           Do not include refs matching <glob-pattern> that the next --all,\n",
      "           --branches, --tags, --remotes, or --glob would otherwise consider.\n",
      "           Repetitions of this option accumulate exclusion patterns up to the\n",
      "           next --all, --branches, --tags, --remotes, or --glob option (other\n",
      "           options or arguments do not clear accumulated patterns).\n",
      "\n",
      "           The patterns given should not begin with refs/heads, refs/tags, or\n",
      "           refs/remotes when applied to --branches, --tags, or --remotes,\n",
      "           respectively, and they must begin with refs/ when applied to --glob\n",
      "           or --all. If a trailing /* is intended, it must be given\n",
      "           explicitly.\n",
      "\n",
      "       --reflog\n",
      "           Pretend as if all objects mentioned by reflogs are listed on the\n",
      "           command line as <commit>.\n",
      "\n",
      "       --alternate-refs\n",
      "           Pretend as if all objects mentioned as ref tips of alternate\n",
      "           repositories were listed on the command line. An alternate\n",
      "           repository is any repository whose object directory is specified in\n",
      "           objects/info/alternates. The set of included objects may be\n",
      "           modified by core.alternateRefsCommand, etc. See git-config(1).\n",
      "\n",
      "       --single-worktree\n",
      "           By default, all working trees will be examined by the following\n",
      "           options when there are more than one (see git-worktree(1)): --all,\n",
      "           --reflog and --indexed-objects. This option forces them to examine\n",
      "           the current working tree only.\n",
      "\n",
      "       --ignore-missing\n",
      "           Upon seeing an invalid object name in the input, pretend as if the\n",
      "           bad input was not given.\n",
      "\n",
      "       --bisect\n",
      "           Pretend as if the bad bisection ref refs/bisect/bad was listed and\n",
      "           as if it was followed by --not and the good bisection refs\n",
      "           refs/bisect/good-* on the command line. Cannot be combined with\n",
      "           --first-parent.\n",
      "\n",
      "       --stdin\n",
      "           In addition to the <commit> listed on the command line, read them\n",
      "           from the standard input. If a -- separator is seen, stop reading\n",
      "           commits and start reading paths to limit the result.\n",
      "\n",
      "       --cherry-mark\n",
      "           Like --cherry-pick (see below) but mark equivalent commits with =\n",
      "           rather than omitting them, and inequivalent ones with +.\n",
      "\n",
      "       --cherry-pick\n",
      "           Omit any commit that introduces the same change as another commit\n",
      "           on the “other side” when the set of commits are limited with\n",
      "           symmetric difference.\n",
      "\n",
      "           For example, if you have two branches, A and B, a usual way to list\n",
      "           all commits on only one side of them is with --left-right (see the\n",
      "           example below in the description of the --left-right option).\n",
      "           However, it shows the commits that were cherry-picked from the\n",
      "           other branch (for example, “3rd on b” may be cherry-picked from\n",
      "           branch A). With this option, such pairs of commits are excluded\n",
      "           from the output.\n",
      "\n",
      "       --left-only, --right-only\n",
      "           List only commits on the respective side of a symmetric difference,\n",
      "           i.e. only those which would be marked < resp.  > by --left-right.\n",
      "\n",
      "           For example, --cherry-pick --right-only A...B omits those commits\n",
      "           from B which are in A or are patch-equivalent to a commit in A. In\n",
      "           other words, this lists the + commits from git cherry A B. More\n",
      "           precisely, --cherry-pick --right-only --no-merges gives the exact\n",
      "           list.\n",
      "\n",
      "       --cherry\n",
      "           A synonym for --right-only --cherry-mark --no-merges; useful to\n",
      "           limit the output to the commits on our side and mark those that\n",
      "           have been applied to the other side of a forked history with git\n",
      "           log --cherry upstream...mybranch, similar to git cherry upstream\n",
      "           mybranch.\n",
      "\n",
      "       -g, --walk-reflogs\n",
      "           Instead of walking the commit ancestry chain, walk reflog entries\n",
      "           from the most recent one to older ones. When this option is used\n",
      "           you cannot specify commits to exclude (that is, ^commit,\n",
      "           commit1..commit2, and commit1...commit2 notations cannot be used).\n",
      "\n",
      "           With --pretty format other than oneline and reference (for obvious\n",
      "           reasons), this causes the output to have two extra lines of\n"
     ]
    },
    {
     "name": "stdout",
     "output_type": "stream",
     "text": [
      "           information taken from the reflog. The reflog designator in the\n",
      "           output may be shown as ref@{Nth} (where Nth is the\n",
      "           reverse-chronological index in the reflog) or as ref@{timestamp}\n",
      "           (with the timestamp for that entry), depending on a few rules:\n",
      "\n",
      "            1. If the starting point is specified as ref@{Nth}, show the index\n",
      "               format.\n",
      "\n",
      "            2. If the starting point was specified as ref@{now}, show the\n",
      "               timestamp format.\n",
      "\n",
      "            3. If neither was used, but --date was given on the command line,\n",
      "               show the timestamp in the format requested by --date.\n",
      "\n",
      "            4. Otherwise, show the index format.\n",
      "\n",
      "           Under --pretty=oneline, the commit message is prefixed with this\n",
      "           information on the same line. This option cannot be combined with\n",
      "           --reverse. See also git-reflog(1).\n",
      "\n",
      "           Under --pretty=reference, this information will not be shown at\n",
      "           all.\n",
      "\n",
      "       --merge\n",
      "           After a failed merge, show refs that touch files having a conflict\n",
      "           and don’t exist on all heads to merge.\n",
      "\n",
      "       --boundary\n",
      "           Output excluded boundary commits. Boundary commits are prefixed\n",
      "           with -.\n",
      "\n",
      "   History Simplification\n",
      "       Sometimes you are only interested in parts of the history, for example\n",
      "       the commits modifying a particular <path>. But there are two parts of\n",
      "       History Simplification, one part is selecting the commits and the other\n",
      "       is how to do it, as there are various strategies to simplify the\n",
      "       history.\n",
      "\n",
      "       The following options select the commits to be shown:\n",
      "\n",
      "       <paths>\n",
      "           Commits modifying the given <paths> are selected.\n",
      "\n",
      "       --simplify-by-decoration\n",
      "           Commits that are referred by some branch or tag are selected.\n",
      "\n",
      "       Note that extra commits can be shown to give a meaningful history.\n",
      "\n",
      "       The following options affect the way the simplification is performed:\n",
      "\n",
      "       Default mode\n",
      "           Simplifies the history to the simplest history explaining the final\n",
      "           state of the tree. Simplest because it prunes some side branches if\n",
      "           the end result is the same (i.e. merging branches with the same\n",
      "           content)\n",
      "\n",
      "       --show-pulls\n",
      "           Include all commits from the default mode, but also any merge\n",
      "           commits that are not TREESAME to the first parent but are TREESAME\n",
      "           to a later parent. This mode is helpful for showing the merge\n",
      "           commits that \"first introduced\" a change to a branch.\n",
      "\n",
      "       --full-history\n",
      "           Same as the default mode, but does not prune some history.\n",
      "\n",
      "       --dense\n",
      "           Only the selected commits are shown, plus some to have a meaningful\n",
      "           history.\n",
      "\n",
      "       --sparse\n",
      "           All commits in the simplified history are shown.\n",
      "\n",
      "       --simplify-merges\n",
      "           Additional option to --full-history to remove some needless merges\n",
      "           from the resulting history, as there are no selected commits\n",
      "           contributing to this merge.\n",
      "\n",
      "       --ancestry-path\n",
      "           When given a range of commits to display (e.g.  commit1..commit2 or\n",
      "           commit2 ^commit1), only display commits that exist directly on the\n",
      "           ancestry chain between the commit1 and commit2, i.e. commits that\n",
      "           are both descendants of commit1, and ancestors of commit2.\n",
      "\n",
      "       A more detailed explanation follows.\n",
      "\n",
      "       Suppose you specified foo as the <paths>. We shall call commits that\n",
      "       modify foo !TREESAME, and the rest TREESAME. (In a diff filtered for\n",
      "       foo, they look different and equal, respectively.)\n",
      "\n",
      "       In the following, we will always refer to the same example history to\n",
      "       illustrate the differences between simplification settings. We assume\n",
      "       that you are filtering for a file foo in this commit graph:\n",
      "\n",
      "                     .-A---M---N---O---P---Q\n",
      "                    /     /   /   /   /   /\n",
      "                   I     B   C   D   E   Y\n",
      "                    \\   /   /   /   /   /\n",
      "                     `-------------'   X\n",
      "\n",
      "       The horizontal line of history A---Q is taken to be the first parent of\n",
      "       each merge. The commits are:\n",
      "\n",
      "       •   I is the initial commit, in which foo exists with contents “asdf”,\n",
      "           and a file quux exists with contents “quux”. Initial commits are\n",
      "           compared to an empty tree, so I is !TREESAME.\n",
      "\n",
      "       •   In A, foo contains just “foo”.\n",
      "\n",
      "       •   B contains the same change as A. Its merge M is trivial and hence\n",
      "           TREESAME to all parents.\n",
      "\n",
      "       •   C does not change foo, but its merge N changes it to “foobar”, so\n",
      "           it is not TREESAME to any parent.\n",
      "\n",
      "       •   D sets foo to “baz”. Its merge O combines the strings from N and D\n",
      "           to “foobarbaz”; i.e., it is not TREESAME to any parent.\n",
      "\n",
      "       •   E changes quux to “xyzzy”, and its merge P combines the strings to\n",
      "           “quux xyzzy”.  P is TREESAME to O, but not to E.\n",
      "\n",
      "       •   X is an independent root commit that added a new file side, and Y\n",
      "           modified it.  Y is TREESAME to X. Its merge Q added side to P, and\n",
      "           Q is TREESAME to P, but not to Y.\n",
      "\n",
      "       rev-list walks backwards through history, including or excluding\n",
      "       commits based on whether --full-history and/or parent rewriting (via\n",
      "       --parents or --children) are used. The following settings are\n",
      "       available.\n",
      "\n",
      "       Default mode\n",
      "           Commits are included if they are not TREESAME to any parent (though\n",
      "           this can be changed, see --sparse below). If the commit was a\n",
      "           merge, and it was TREESAME to one parent, follow only that parent.\n",
      "           (Even if there are several TREESAME parents, follow only one of\n",
      "           them.) Otherwise, follow all parents.\n",
      "\n",
      "           This results in:\n",
      "\n",
      "                         .-A---N---O\n",
      "                        /     /   /\n",
      "                       I---------D\n",
      "\n",
      "           Note how the rule to only follow the TREESAME parent, if one is\n",
      "           available, removed B from consideration entirely.  C was considered\n",
      "           via N, but is TREESAME. Root commits are compared to an empty tree,\n",
      "           so I is !TREESAME.\n",
      "\n",
      "           Parent/child relations are only visible with --parents, but that\n",
      "           does not affect the commits selected in default mode, so we have\n",
      "           shown the parent lines.\n",
      "\n",
      "       --full-history without parent rewriting\n",
      "           This mode differs from the default in one point: always follow all\n",
      "           parents of a merge, even if it is TREESAME to one of them. Even if\n",
      "           more than one side of the merge has commits that are included, this\n",
      "           does not imply that the merge itself is! In the example, we get\n",
      "\n",
      "                       I  A  B  N  D  O  P  Q\n",
      "\n",
      "           M was excluded because it is TREESAME to both parents.  E, C and B\n",
      "           were all walked, but only B was !TREESAME, so the others do not\n",
      "           appear.\n",
      "\n",
      "           Note that without parent rewriting, it is not really possible to\n",
      "           talk about the parent/child relationships between the commits, so\n",
      "           we show them disconnected.\n",
      "\n",
      "       --full-history with parent rewriting\n",
      "           Ordinary commits are only included if they are !TREESAME (though\n",
      "           this can be changed, see --sparse below).\n",
      "\n",
      "           Merges are always included. However, their parent list is\n",
      "           rewritten: Along each parent, prune away commits that are not\n",
      "           included themselves. This results in\n",
      "\n",
      "                         .-A---M---N---O---P---Q\n",
      "                        /     /   /   /   /\n",
      "                       I     B   /   D   /\n",
      "                        \\   /   /   /   /\n",
      "                         `-------------'\n",
      "\n",
      "           Compare to --full-history without rewriting above. Note that E was\n",
      "           pruned away because it is TREESAME, but the parent list of P was\n",
      "           rewritten to contain E's parent I. The same happened for C and N,\n",
      "           and X, Y and Q.\n",
      "\n",
      "       In addition to the above settings, you can change whether TREESAME\n",
      "       affects inclusion:\n",
      "\n",
      "       --dense\n",
      "           Commits that are walked are included if they are not TREESAME to\n"
     ]
    },
    {
     "name": "stdout",
     "output_type": "stream",
     "text": [
      "           any parent.\n",
      "\n",
      "       --sparse\n",
      "           All commits that are walked are included.\n",
      "\n",
      "           Note that without --full-history, this still simplifies merges: if\n",
      "           one of the parents is TREESAME, we follow only that one, so the\n",
      "           other sides of the merge are never walked.\n",
      "\n",
      "       --simplify-merges\n",
      "           First, build a history graph in the same way that --full-history\n",
      "           with parent rewriting does (see above).\n",
      "\n",
      "           Then simplify each commit C to its replacement C' in the final\n",
      "           history according to the following rules:\n",
      "\n",
      "           •   Set C' to C.\n",
      "\n",
      "           •   Replace each parent P of C' with its simplification P'. In the\n",
      "               process, drop parents that are ancestors of other parents or\n",
      "               that are root commits TREESAME to an empty tree, and remove\n",
      "               duplicates, but take care to never drop all parents that we are\n",
      "               TREESAME to.\n",
      "\n",
      "           •   If after this parent rewriting, C' is a root or merge commit\n",
      "               (has zero or >1 parents), a boundary commit, or !TREESAME, it\n",
      "               remains. Otherwise, it is replaced with its only parent.\n",
      "\n",
      "           The effect of this is best shown by way of comparing to\n",
      "           --full-history with parent rewriting. The example turns into:\n",
      "\n",
      "                         .-A---M---N---O\n",
      "                        /     /       /\n",
      "                       I     B       D\n",
      "                        \\   /       /\n",
      "                         `---------'\n",
      "\n",
      "           Note the major differences in N, P, and Q over --full-history:\n",
      "\n",
      "           •   N's parent list had I removed, because it is an ancestor of the\n",
      "               other parent M. Still, N remained because it is !TREESAME.\n",
      "\n",
      "           •   P's parent list similarly had I removed.  P was then removed\n",
      "               completely, because it had one parent and is TREESAME.\n",
      "\n",
      "           •   Q's parent list had Y simplified to X.  X was then removed,\n",
      "               because it was a TREESAME root.  Q was then removed completely,\n",
      "               because it had one parent and is TREESAME.\n",
      "\n",
      "       There is another simplification mode available:\n",
      "\n",
      "       --ancestry-path\n",
      "           Limit the displayed commits to those directly on the ancestry chain\n",
      "           between the “from” and “to” commits in the given commit range. I.e.\n",
      "           only display commits that are ancestor of the “to” commit and\n",
      "           descendants of the “from” commit.\n",
      "\n",
      "           As an example use case, consider the following commit history:\n",
      "\n",
      "                           D---E-------F\n",
      "                          /     \\       \\\n",
      "                         B---C---G---H---I---J\n",
      "                        /                     \\\n",
      "                       A-------K---------------L--M\n",
      "\n",
      "           A regular D..M computes the set of commits that are ancestors of M,\n",
      "           but excludes the ones that are ancestors of D. This is useful to\n",
      "           see what happened to the history leading to M since D, in the sense\n",
      "           that “what does M have that did not exist in D”. The result in this\n",
      "           example would be all the commits, except A and B (and D itself, of\n",
      "           course).\n",
      "\n",
      "           When we want to find out what commits in M are contaminated with\n",
      "           the bug introduced by D and need fixing, however, we might want to\n",
      "           view only the subset of D..M that are actually descendants of D,\n",
      "           i.e. excluding C and K. This is exactly what the --ancestry-path\n",
      "           option does. Applied to the D..M range, it results in:\n",
      "\n",
      "                               E-------F\n",
      "                                \\       \\\n",
      "                                 G---H---I---J\n",
      "                                              \\\n",
      "                                               L--M\n",
      "\n",
      "       Before discussing another option, --show-pulls, we need to create a new\n",
      "       example history.\n",
      "\n",
      "       A common problem users face when looking at simplified history is that\n",
      "       a commit they know changed a file somehow does not appear in the file’s\n",
      "       simplified history. Let’s demonstrate a new example and show how\n",
      "       options such as --full-history and --simplify-merges works in that\n",
      "       case:\n",
      "\n",
      "                     .-A---M-----C--N---O---P\n",
      "                    /     / \\  \\  \\/   /   /\n",
      "                   I     B   \\  R-'`-Z'   /\n",
      "                    \\   /     \\/         /\n",
      "                     \\ /      /\\        /\n",
      "                      `---X--'  `---Y--'\n",
      "\n",
      "       For this example, suppose I created file.txt which was modified by A,\n",
      "       B, and X in different ways. The single-parent commits C, Z, and Y do\n",
      "       not change file.txt. The merge commit M was created by resolving the\n",
      "       merge conflict to include both changes from A and B and hence is not\n",
      "       TREESAME to either. The merge commit R, however, was created by\n",
      "       ignoring the contents of file.txt at M and taking only the contents of\n",
      "       file.txt at X. Hence, R is TREESAME to X but not M. Finally, the\n",
      "       natural merge resolution to create N is to take the contents of\n",
      "       file.txt at R, so N is TREESAME to R but not C. The merge commits O and\n",
      "       P are TREESAME to their first parents, but not to their second parents,\n",
      "       Z and Y respectively.\n",
      "\n",
      "       When using the default mode, N and R both have a TREESAME parent, so\n",
      "       those edges are walked and the others are ignored. The resulting\n",
      "       history graph is:\n",
      "\n",
      "                   I---X\n",
      "\n",
      "       When using --full-history, Git walks every edge. This will discover the\n",
      "       commits A and B and the merge M, but also will reveal the merge commits\n",
      "       O and P. With parent rewriting, the resulting graph is:\n",
      "\n",
      "                     .-A---M--------N---O---P\n",
      "                    /     / \\  \\  \\/   /   /\n",
      "                   I     B   \\  R-'`--'   /\n",
      "                    \\   /     \\/         /\n",
      "                     \\ /      /\\        /\n",
      "                      `---X--'  `------'\n",
      "\n",
      "       Here, the merge commits O and P contribute extra noise, as they did not\n",
      "       actually contribute a change to file.txt. They only merged a topic that\n",
      "       was based on an older version of file.txt. This is a common issue in\n",
      "       repositories using a workflow where many contributors work in parallel\n",
      "       and merge their topic branches along a single trunk: manu unrelated\n",
      "       merges appear in the --full-history results.\n",
      "\n",
      "       When using the --simplify-merges option, the commits O and P disappear\n",
      "       from the results. This is because the rewritten second parents of O and\n",
      "       P are reachable from their first parents. Those edges are removed and\n",
      "       then the commits look like single-parent commits that are TREESAME to\n",
      "       their parent. This also happens to the commit N, resulting in a history\n",
      "       view as follows:\n",
      "\n",
      "                     .-A---M--.\n",
      "                    /     /    \\\n",
      "                   I     B      R\n",
      "                    \\   /      /\n",
      "                     \\ /      /\n",
      "                      `---X--'\n",
      "\n",
      "       In this view, we see all of the important single-parent changes from A,\n",
      "       B, and X. We also see the carefully-resolved merge M and the\n",
      "       not-so-carefully-resolved merge R. This is usually enough information\n",
      "       to determine why the commits A and B \"disappeared\" from history in the\n",
      "       default view. However, there are a few issues with this approach.\n",
      "\n",
      "       The first issue is performance. Unlike any previous option, the\n",
      "       --simplify-merges option requires walking the entire commit history\n",
      "       before returning a single result. This can make the option difficult to\n",
      "       use for very large repositories.\n",
      "\n",
      "       The second issue is one of auditing. When many contributors are working\n",
      "       on the same repository, it is important which merge commits introduced\n",
      "       a change into an important branch. The problematic merge R above is not\n",
      "       likely to be the merge commit that was used to merge into an important\n",
      "       branch. Instead, the merge N was used to merge R and X into the\n",
      "       important branch. This commit may have information about why the change\n",
      "       X came to override the changes from A and B in its commit message.\n",
      "\n",
      "       --show-pulls\n",
      "           In addition to the commits shown in the default history, show each\n"
     ]
    },
    {
     "name": "stdout",
     "output_type": "stream",
     "text": [
      "           merge commit that is not TREESAME to its first parent but is\n",
      "           TREESAME to a later parent.\n",
      "\n",
      "           When a merge commit is included by --show-pulls, the merge is\n",
      "           treated as if it \"pulled\" the change from another branch. When\n",
      "           using --show-pulls on this example (and no other options) the\n",
      "           resulting graph is:\n",
      "\n",
      "                       I---X---R---N\n",
      "\n",
      "           Here, the merge commits R and N are included because they pulled\n",
      "           the commits X and R into the base branch, respectively. These\n",
      "           merges are the reason the commits A and B do not appear in the\n",
      "           default history.\n",
      "\n",
      "           When --show-pulls is paired with --simplify-merges, the graph\n",
      "           includes all of the necessary information:\n",
      "\n",
      "                         .-A---M--.   N\n",
      "                        /     /    \\ /\n",
      "                       I     B      R\n",
      "                        \\   /      /\n",
      "                         \\ /      /\n",
      "                          `---X--'\n",
      "\n",
      "           Notice that since M is reachable from R, the edge from N to M was\n",
      "           simplified away. However, N still appears in the history as an\n",
      "           important commit because it \"pulled\" the change R into the main\n",
      "           branch.\n",
      "\n",
      "       The --simplify-by-decoration option allows you to view only the big\n",
      "       picture of the topology of the history, by omitting commits that are\n",
      "       not referenced by tags. Commits are marked as !TREESAME (in other\n",
      "       words, kept after history simplification rules described above) if (1)\n",
      "       they are referenced by tags, or (2) they change the contents of the\n",
      "       paths given on the command line. All other commits are marked as\n",
      "       TREESAME (subject to be simplified away).\n",
      "\n",
      "   Commit Ordering\n",
      "       By default, the commits are shown in reverse chronological order.\n",
      "\n",
      "       --date-order\n",
      "           Show no parents before all of its children are shown, but otherwise\n",
      "           show commits in the commit timestamp order.\n",
      "\n",
      "       --author-date-order\n",
      "           Show no parents before all of its children are shown, but otherwise\n",
      "           show commits in the author timestamp order.\n",
      "\n",
      "       --topo-order\n",
      "           Show no parents before all of its children are shown, and avoid\n",
      "           showing commits on multiple lines of history intermixed.\n",
      "\n",
      "           For example, in a commit history like this:\n",
      "\n",
      "                   ---1----2----4----7\n",
      "                       \\              \\\n",
      "                        3----5----6----8---\n",
      "\n",
      "           where the numbers denote the order of commit timestamps, git\n",
      "           rev-list and friends with --date-order show the commits in the\n",
      "           timestamp order: 8 7 6 5 4 3 2 1.\n",
      "\n",
      "           With --topo-order, they would show 8 6 5 3 7 4 2 1 (or 8 7 4 2 6 5\n",
      "           3 1); some older commits are shown before newer ones in order to\n",
      "           avoid showing the commits from two parallel development track mixed\n",
      "           together.\n",
      "\n",
      "       --reverse\n",
      "           Output the commits chosen to be shown (see Commit Limiting section\n",
      "           above) in reverse order. Cannot be combined with --walk-reflogs.\n",
      "\n",
      "   Object Traversal\n",
      "       These options are mostly targeted for packing of Git repositories.\n",
      "\n",
      "       --no-walk[=(sorted|unsorted)]\n",
      "           Only show the given commits, but do not traverse their ancestors.\n",
      "           This has no effect if a range is specified. If the argument\n",
      "           unsorted is given, the commits are shown in the order they were\n",
      "           given on the command line. Otherwise (if sorted or no argument was\n",
      "           given), the commits are shown in reverse chronological order by\n",
      "           commit time. Cannot be combined with --graph.\n",
      "\n",
      "       --do-walk\n",
      "           Overrides a previous --no-walk.\n",
      "\n",
      "   Commit Formatting\n",
      "       --pretty[=<format>], --format=<format>\n",
      "           Pretty-print the contents of the commit logs in a given format,\n",
      "           where <format> can be one of oneline, short, medium, full, fuller,\n",
      "           reference, email, raw, format:<string> and tformat:<string>. When\n",
      "           <format> is none of the above, and has %placeholder in it, it acts\n",
      "           as if --pretty=tformat:<format> were given.\n",
      "\n",
      "           See the \"PRETTY FORMATS\" section for some additional details for\n",
      "           each format. When =<format> part is omitted, it defaults to medium.\n",
      "\n",
      "           Note: you can specify the default pretty format in the repository\n",
      "           configuration (see git-config(1)).\n",
      "\n",
      "       --abbrev-commit\n",
      "           Instead of showing the full 40-byte hexadecimal commit object name,\n",
      "           show only a partial prefix. Non default number of digits can be\n",
      "           specified with \"--abbrev=<n>\" (which also modifies diff output, if\n",
      "           it is displayed).\n",
      "\n",
      "           This should make \"--pretty=oneline\" a whole lot more readable for\n",
      "           people using 80-column terminals.\n",
      "\n",
      "       --no-abbrev-commit\n",
      "           Show the full 40-byte hexadecimal commit object name. This negates\n",
      "           --abbrev-commit and those options which imply it such as\n",
      "           \"--oneline\". It also overrides the log.abbrevCommit variable.\n",
      "\n",
      "       --oneline\n",
      "           This is a shorthand for \"--pretty=oneline --abbrev-commit\" used\n",
      "           together.\n",
      "\n",
      "       --encoding=<encoding>\n",
      "           The commit objects record the encoding used for the log message in\n",
      "           their encoding header; this option can be used to tell the command\n",
      "           to re-code the commit log message in the encoding preferred by the\n",
      "           user. For non plumbing commands this defaults to UTF-8. Note that\n",
      "           if an object claims to be encoded in X and we are outputting in X,\n",
      "           we will output the object verbatim; this means that invalid\n",
      "           sequences in the original commit may be copied to the output.\n",
      "\n",
      "       --expand-tabs=<n>, --expand-tabs, --no-expand-tabs\n",
      "           Perform a tab expansion (replace each tab with enough spaces to\n",
      "           fill to the next display column that is multiple of <n>) in the log\n",
      "           message before showing it in the output.  --expand-tabs is a\n",
      "           short-hand for --expand-tabs=8, and --no-expand-tabs is a\n",
      "           short-hand for --expand-tabs=0, which disables tab expansion.\n",
      "\n",
      "           By default, tabs are expanded in pretty formats that indent the log\n",
      "           message by 4 spaces (i.e.  medium, which is the default, full, and\n",
      "           fuller).\n",
      "\n",
      "       --notes[=<ref>]\n",
      "           Show the notes (see git-notes(1)) that annotate the commit, when\n",
      "           showing the commit log message. This is the default for git log,\n",
      "           git show and git whatchanged commands when there is no --pretty,\n",
      "           --format, or --oneline option given on the command line.\n",
      "\n",
      "           By default, the notes shown are from the notes refs listed in the\n",
      "           core.notesRef and notes.displayRef variables (or corresponding\n",
      "           environment overrides). See git-config(1) for more details.\n",
      "\n",
      "           With an optional <ref> argument, use the ref to find the notes to\n",
      "           display. The ref can specify the full refname when it begins with\n",
      "           refs/notes/; when it begins with notes/, refs/ and otherwise\n",
      "           refs/notes/ is prefixed to form a full name of the ref.\n",
      "\n",
      "           Multiple --notes options can be combined to control which notes are\n",
      "           being displayed. Examples: \"--notes=foo\" will show only notes from\n",
      "           \"refs/notes/foo\"; \"--notes=foo --notes\" will show both notes from\n",
      "           \"refs/notes/foo\" and from the default notes ref(s).\n",
      "\n",
      "       --no-notes\n",
      "           Do not show notes. This negates the above --notes option, by\n",
      "           resetting the list of notes refs from which notes are shown.\n",
      "           Options are parsed in the order given on the command line, so e.g.\n",
      "           \"--notes --notes=foo --no-notes --notes=bar\" will only show notes\n",
      "           from \"refs/notes/bar\".\n",
      "\n",
      "       --show-notes[=<ref>], --[no-]standard-notes\n",
      "           These options are deprecated. Use the above --notes/--no-notes\n",
      "           options instead.\n",
      "\n",
      "       --show-signature\n",
      "           Check the validity of a signed commit object by passing the\n",
      "           signature to gpg --verify and show the output.\n"
     ]
    },
    {
     "name": "stdout",
     "output_type": "stream",
     "text": [
      "\n",
      "       --relative-date\n",
      "           Synonym for --date=relative.\n",
      "\n",
      "       --date=<format>\n",
      "           Only takes effect for dates shown in human-readable format, such as\n",
      "           when using --pretty.  log.date config variable sets a default value\n",
      "           for the log command’s --date option. By default, dates are shown in\n",
      "           the original time zone (either committer’s or author’s). If -local\n",
      "           is appended to the format (e.g., iso-local), the user’s local time\n",
      "           zone is used instead.\n",
      "\n",
      "           --date=relative shows dates relative to the current time, e.g. “2\n",
      "           hours ago”. The -local option has no effect for --date=relative.\n",
      "\n",
      "           --date=local is an alias for --date=default-local.\n",
      "\n",
      "           --date=iso (or --date=iso8601) shows timestamps in a ISO 8601-like\n",
      "           format. The differences to the strict ISO 8601 format are:\n",
      "\n",
      "           •   a space instead of the T date/time delimiter\n",
      "\n",
      "           •   a space between time and time zone\n",
      "\n",
      "           •   no colon between hours and minutes of the time zone\n",
      "\n",
      "           --date=iso-strict (or --date=iso8601-strict) shows timestamps in\n",
      "           strict ISO 8601 format.\n",
      "\n",
      "           --date=rfc (or --date=rfc2822) shows timestamps in RFC 2822 format,\n",
      "           often found in email messages.\n",
      "\n",
      "           --date=short shows only the date, but not the time, in YYYY-MM-DD\n",
      "           format.\n",
      "\n",
      "           --date=raw shows the date as seconds since the epoch (1970-01-01\n",
      "           00:00:00 UTC), followed by a space, and then the timezone as an\n",
      "           offset from UTC (a + or - with four digits; the first two are\n",
      "           hours, and the second two are minutes). I.e., as if the timestamp\n",
      "           were formatted with strftime(\"%s %z\")). Note that the -local option\n",
      "           does not affect the seconds-since-epoch value (which is always\n",
      "           measured in UTC), but does switch the accompanying timezone value.\n",
      "\n",
      "           --date=human shows the timezone if the timezone does not match the\n",
      "           current time-zone, and doesn’t print the whole date if that matches\n",
      "           (ie skip printing year for dates that are \"this year\", but also\n",
      "           skip the whole date itself if it’s in the last few days and we can\n",
      "           just say what weekday it was). For older dates the hour and minute\n",
      "           is also omitted.\n",
      "\n",
      "           --date=unix shows the date as a Unix epoch timestamp (seconds since\n",
      "           1970). As with --raw, this is always in UTC and therefore -local\n",
      "           has no effect.\n",
      "\n",
      "           --date=format:...  feeds the format ...  to your system strftime,\n",
      "           except for %z and %Z, which are handled internally. Use\n",
      "           --date=format:%c to show the date in your system locale’s preferred\n",
      "           format. See the strftime manual for a complete list of format\n",
      "           placeholders. When using -local, the correct syntax is\n",
      "           --date=format-local:....\n",
      "\n",
      "           --date=default is the default format, and is similar to\n",
      "           --date=rfc2822, with a few exceptions:\n",
      "\n",
      "           •   there is no comma after the day-of-week\n",
      "\n",
      "           •   the time zone is omitted when the local time zone is used\n",
      "\n",
      "       --parents\n",
      "           Print also the parents of the commit (in the form \"commit\n",
      "           parent...\"). Also enables parent rewriting, see History\n",
      "           Simplification above.\n",
      "\n",
      "       --children\n",
      "           Print also the children of the commit (in the form \"commit\n",
      "           child...\"). Also enables parent rewriting, see History\n",
      "           Simplification above.\n",
      "\n",
      "       --left-right\n",
      "           Mark which side of a symmetric difference a commit is reachable\n",
      "           from. Commits from the left side are prefixed with < and those from\n",
      "           the right with >. If combined with --boundary, those commits are\n",
      "           prefixed with -.\n",
      "\n",
      "           For example, if you have this topology:\n",
      "\n",
      "                            y---b---b  branch B\n",
      "                           / \\ /\n",
      "                          /   .\n",
      "                         /   / \\\n",
      "                        o---x---a---a  branch A\n",
      "\n",
      "           you would get an output like this:\n",
      "\n",
      "                       $ git rev-list --left-right --boundary --pretty=oneline A...B\n",
      "\n",
      "                       >bbbbbbb... 3rd on b\n",
      "                       >bbbbbbb... 2nd on b\n",
      "                       <aaaaaaa... 3rd on a\n",
      "                       <aaaaaaa... 2nd on a\n",
      "                       -yyyyyyy... 1st on b\n",
      "                       -xxxxxxx... 1st on a\n",
      "\n",
      "       --graph\n",
      "           Draw a text-based graphical representation of the commit history on\n",
      "           the left hand side of the output. This may cause extra lines to be\n",
      "           printed in between commits, in order for the graph history to be\n",
      "           drawn properly. Cannot be combined with --no-walk.\n",
      "\n",
      "           This enables parent rewriting, see History Simplification above.\n",
      "\n",
      "           This implies the --topo-order option by default, but the\n",
      "           --date-order option may also be specified.\n",
      "\n",
      "       --show-linear-break[=<barrier>]\n",
      "           When --graph is not used, all history branches are flattened which\n",
      "           can make it hard to see that the two consecutive commits do not\n",
      "           belong to a linear branch. This option puts a barrier in between\n",
      "           them in that case. If <barrier> is specified, it is the string that\n",
      "           will be shown instead of the default one.\n",
      "\n",
      "   Diff Formatting\n",
      "       Listed below are options that control the formatting of diff output.\n",
      "       Some of them are specific to git-rev-list(1), however other diff\n",
      "       options may be given. See git-diff-files(1) for more options.\n",
      "\n",
      "       -c\n",
      "           With this option, diff output for a merge commit shows the\n",
      "           differences from each of the parents to the merge result\n",
      "           simultaneously instead of showing pairwise diff between a parent\n",
      "           and the result one at a time. Furthermore, it lists only files\n",
      "           which were modified from all parents.\n",
      "\n",
      "       --cc\n",
      "           This flag implies the -c option and further compresses the patch\n",
      "           output by omitting uninteresting hunks whose contents in the\n",
      "           parents have only two variants and the merge result picks one of\n",
      "           them without modification.\n",
      "\n",
      "       --combined-all-paths\n",
      "           This flag causes combined diffs (used for merge commits) to list\n",
      "           the name of the file from all parents. It thus only has effect when\n",
      "           -c or --cc are specified, and is likely only useful if filename\n",
      "           changes are detected (i.e. when either rename or copy detection\n",
      "           have been requested).\n",
      "\n",
      "       -m\n",
      "           This flag makes the merge commits show the full diff like regular\n",
      "           commits; for each merge parent, a separate log entry and diff is\n",
      "           generated. An exception is that only diff against the first parent\n",
      "           is shown when --first-parent option is given; in that case, the\n",
      "           output represents the changes the merge brought into the\n",
      "           then-current branch.\n",
      "\n",
      "       -r\n",
      "           Show recursive diffs.\n",
      "\n",
      "       -t\n",
      "           Show the tree objects in the diff output. This implies -r.\n",
      "\n",
      "PRETTY FORMATS\n",
      "       If the commit is a merge, and if the pretty-format is not oneline,\n",
      "       email or raw, an additional line is inserted before the Author: line.\n",
      "       This line begins with \"Merge: \" and the hashes of ancestral commits are\n",
      "       printed, separated by spaces. Note that the listed commits may not\n",
      "       necessarily be the list of the direct parent commits if you have\n",
      "       limited your view of history: for example, if you are only interested\n",
      "       in changes related to a certain directory or file.\n",
      "\n",
      "       There are several built-in formats, and you can define additional\n",
      "       formats by setting a pretty.<name> config option to either another\n",
      "       format name, or a format: string, as described below (see git-\n",
      "       config(1)). Here are the details of the built-in formats:\n",
      "\n",
      "       •   oneline\n",
      "\n",
      "               <hash> <title line>\n",
      "\n",
      "           This is designed to be as compact as possible.\n",
      "\n",
      "       •   short\n",
      "\n",
      "               commit <hash>\n",
      "               Author: <author>\n",
      "\n",
      "               <title line>\n",
      "\n",
      "       •   medium\n"
     ]
    },
    {
     "name": "stdout",
     "output_type": "stream",
     "text": [
      "\n",
      "               commit <hash>\n",
      "               Author: <author>\n",
      "               Date:   <author date>\n",
      "\n",
      "               <title line>\n",
      "\n",
      "               <full commit message>\n",
      "\n",
      "       •   full\n",
      "\n",
      "               commit <hash>\n",
      "               Author: <author>\n",
      "               Commit: <committer>\n",
      "\n",
      "               <title line>\n",
      "\n",
      "               <full commit message>\n",
      "\n",
      "       •   fuller\n",
      "\n",
      "               commit <hash>\n",
      "               Author:     <author>\n",
      "               AuthorDate: <author date>\n",
      "               Commit:     <committer>\n",
      "               CommitDate: <committer date>\n",
      "\n",
      "               <title line>\n",
      "\n",
      "               <full commit message>\n",
      "\n",
      "       •   reference\n",
      "\n",
      "               <abbrev hash> (<title line>, <short author date>)\n",
      "\n",
      "           This format is used to refer to another commit in a commit message\n",
      "           and is the same as --pretty='format:%C(auto)%h (%s, %ad)'. By\n",
      "           default, the date is formatted with --date=short unless another\n",
      "           --date option is explicitly specified. As with any format: with\n",
      "           format placeholders, its output is not affected by other options\n",
      "           like --decorate and --walk-reflogs.\n",
      "\n",
      "       •   email\n",
      "\n",
      "               From <hash> <date>\n",
      "               From: <author>\n",
      "               Date: <author date>\n",
      "               Subject: [PATCH] <title line>\n",
      "\n",
      "               <full commit message>\n",
      "\n",
      "       •   mboxrd\n",
      "\n",
      "           Like email, but lines in the commit message starting with \"From \"\n",
      "           (preceded by zero or more \">\") are quoted with \">\" so they aren’t\n",
      "           confused as starting a new commit.\n",
      "\n",
      "       •   raw\n",
      "\n",
      "           The raw format shows the entire commit exactly as stored in the\n",
      "           commit object. Notably, the hashes are displayed in full,\n",
      "           regardless of whether --abbrev or --no-abbrev are used, and parents\n",
      "           information show the true parent commits, without taking grafts or\n",
      "           history simplification into account. Note that this format affects\n",
      "           the way commits are displayed, but not the way the diff is shown\n",
      "           e.g. with git log --raw. To get full object names in a raw diff\n",
      "           format, use --no-abbrev.\n",
      "\n",
      "       •   format:<string>\n",
      "\n",
      "           The format:<string> format allows you to specify which information\n",
      "           you want to show. It works a little bit like printf format, with\n",
      "           the notable exception that you get a newline with %n instead of \\n.\n",
      "\n",
      "           E.g, format:\"The author of %h was %an, %ar%nThe title was >>%s<<%n\"\n",
      "           would show something like this:\n",
      "\n",
      "               The author of fe6e0ee was Junio C Hamano, 23 hours ago\n",
      "               The title was >>t4119: test autocomputing -p<n> for traditional diff input.<<\n",
      "\n",
      "           The placeholders are:\n",
      "\n",
      "           •   Placeholders that expand to a single literal character:\n",
      "\n",
      "               %n\n",
      "                   newline\n",
      "\n",
      "               %%\n",
      "                   a raw %\n",
      "\n",
      "               %x00\n",
      "                   print a byte from a hex code\n",
      "\n",
      "           •   Placeholders that affect formatting of later placeholders:\n",
      "\n",
      "               %Cred\n",
      "                   switch color to red\n",
      "\n",
      "               %Cgreen\n",
      "                   switch color to green\n",
      "\n",
      "               %Cblue\n",
      "                   switch color to blue\n",
      "\n",
      "               %Creset\n",
      "                   reset color\n",
      "\n",
      "               %C(...)\n",
      "                   color specification, as described under Values in the\n",
      "                   \"CONFIGURATION FILE\" section of git-config(1). By default,\n",
      "                   colors are shown only when enabled for log output (by\n",
      "                   color.diff, color.ui, or --color, and respecting the auto\n",
      "                   settings of the former if we are going to a terminal).\n",
      "                   %C(auto,...)  is accepted as a historical synonym for the\n",
      "                   default (e.g., %C(auto,red)). Specifying %C(always,...)\n",
      "                   will show the colors even when color is not otherwise\n",
      "                   enabled (though consider just using --color=always to\n",
      "                   enable color for the whole output, including this format\n",
      "                   and anything else git might color).  auto alone (i.e.\n",
      "                   %C(auto)) will turn on auto coloring on the next\n",
      "                   placeholders until the color is switched again.\n",
      "\n",
      "               %m\n",
      "                   left (<), right (>) or boundary (-) mark\n",
      "\n",
      "               %w([<w>[,<i1>[,<i2>]]])\n",
      "                   switch line wrapping, like the -w option of git-\n",
      "                   shortlog(1).\n",
      "\n",
      "               %<(<N>[,trunc|ltrunc|mtrunc])\n",
      "                   make the next placeholder take at least N columns, padding\n",
      "                   spaces on the right if necessary. Optionally truncate at\n",
      "                   the beginning (ltrunc), the middle (mtrunc) or the end\n",
      "                   (trunc) if the output is longer than N columns. Note that\n",
      "                   truncating only works correctly with N >= 2.\n",
      "\n",
      "               %<|(<N>)\n",
      "                   make the next placeholder take at least until Nth columns,\n",
      "                   padding spaces on the right if necessary\n",
      "\n",
      "               %>(<N>), %>|(<N>)\n",
      "                   similar to %<(<N>), %<|(<N>) respectively, but padding\n",
      "                   spaces on the left\n",
      "\n",
      "               %>>(<N>), %>>|(<N>)\n",
      "                   similar to %>(<N>), %>|(<N>) respectively, except that if\n",
      "                   the next placeholder takes more spaces than given and there\n",
      "                   are spaces on its left, use those spaces\n",
      "\n",
      "               %><(<N>), %><|(<N>)\n",
      "                   similar to %<(<N>), %<|(<N>) respectively, but padding both\n",
      "                   sides (i.e. the text is centered)\n",
      "\n",
      "           •   Placeholders that expand to information extracted from the\n",
      "               commit:\n",
      "\n",
      "               %H\n",
      "                   commit hash\n",
      "\n",
      "               %h\n",
      "                   abbreviated commit hash\n",
      "\n",
      "               %T\n",
      "                   tree hash\n",
      "\n",
      "               %t\n",
      "                   abbreviated tree hash\n",
      "\n",
      "               %P\n",
      "                   parent hashes\n",
      "\n",
      "               %p\n",
      "                   abbreviated parent hashes\n",
      "\n",
      "               %an\n",
      "                   author name\n",
      "\n",
      "               %aN\n",
      "                   author name (respecting .mailmap, see git-shortlog(1) or\n",
      "                   git-blame(1))\n",
      "\n",
      "               %ae\n",
      "                   author email\n",
      "\n",
      "               %aE\n",
      "                   author email (respecting .mailmap, see git-shortlog(1) or\n",
      "                   git-blame(1))\n",
      "\n",
      "               %al\n",
      "                   author email local-part (the part before the @ sign)\n",
      "\n",
      "               %aL\n",
      "                   author local-part (see %al) respecting .mailmap, see git-\n",
      "                   shortlog(1) or git-blame(1))\n",
      "\n",
      "               %ad\n",
      "                   author date (format respects --date= option)\n",
      "\n",
      "               %aD\n",
      "                   author date, RFC2822 style\n",
      "\n",
      "               %ar\n",
      "                   author date, relative\n",
      "\n",
      "               %at\n",
      "                   author date, UNIX timestamp\n",
      "\n",
      "               %ai\n",
      "                   author date, ISO 8601-like format\n",
      "\n",
      "               %aI\n",
      "                   author date, strict ISO 8601 format\n",
      "\n",
      "               %as\n",
      "                   author date, short format (YYYY-MM-DD)\n",
      "\n",
      "               %cn\n",
      "                   committer name\n",
      "\n",
      "               %cN\n",
      "                   committer name (respecting .mailmap, see git-shortlog(1) or\n",
      "                   git-blame(1))\n",
      "\n",
      "               %ce\n",
      "                   committer email\n",
      "\n",
      "               %cE\n",
      "                   committer email (respecting .mailmap, see git-shortlog(1)\n",
      "                   or git-blame(1))\n",
      "\n",
      "               %cl\n",
      "                   committer email local-part (the part before the @ sign)\n",
      "\n",
      "               %cL\n",
      "                   committer local-part (see %cl) respecting .mailmap, see\n",
      "                   git-shortlog(1) or git-blame(1))\n",
      "\n",
      "               %cd\n",
      "                   committer date (format respects --date= option)\n",
      "\n",
      "               %cD\n",
      "                   committer date, RFC2822 style\n",
      "\n",
      "               %cr\n",
      "                   committer date, relative\n",
      "\n",
      "               %ct\n",
      "                   committer date, UNIX timestamp\n",
      "\n",
      "               %ci\n",
      "                   committer date, ISO 8601-like format\n",
      "\n",
      "               %cI\n",
      "                   committer date, strict ISO 8601 format\n"
     ]
    },
    {
     "name": "stdout",
     "output_type": "stream",
     "text": [
      "\n",
      "               %cs\n",
      "                   committer date, short format (YYYY-MM-DD)\n",
      "\n",
      "               %d\n",
      "                   ref names, like the --decorate option of git-log(1)\n",
      "\n",
      "               %D\n",
      "                   ref names without the \" (\", \")\" wrapping.\n",
      "\n",
      "               %S\n",
      "                   ref name given on the command line by which the commit was\n",
      "                   reached (like git log --source), only works with git log\n",
      "\n",
      "               %e\n",
      "                   encoding\n",
      "\n",
      "               %s\n",
      "                   subject\n",
      "\n",
      "               %f\n",
      "                   sanitized subject line, suitable for a filename\n",
      "\n",
      "               %b\n",
      "                   body\n",
      "\n",
      "               %B\n",
      "                   raw body (unwrapped subject and body)\n",
      "\n",
      "               %N\n",
      "                   commit notes\n",
      "\n",
      "               %GG\n",
      "                   raw verification message from GPG for a signed commit\n",
      "\n",
      "               %G?\n",
      "                   show \"G\" for a good (valid) signature, \"B\" for a bad\n",
      "                   signature, \"U\" for a good signature with unknown validity,\n",
      "                   \"X\" for a good signature that has expired, \"Y\" for a good\n",
      "                   signature made by an expired key, \"R\" for a good signature\n",
      "                   made by a revoked key, \"E\" if the signature cannot be\n",
      "                   checked (e.g. missing key) and \"N\" for no signature\n",
      "\n",
      "               %GS\n",
      "                   show the name of the signer for a signed commit\n",
      "\n",
      "               %GK\n",
      "                   show the key used to sign a signed commit\n",
      "\n",
      "               %GF\n",
      "                   show the fingerprint of the key used to sign a signed\n",
      "                   commit\n",
      "\n",
      "               %GP\n",
      "                   show the fingerprint of the primary key whose subkey was\n",
      "                   used to sign a signed commit\n",
      "\n",
      "               %GT\n",
      "                   show the trust level for the key used to sign a signed\n",
      "                   commit\n",
      "\n",
      "               %gD\n",
      "                   reflog selector, e.g., refs/stash@{1} or refs/stash@{2\n",
      "                   minutes ago}; the format follows the rules described for\n",
      "                   the -g option. The portion before the @ is the refname as\n",
      "                   given on the command line (so git log -g refs/heads/master\n",
      "                   would yield refs/heads/master@{0}).\n",
      "\n",
      "               %gd\n",
      "                   shortened reflog selector; same as %gD, but the refname\n",
      "                   portion is shortened for human readability (so\n",
      "                   refs/heads/master becomes just master).\n",
      "\n",
      "               %gn\n",
      "                   reflog identity name\n",
      "\n",
      "               %gN\n",
      "                   reflog identity name (respecting .mailmap, see git-\n",
      "                   shortlog(1) or git-blame(1))\n",
      "\n",
      "               %ge\n",
      "                   reflog identity email\n",
      "\n",
      "               %gE\n",
      "                   reflog identity email (respecting .mailmap, see git-\n",
      "                   shortlog(1) or git-blame(1))\n",
      "\n",
      "               %gs\n",
      "                   reflog subject\n",
      "\n",
      "               %(trailers[:options])\n",
      "                   display the trailers of the body as interpreted by git-\n",
      "                   interpret-trailers(1). The trailers string may be followed\n",
      "                   by a colon and zero or more comma-separated options:\n",
      "\n",
      "                   •   key=<K>: only show trailers with specified key.\n",
      "                       Matching is done case-insensitively and trailing colon\n",
      "                       is optional. If option is given multiple times trailer\n",
      "                       lines matching any of the keys are shown. This option\n",
      "                       automatically enables the only option so that\n",
      "                       non-trailer lines in the trailer block are hidden. If\n",
      "                       that is not desired it can be disabled with only=false.\n",
      "                       E.g., %(trailers:key=Reviewed-by) shows trailer lines\n",
      "                       with key Reviewed-by.\n",
      "\n",
      "                   •   only[=val]: select whether non-trailer lines from the\n",
      "                       trailer block should be included. The only keyword may\n",
      "                       optionally be followed by an equal sign and one of\n",
      "                       true, on, yes to omit or false, off, no to show the\n",
      "                       non-trailer lines. If option is given without value it\n",
      "                       is enabled. If given multiple times the last value is\n",
      "                       used.\n",
      "\n",
      "                   •   separator=<SEP>: specify a separator inserted between\n",
      "                       trailer lines. When this option is not given each\n",
      "                       trailer line is terminated with a line feed character.\n",
      "                       The string SEP may contain the literal formatting codes\n",
      "                       described above. To use comma as separator one must use\n",
      "                       %x2C as it would otherwise be parsed as next option. If\n",
      "                       separator option is given multiple times only the last\n",
      "                       one is used. E.g., %(trailers:key=Ticket,separator=%x2C\n",
      "                       ) shows all trailer lines whose key is \"Ticket\"\n",
      "                       separated by a comma and a space.\n",
      "\n",
      "                   •   unfold[=val]: make it behave as if interpret-trailer’s\n",
      "                       --unfold option was given. In same way as to for only\n",
      "                       it can be followed by an equal sign and explicit value.\n",
      "                       E.g., %(trailers:only,unfold=true) unfolds and shows\n",
      "                       all trailer lines.\n",
      "\n",
      "                   •   valueonly[=val]: skip over the key part of the trailer\n",
      "                       line and only show the value part. Also this optionally\n",
      "                       allows explicit value.\n",
      "\n",
      "           Note\n",
      "           Some placeholders may depend on other options given to the revision\n",
      "           traversal engine. For example, the %g* reflog options will insert\n",
      "           an empty string unless we are traversing reflog entries (e.g., by\n",
      "           git log -g). The %d and %D placeholders will use the \"short\"\n",
      "           decoration format if --decorate was not already provided on the\n",
      "           command line.\n",
      "\n",
      "       If you add a + (plus sign) after % of a placeholder, a line-feed is\n",
      "       inserted immediately before the expansion if and only if the\n",
      "       placeholder expands to a non-empty string.\n",
      "\n",
      "       If you add a - (minus sign) after % of a placeholder, all consecutive\n",
      "       line-feeds immediately preceding the expansion are deleted if and only\n",
      "       if the placeholder expands to an empty string.\n",
      "\n",
      "       If you add a ` ` (space) after % of a placeholder, a space is inserted\n",
      "       immediately before the expansion if and only if the placeholder expands\n",
      "       to a non-empty string.\n",
      "\n",
      "       •   tformat:\n",
      "\n",
      "           The tformat: format works exactly like format:, except that it\n",
      "           provides \"terminator\" semantics instead of \"separator\" semantics.\n",
      "           In other words, each commit has the message terminator character\n",
      "           (usually a newline) appended, rather than a separator placed\n",
      "           between entries. This means that the final entry of a single-line\n",
      "           format will be properly terminated with a new line, just as the\n",
      "           \"oneline\" format does. For example:\n",
      "\n",
      "               $ git log -2 --pretty=format:%h 4da45bef \\\n",
      "                 | perl -pe '$_ .= \" -- NO NEWLINE\\n\" unless /\\n/'\n",
      "               4da45be\n",
      "               7134973 -- NO NEWLINE\n",
      "\n",
      "               $ git log -2 --pretty=tformat:%h 4da45bef \\\n",
      "                 | perl -pe '$_ .= \" -- NO NEWLINE\\n\" unless /\\n/'\n",
      "               4da45be\n",
      "               7134973\n",
      "\n",
      "           In addition, any unrecognized string that has a % in it is\n",
      "           interpreted as if it has tformat: in front of it. For example,\n",
      "           these two are equivalent:\n",
      "\n",
      "               $ git log -2 --pretty=tformat:%h 4da45bef\n",
      "               $ git log -2 --pretty=%h 4da45bef\n",
      "\n",
      "COMMON DIFF OPTIONS\n",
      "       -p, -u, --patch\n",
      "           Generate patch (see section on generating patches).\n",
      "\n",
      "       -s, --no-patch\n",
      "           Suppress diff output. Useful for commands like git show that show\n",
      "           the patch by default, or to cancel the effect of --patch.\n",
      "\n",
      "       -U<n>, --unified=<n>\n",
      "           Generate diffs with <n> lines of context instead of the usual\n"
     ]
    },
    {
     "name": "stdout",
     "output_type": "stream",
     "text": [
      "           three. Implies --patch. Implies -p.\n",
      "\n",
      "       --output=<file>\n",
      "           Output to a specific file instead of stdout.\n",
      "\n",
      "       --output-indicator-new=<char>, --output-indicator-old=<char>,\n",
      "       --output-indicator-context=<char>\n",
      "           Specify the character used to indicate new, old or context lines in\n",
      "           the generated patch. Normally they are +, - and ' ' respectively.\n",
      "\n",
      "       --raw\n",
      "           For each commit, show a summary of changes using the raw diff\n",
      "           format. See the \"RAW OUTPUT FORMAT\" section of git-diff(1). This is\n",
      "           different from showing the log itself in raw format, which you can\n",
      "           achieve with --format=raw.\n",
      "\n",
      "       --patch-with-raw\n",
      "           Synonym for -p --raw.\n",
      "\n",
      "       --indent-heuristic\n",
      "           Enable the heuristic that shifts diff hunk boundaries to make\n",
      "           patches easier to read. This is the default.\n",
      "\n",
      "       --no-indent-heuristic\n",
      "           Disable the indent heuristic.\n",
      "\n",
      "       --minimal\n",
      "           Spend extra time to make sure the smallest possible diff is\n",
      "           produced.\n",
      "\n",
      "       --patience\n",
      "           Generate a diff using the \"patience diff\" algorithm.\n",
      "\n",
      "       --histogram\n",
      "           Generate a diff using the \"histogram diff\" algorithm.\n",
      "\n",
      "       --anchored=<text>\n",
      "           Generate a diff using the \"anchored diff\" algorithm.\n",
      "\n",
      "           This option may be specified more than once.\n",
      "\n",
      "           If a line exists in both the source and destination, exists only\n",
      "           once, and starts with this text, this algorithm attempts to prevent\n",
      "           it from appearing as a deletion or addition in the output. It uses\n",
      "           the \"patience diff\" algorithm internally.\n",
      "\n",
      "       --diff-algorithm={patience|minimal|histogram|myers}\n",
      "           Choose a diff algorithm. The variants are as follows:\n",
      "\n",
      "           default, myers\n",
      "               The basic greedy diff algorithm. Currently, this is the\n",
      "               default.\n",
      "\n",
      "           minimal\n",
      "               Spend extra time to make sure the smallest possible diff is\n",
      "               produced.\n",
      "\n",
      "           patience\n",
      "               Use \"patience diff\" algorithm when generating patches.\n",
      "\n",
      "           histogram\n",
      "               This algorithm extends the patience algorithm to \"support\n",
      "               low-occurrence common elements\".\n",
      "\n",
      "           For instance, if you configured the diff.algorithm variable to a\n",
      "           non-default value and want to use the default one, then you have to\n",
      "           use --diff-algorithm=default option.\n",
      "\n",
      "       --stat[=<width>[,<name-width>[,<count>]]]\n",
      "           Generate a diffstat. By default, as much space as necessary will be\n",
      "           used for the filename part, and the rest for the graph part.\n",
      "           Maximum width defaults to terminal width, or 80 columns if not\n",
      "           connected to a terminal, and can be overridden by <width>. The\n",
      "           width of the filename part can be limited by giving another width\n",
      "           <name-width> after a comma. The width of the graph part can be\n",
      "           limited by using --stat-graph-width=<width> (affects all commands\n",
      "           generating a stat graph) or by setting diff.statGraphWidth=<width>\n",
      "           (does not affect git format-patch). By giving a third parameter\n",
      "           <count>, you can limit the output to the first <count> lines,\n",
      "           followed by ...  if there are more.\n",
      "\n",
      "           These parameters can also be set individually with\n",
      "           --stat-width=<width>, --stat-name-width=<name-width> and\n",
      "           --stat-count=<count>.\n",
      "\n",
      "       --compact-summary\n",
      "           Output a condensed summary of extended header information such as\n",
      "           file creations or deletions (\"new\" or \"gone\", optionally \"+l\" if\n",
      "           it’s a symlink) and mode changes (\"+x\" or \"-x\" for adding or\n",
      "           removing executable bit respectively) in diffstat. The information\n",
      "           is put between the filename part and the graph part. Implies\n",
      "           --stat.\n",
      "\n",
      "       --numstat\n",
      "           Similar to --stat, but shows number of added and deleted lines in\n",
      "           decimal notation and pathname without abbreviation, to make it more\n",
      "           machine friendly. For binary files, outputs two - instead of saying\n",
      "           0 0.\n",
      "\n",
      "       --shortstat\n",
      "           Output only the last line of the --stat format containing total\n",
      "           number of modified files, as well as number of added and deleted\n",
      "           lines.\n",
      "\n",
      "       -X[<param1,param2,...>], --dirstat[=<param1,param2,...>]\n",
      "           Output the distribution of relative amount of changes for each\n",
      "           sub-directory. The behavior of --dirstat can be customized by\n",
      "           passing it a comma separated list of parameters. The defaults are\n",
      "           controlled by the diff.dirstat configuration variable (see git-\n",
      "           config(1)). The following parameters are available:\n",
      "\n",
      "           changes\n",
      "               Compute the dirstat numbers by counting the lines that have\n",
      "               been removed from the source, or added to the destination. This\n",
      "               ignores the amount of pure code movements within a file. In\n",
      "               other words, rearranging lines in a file is not counted as much\n",
      "               as other changes. This is the default behavior when no\n",
      "               parameter is given.\n",
      "\n",
      "           lines\n",
      "               Compute the dirstat numbers by doing the regular line-based\n",
      "               diff analysis, and summing the removed/added line counts. (For\n",
      "               binary files, count 64-byte chunks instead, since binary files\n",
      "               have no natural concept of lines). This is a more expensive\n",
      "               --dirstat behavior than the changes behavior, but it does count\n",
      "               rearranged lines within a file as much as other changes. The\n",
      "               resulting output is consistent with what you get from the other\n",
      "               --*stat options.\n",
      "\n",
      "           files\n",
      "               Compute the dirstat numbers by counting the number of files\n",
      "               changed. Each changed file counts equally in the dirstat\n",
      "               analysis. This is the computationally cheapest --dirstat\n",
      "               behavior, since it does not have to look at the file contents\n",
      "               at all.\n",
      "\n",
      "           cumulative\n",
      "               Count changes in a child directory for the parent directory as\n",
      "               well. Note that when using cumulative, the sum of the\n",
      "               percentages reported may exceed 100%. The default\n",
      "               (non-cumulative) behavior can be specified with the\n",
      "               noncumulative parameter.\n",
      "\n",
      "           <limit>\n",
      "               An integer parameter specifies a cut-off percent (3% by\n",
      "               default). Directories contributing less than this percentage of\n",
      "               the changes are not shown in the output.\n",
      "\n",
      "           Example: The following will count changed files, while ignoring\n",
      "           directories with less than 10% of the total amount of changed\n",
      "           files, and accumulating child directory counts in the parent\n",
      "           directories: --dirstat=files,10,cumulative.\n",
      "\n",
      "       --cumulative\n",
      "           Synonym for --dirstat=cumulative\n",
      "\n",
      "       --dirstat-by-file[=<param1,param2>...]\n",
      "           Synonym for --dirstat=files,param1,param2...\n",
      "\n",
      "       --summary\n",
      "           Output a condensed summary of extended header information such as\n",
      "           creations, renames and mode changes.\n",
      "\n",
      "       --patch-with-stat\n",
      "           Synonym for -p --stat.\n",
      "\n",
      "       -z\n",
      "           Separate the commits with NULs instead of with new newlines.\n",
      "\n",
      "           Also, when --raw or --numstat has been given, do not munge\n",
      "           pathnames and use NULs as output field terminators.\n",
      "\n",
      "           Without this option, pathnames with \"unusual\" characters are quoted\n",
      "           as explained for the configuration variable core.quotePath (see\n",
      "           git-config(1)).\n",
      "\n",
      "       --name-only\n",
      "           Show only names of changed files.\n",
      "\n",
      "       --name-status\n",
      "           Show only names and status of changed files. See the description of\n",
      "           the --diff-filter option on what the status letters mean.\n",
      "\n",
      "       --submodule[=<format>]\n",
      "           Specify how differences in submodules are shown. When specifying\n",
      "           --submodule=short the short format is used. This format just shows\n",
      "           the names of the commits at the beginning and end of the range.\n"
     ]
    },
    {
     "name": "stdout",
     "output_type": "stream",
     "text": [
      "           When --submodule or --submodule=log is specified, the log format is\n",
      "           used. This format lists the commits in the range like git-\n",
      "           submodule(1) summary does. When --submodule=diff is specified, the\n",
      "           diff format is used. This format shows an inline diff of the\n",
      "           changes in the submodule contents between the commit range.\n",
      "           Defaults to diff.submodule or the short format if the config option\n",
      "           is unset.\n",
      "\n",
      "       --color[=<when>]\n",
      "           Show colored diff.  --color (i.e. without =<when>) is the same as\n",
      "           --color=always.  <when> can be one of always, never, or auto.\n",
      "\n",
      "       --no-color\n",
      "           Turn off colored diff. It is the same as --color=never.\n",
      "\n",
      "       --color-moved[=<mode>]\n",
      "           Moved lines of code are colored differently. The <mode> defaults to\n",
      "           no if the option is not given and to zebra if the option with no\n",
      "           mode is given. The mode must be one of:\n",
      "\n",
      "           no\n",
      "               Moved lines are not highlighted.\n",
      "\n",
      "           default\n",
      "               Is a synonym for zebra. This may change to a more sensible mode\n",
      "               in the future.\n",
      "\n",
      "           plain\n",
      "               Any line that is added in one location and was removed in\n",
      "               another location will be colored with color.diff.newMoved.\n",
      "               Similarly color.diff.oldMoved will be used for removed lines\n",
      "               that are added somewhere else in the diff. This mode picks up\n",
      "               any moved line, but it is not very useful in a review to\n",
      "               determine if a block of code was moved without permutation.\n",
      "\n",
      "           blocks\n",
      "               Blocks of moved text of at least 20 alphanumeric characters are\n",
      "               detected greedily. The detected blocks are painted using either\n",
      "               the color.diff.{old,new}Moved color. Adjacent blocks cannot be\n",
      "               told apart.\n",
      "\n",
      "           zebra\n",
      "               Blocks of moved text are detected as in blocks mode. The blocks\n",
      "               are painted using either the color.diff.{old,new}Moved color or\n",
      "               color.diff.{old,new}MovedAlternative. The change between the\n",
      "               two colors indicates that a new block was detected.\n",
      "\n",
      "           dimmed-zebra\n",
      "               Similar to zebra, but additional dimming of uninteresting parts\n",
      "               of moved code is performed. The bordering lines of two adjacent\n",
      "               blocks are considered interesting, the rest is uninteresting.\n",
      "               dimmed_zebra is a deprecated synonym.\n",
      "\n",
      "       --no-color-moved\n",
      "           Turn off move detection. This can be used to override configuration\n",
      "           settings. It is the same as --color-moved=no.\n",
      "\n",
      "       --color-moved-ws=<modes>\n",
      "           This configures how whitespace is ignored when performing the move\n",
      "           detection for --color-moved. These modes can be given as a comma\n",
      "           separated list:\n",
      "\n",
      "           no\n",
      "               Do not ignore whitespace when performing move detection.\n",
      "\n",
      "           ignore-space-at-eol\n",
      "               Ignore changes in whitespace at EOL.\n",
      "\n",
      "           ignore-space-change\n",
      "               Ignore changes in amount of whitespace. This ignores whitespace\n",
      "               at line end, and considers all other sequences of one or more\n",
      "               whitespace characters to be equivalent.\n",
      "\n",
      "           ignore-all-space\n",
      "               Ignore whitespace when comparing lines. This ignores\n",
      "               differences even if one line has whitespace where the other\n",
      "               line has none.\n",
      "\n",
      "           allow-indentation-change\n",
      "               Initially ignore any whitespace in the move detection, then\n",
      "               group the moved code blocks only into a block if the change in\n",
      "               whitespace is the same per line. This is incompatible with the\n",
      "               other modes.\n",
      "\n",
      "       --no-color-moved-ws\n",
      "           Do not ignore whitespace when performing move detection. This can\n",
      "           be used to override configuration settings. It is the same as\n",
      "           --color-moved-ws=no.\n",
      "\n",
      "       --word-diff[=<mode>]\n",
      "           Show a word diff, using the <mode> to delimit changed words. By\n",
      "           default, words are delimited by whitespace; see --word-diff-regex\n",
      "           below. The <mode> defaults to plain, and must be one of:\n",
      "\n",
      "           color\n",
      "               Highlight changed words using only colors. Implies --color.\n",
      "\n",
      "           plain\n",
      "               Show words as [-removed-] and {+added+}. Makes no attempts to\n",
      "               escape the delimiters if they appear in the input, so the\n",
      "               output may be ambiguous.\n",
      "\n",
      "           porcelain\n",
      "               Use a special line-based format intended for script\n",
      "               consumption. Added/removed/unchanged runs are printed in the\n",
      "               usual unified diff format, starting with a +/-/` ` character at\n",
      "               the beginning of the line and extending to the end of the line.\n",
      "               Newlines in the input are represented by a tilde ~ on a line of\n",
      "               its own.\n",
      "\n",
      "           none\n",
      "               Disable word diff again.\n",
      "\n",
      "           Note that despite the name of the first mode, color is used to\n",
      "           highlight the changed parts in all modes if enabled.\n",
      "\n",
      "       --word-diff-regex=<regex>\n",
      "           Use <regex> to decide what a word is, instead of considering runs\n",
      "           of non-whitespace to be a word. Also implies --word-diff unless it\n",
      "           was already enabled.\n",
      "\n",
      "           Every non-overlapping match of the <regex> is considered a word.\n",
      "           Anything between these matches is considered whitespace and\n",
      "           ignored(!) for the purposes of finding differences. You may want to\n",
      "           append |[^[:space:]] to your regular expression to make sure that\n",
      "           it matches all non-whitespace characters. A match that contains a\n",
      "           newline is silently truncated(!) at the newline.\n",
      "\n",
      "           For example, --word-diff-regex=.  will treat each character as a\n",
      "           word and, correspondingly, show differences character by character.\n",
      "\n",
      "           The regex can also be set via a diff driver or configuration\n",
      "           option, see gitattributes(5) or git-config(1). Giving it explicitly\n",
      "           overrides any diff driver or configuration setting. Diff drivers\n",
      "           override configuration settings.\n",
      "\n",
      "       --color-words[=<regex>]\n",
      "           Equivalent to --word-diff=color plus (if a regex was specified)\n",
      "           --word-diff-regex=<regex>.\n",
      "\n",
      "       --no-renames\n",
      "           Turn off rename detection, even when the configuration file gives\n",
      "           the default to do so.\n",
      "\n",
      "       --[no-]rename-empty\n",
      "           Whether to use empty blobs as rename source.\n",
      "\n",
      "       --check\n",
      "           Warn if changes introduce conflict markers or whitespace errors.\n",
      "           What are considered whitespace errors is controlled by\n",
      "           core.whitespace configuration. By default, trailing whitespaces\n",
      "           (including lines that consist solely of whitespaces) and a space\n",
      "           character that is immediately followed by a tab character inside\n",
      "           the initial indent of the line are considered whitespace errors.\n",
      "           Exits with non-zero status if problems are found. Not compatible\n",
      "           with --exit-code.\n",
      "\n",
      "       --ws-error-highlight=<kind>\n",
      "           Highlight whitespace errors in the context, old or new lines of the\n",
      "           diff. Multiple values are separated by comma, none resets previous\n",
      "           values, default reset the list to new and all is a shorthand for\n",
      "           old,new,context. When this option is not given, and the\n",
      "           configuration variable diff.wsErrorHighlight is not set, only\n",
      "           whitespace errors in new lines are highlighted. The whitespace\n",
      "           errors are colored with color.diff.whitespace.\n",
      "\n",
      "       --full-index\n",
      "           Instead of the first handful of characters, show the full pre- and\n",
      "           post-image blob object names on the \"index\" line when generating\n",
      "           patch format output.\n",
      "\n",
      "       --binary\n",
      "           In addition to --full-index, output a binary diff that can be\n",
      "           applied with git-apply. Implies --patch.\n",
      "\n",
      "       --abbrev[=<n>]\n",
      "           Instead of showing the full 40-byte hexadecimal object name in\n"
     ]
    },
    {
     "name": "stdout",
     "output_type": "stream",
     "text": [
      "           diff-raw format output and diff-tree header lines, show only a\n",
      "           partial prefix. This is independent of the --full-index option\n",
      "           above, which controls the diff-patch output format. Non default\n",
      "           number of digits can be specified with --abbrev=<n>.\n",
      "\n",
      "       -B[<n>][/<m>], --break-rewrites[=[<n>][/<m>]]\n",
      "           Break complete rewrite changes into pairs of delete and create.\n",
      "           This serves two purposes:\n",
      "\n",
      "           It affects the way a change that amounts to a total rewrite of a\n",
      "           file not as a series of deletion and insertion mixed together with\n",
      "           a very few lines that happen to match textually as the context, but\n",
      "           as a single deletion of everything old followed by a single\n",
      "           insertion of everything new, and the number m controls this aspect\n",
      "           of the -B option (defaults to 60%).  -B/70% specifies that less\n",
      "           than 30% of the original should remain in the result for Git to\n",
      "           consider it a total rewrite (i.e. otherwise the resulting patch\n",
      "           will be a series of deletion and insertion mixed together with\n",
      "           context lines).\n",
      "\n",
      "           When used with -M, a totally-rewritten file is also considered as\n",
      "           the source of a rename (usually -M only considers a file that\n",
      "           disappeared as the source of a rename), and the number n controls\n",
      "           this aspect of the -B option (defaults to 50%).  -B20% specifies\n",
      "           that a change with addition and deletion compared to 20% or more of\n",
      "           the file’s size are eligible for being picked up as a possible\n",
      "           source of a rename to another file.\n",
      "\n",
      "       -M[<n>], --find-renames[=<n>]\n",
      "           If generating diffs, detect and report renames for each commit. For\n",
      "           following files across renames while traversing history, see\n",
      "           --follow. If n is specified, it is a threshold on the similarity\n",
      "           index (i.e. amount of addition/deletions compared to the file’s\n",
      "           size). For example, -M90% means Git should consider a delete/add\n",
      "           pair to be a rename if more than 90% of the file hasn’t changed.\n",
      "           Without a % sign, the number is to be read as a fraction, with a\n",
      "           decimal point before it. I.e., -M5 becomes 0.5, and is thus the\n",
      "           same as -M50%. Similarly, -M05 is the same as -M5%. To limit\n",
      "           detection to exact renames, use -M100%. The default similarity\n",
      "           index is 50%.\n",
      "\n",
      "       -C[<n>], --find-copies[=<n>]\n",
      "           Detect copies as well as renames. See also --find-copies-harder. If\n",
      "           n is specified, it has the same meaning as for -M<n>.\n",
      "\n",
      "       --find-copies-harder\n",
      "           For performance reasons, by default, -C option finds copies only if\n",
      "           the original file of the copy was modified in the same changeset.\n",
      "           This flag makes the command inspect unmodified files as candidates\n",
      "           for the source of copy. This is a very expensive operation for\n",
      "           large projects, so use it with caution. Giving more than one -C\n",
      "           option has the same effect.\n",
      "\n",
      "       -D, --irreversible-delete\n",
      "           Omit the preimage for deletes, i.e. print only the header but not\n",
      "           the diff between the preimage and /dev/null. The resulting patch is\n",
      "           not meant to be applied with patch or git apply; this is solely for\n",
      "           people who want to just concentrate on reviewing the text after the\n",
      "           change. In addition, the output obviously lacks enough information\n",
      "           to apply such a patch in reverse, even manually, hence the name of\n",
      "           the option.\n",
      "\n",
      "           When used together with -B, omit also the preimage in the deletion\n",
      "           part of a delete/create pair.\n",
      "\n",
      "       -l<num>\n",
      "           The -M and -C options require O(n^2) processing time where n is the\n",
      "           number of potential rename/copy targets. This option prevents\n",
      "           rename/copy detection from running if the number of rename/copy\n",
      "           targets exceeds the specified number.\n",
      "\n",
      "       --diff-filter=[(A|C|D|M|R|T|U|X|B)...[*]]\n",
      "           Select only files that are Added (A), Copied (C), Deleted (D),\n",
      "           Modified (M), Renamed (R), have their type (i.e. regular file,\n",
      "           symlink, submodule, ...) changed (T), are Unmerged (U), are Unknown\n",
      "           (X), or have had their pairing Broken (B). Any combination of the\n",
      "           filter characters (including none) can be used. When *\n",
      "           (All-or-none) is added to the combination, all paths are selected\n",
      "           if there is any file that matches other criteria in the comparison;\n",
      "           if there is no file that matches other criteria, nothing is\n",
      "           selected.\n",
      "\n",
      "           Also, these upper-case letters can be downcased to exclude. E.g.\n",
      "           --diff-filter=ad excludes added and deleted paths.\n",
      "\n",
      "           Note that not all diffs can feature all types. For instance, diffs\n",
      "           from the index to the working tree can never have Added entries\n",
      "           (because the set of paths included in the diff is limited by what\n",
      "           is in the index). Similarly, copied and renamed entries cannot\n",
      "           appear if detection for those types is disabled.\n",
      "\n",
      "       -S<string>\n",
      "           Look for differences that change the number of occurrences of the\n",
      "           specified string (i.e. addition/deletion) in a file. Intended for\n",
      "           the scripter’s use.\n",
      "\n",
      "           It is useful when you’re looking for an exact block of code (like a\n",
      "           struct), and want to know the history of that block since it first\n",
      "           came into being: use the feature iteratively to feed the\n",
      "           interesting block in the preimage back into -S, and keep going\n",
      "           until you get the very first version of the block.\n",
      "\n",
      "           Binary files are searched as well.\n",
      "\n",
      "       -G<regex>\n",
      "           Look for differences whose patch text contains added/removed lines\n",
      "           that match <regex>.\n",
      "\n",
      "           To illustrate the difference between -S<regex> --pickaxe-regex and\n",
      "           -G<regex>, consider a commit with the following diff in the same\n",
      "           file:\n",
      "\n",
      "               +    return frotz(nitfol, two->ptr, 1, 0);\n",
      "               ...\n",
      "               -    hit = frotz(nitfol, mf2.ptr, 1, 0);\n",
      "\n",
      "           While git log -G\"frotz\\(nitfol\" will show this commit, git log\n",
      "           -S\"frotz\\(nitfol\" --pickaxe-regex will not (because the number of\n",
      "           occurrences of that string did not change).\n",
      "\n",
      "           Unless --text is supplied patches of binary files without a\n",
      "           textconv filter will be ignored.\n",
      "\n",
      "           See the pickaxe entry in gitdiffcore(7) for more information.\n",
      "\n",
      "       --find-object=<object-id>\n",
      "           Look for differences that change the number of occurrences of the\n",
      "           specified object. Similar to -S, just the argument is different in\n",
      "           that it doesn’t search for a specific string but for a specific\n",
      "           object id.\n",
      "\n",
      "           The object can be a blob or a submodule commit. It implies the -t\n",
      "           option in git-log to also find trees.\n",
      "\n",
      "       --pickaxe-all\n",
      "           When -S or -G finds a change, show all the changes in that\n",
      "           changeset, not just the files that contain the change in <string>.\n",
      "\n",
      "       --pickaxe-regex\n",
      "           Treat the <string> given to -S as an extended POSIX regular\n",
      "           expression to match.\n",
      "\n",
      "       -O<orderfile>\n",
      "           Control the order in which files appear in the output. This\n",
      "           overrides the diff.orderFile configuration variable (see git-\n",
      "           config(1)). To cancel diff.orderFile, use -O/dev/null.\n",
      "\n",
      "           The output order is determined by the order of glob patterns in\n",
      "           <orderfile>. All files with pathnames that match the first pattern\n",
      "           are output first, all files with pathnames that match the second\n",
      "           pattern (but not the first) are output next, and so on. All files\n",
      "           with pathnames that do not match any pattern are output last, as if\n",
      "           there was an implicit match-all pattern at the end of the file. If\n",
      "           multiple pathnames have the same rank (they match the same pattern\n",
      "           but no earlier patterns), their output order relative to each other\n"
     ]
    },
    {
     "name": "stdout",
     "output_type": "stream",
     "text": [
      "           is the normal order.\n",
      "\n",
      "           <orderfile> is parsed as follows:\n",
      "\n",
      "           •   Blank lines are ignored, so they can be used as separators for\n",
      "               readability.\n",
      "\n",
      "           •   Lines starting with a hash (\"#\") are ignored, so they can be\n",
      "               used for comments. Add a backslash (\"\\\") to the beginning of\n",
      "               the pattern if it starts with a hash.\n",
      "\n",
      "           •   Each other line contains a single pattern.\n",
      "\n",
      "           Patterns have the same syntax and semantics as patterns used for\n",
      "           fnmatch(3) without the FNM_PATHNAME flag, except a pathname also\n",
      "           matches a pattern if removing any number of the final pathname\n",
      "           components matches the pattern. For example, the pattern \"foo*bar\"\n",
      "           matches \"fooasdfbar\" and \"foo/bar/baz/asdf\" but not \"foobarx\".\n",
      "\n",
      "       -R\n",
      "           Swap two inputs; that is, show differences from index or on-disk\n",
      "           file to tree contents.\n",
      "\n",
      "       --relative[=<path>], --no-relative\n",
      "           When run from a subdirectory of the project, it can be told to\n",
      "           exclude changes outside the directory and show pathnames relative\n",
      "           to it with this option. When you are not in a subdirectory (e.g. in\n",
      "           a bare repository), you can name which subdirectory to make the\n",
      "           output relative to by giving a <path> as an argument.\n",
      "           --no-relative can be used to countermand both diff.relative config\n",
      "           option and previous --relative.\n",
      "\n",
      "       -a, --text\n",
      "           Treat all files as text.\n",
      "\n",
      "       --ignore-cr-at-eol\n",
      "           Ignore carriage-return at the end of line when doing a comparison.\n",
      "\n",
      "       --ignore-space-at-eol\n",
      "           Ignore changes in whitespace at EOL.\n",
      "\n",
      "       -b, --ignore-space-change\n",
      "           Ignore changes in amount of whitespace. This ignores whitespace at\n",
      "           line end, and considers all other sequences of one or more\n",
      "           whitespace characters to be equivalent.\n",
      "\n",
      "       -w, --ignore-all-space\n",
      "           Ignore whitespace when comparing lines. This ignores differences\n",
      "           even if one line has whitespace where the other line has none.\n",
      "\n",
      "       --ignore-blank-lines\n",
      "           Ignore changes whose lines are all blank.\n",
      "\n",
      "       --inter-hunk-context=<lines>\n",
      "           Show the context between diff hunks, up to the specified number of\n",
      "           lines, thereby fusing hunks that are close to each other. Defaults\n",
      "           to diff.interHunkContext or 0 if the config option is unset.\n",
      "\n",
      "       -W, --function-context\n",
      "           Show whole surrounding functions of changes.\n",
      "\n",
      "       --ext-diff\n",
      "           Allow an external diff helper to be executed. If you set an\n",
      "           external diff driver with gitattributes(5), you need to use this\n",
      "           option with git-log(1) and friends.\n",
      "\n",
      "       --no-ext-diff\n",
      "           Disallow external diff drivers.\n",
      "\n",
      "       --textconv, --no-textconv\n",
      "           Allow (or disallow) external text conversion filters to be run when\n",
      "           comparing binary files. See gitattributes(5) for details. Because\n",
      "           textconv filters are typically a one-way conversion, the resulting\n",
      "           diff is suitable for human consumption, but cannot be applied. For\n",
      "           this reason, textconv filters are enabled by default only for git-\n",
      "           diff(1) and git-log(1), but not for git-format-patch(1) or diff\n",
      "           plumbing commands.\n",
      "\n",
      "       --ignore-submodules[=<when>]\n",
      "           Ignore changes to submodules in the diff generation. <when> can be\n",
      "           either \"none\", \"untracked\", \"dirty\" or \"all\", which is the default.\n",
      "           Using \"none\" will consider the submodule modified when it either\n",
      "           contains untracked or modified files or its HEAD differs from the\n",
      "           commit recorded in the superproject and can be used to override any\n",
      "           settings of the ignore option in git-config(1) or gitmodules(5).\n",
      "           When \"untracked\" is used submodules are not considered dirty when\n",
      "           they only contain untracked content (but they are still scanned for\n",
      "           modified content). Using \"dirty\" ignores all changes to the work\n",
      "           tree of submodules, only changes to the commits stored in the\n",
      "           superproject are shown (this was the behavior until 1.7.0). Using\n",
      "           \"all\" hides all changes to submodules.\n",
      "\n",
      "       --src-prefix=<prefix>\n",
      "           Show the given source prefix instead of \"a/\".\n",
      "\n",
      "       --dst-prefix=<prefix>\n",
      "           Show the given destination prefix instead of \"b/\".\n",
      "\n",
      "       --no-prefix\n",
      "           Do not show any source or destination prefix.\n",
      "\n",
      "       --line-prefix=<prefix>\n",
      "           Prepend an additional prefix to every line of output.\n",
      "\n",
      "       --ita-invisible-in-index\n",
      "           By default entries added by \"git add -N\" appear as an existing\n",
      "           empty file in \"git diff\" and a new file in \"git diff --cached\".\n",
      "           This option makes the entry appear as a new file in \"git diff\" and\n",
      "           non-existent in \"git diff --cached\". This option could be reverted\n",
      "           with --ita-visible-in-index. Both options are experimental and\n",
      "           could be removed in future.\n",
      "\n",
      "       For more detailed explanation on these common options, see also\n",
      "       gitdiffcore(7).\n",
      "\n",
      "GENERATING PATCH TEXT WITH -P\n",
      "       Running git-diff(1), git-log(1), git-show(1), git-diff-index(1), git-\n",
      "       diff-tree(1), or git-diff-files(1) with the -p option produces patch\n",
      "       text. You can customize the creation of patch text via the\n",
      "       GIT_EXTERNAL_DIFF and the GIT_DIFF_OPTS environment variables.\n",
      "\n",
      "       What the -p option produces is slightly different from the traditional\n",
      "       diff format:\n",
      "\n",
      "        1. It is preceded with a \"git diff\" header that looks like this:\n",
      "\n",
      "               diff --git a/file1 b/file2\n",
      "\n",
      "           The a/ and b/ filenames are the same unless rename/copy is\n",
      "           involved. Especially, even for a creation or a deletion, /dev/null\n",
      "           is not used in place of the a/ or b/ filenames.\n",
      "\n",
      "           When rename/copy is involved, file1 and file2 show the name of the\n",
      "           source file of the rename/copy and the name of the file that\n",
      "           rename/copy produces, respectively.\n",
      "\n",
      "        2. It is followed by one or more extended header lines:\n",
      "\n",
      "               old mode <mode>\n",
      "               new mode <mode>\n",
      "               deleted file mode <mode>\n",
      "               new file mode <mode>\n",
      "               copy from <path>\n",
      "               copy to <path>\n",
      "               rename from <path>\n",
      "               rename to <path>\n",
      "               similarity index <number>\n",
      "               dissimilarity index <number>\n",
      "               index <hash>..<hash> <mode>\n",
      "\n",
      "           File modes are printed as 6-digit octal numbers including the file\n",
      "           type and file permission bits.\n",
      "\n",
      "           Path names in extended headers do not include the a/ and b/\n",
      "           prefixes.\n",
      "\n",
      "           The similarity index is the percentage of unchanged lines, and the\n",
      "           dissimilarity index is the percentage of changed lines. It is a\n",
      "           rounded down integer, followed by a percent sign. The similarity\n",
      "           index value of 100% is thus reserved for two equal files, while\n",
      "           100% dissimilarity means that no line from the old file made it\n",
      "           into the new one.\n",
      "\n",
      "           The index line includes the blob object names before and after the\n",
      "           change. The <mode> is included if the file mode does not change;\n",
      "           otherwise, separate lines indicate the old and the new mode.\n",
      "\n",
      "        3. Pathnames with \"unusual\" characters are quoted as explained for the\n",
      "           configuration variable core.quotePath (see git-config(1)).\n",
      "\n",
      "        4. All the file1 files in the output refer to files before the commit,\n",
      "           and all the file2 files refer to files after the commit. It is\n",
      "           incorrect to apply each change to each file sequentially. For\n",
      "           example, this patch will swap a and b:\n",
      "\n",
      "               diff --git a/a b/b\n",
      "               rename from a\n",
      "               rename to b\n",
      "               diff --git a/b b/a\n",
      "               rename from b\n",
      "               rename to a\n",
      "\n",
      "COMBINED DIFF FORMAT\n",
      "       Any diff-generating command can take the -c or --cc option to produce a\n",
      "       combined diff when showing a merge. This is the default format when\n"
     ]
    },
    {
     "name": "stdout",
     "output_type": "stream",
     "text": [
      "       showing merges with git-diff(1) or git-show(1). Note also that you can\n",
      "       give the -m option to any of these commands to force generation of\n",
      "       diffs with individual parents of a merge.\n",
      "\n",
      "       A \"combined diff\" format looks like this:\n",
      "\n",
      "           diff --combined describe.c\n",
      "           index fabadb8,cc95eb0..4866510\n",
      "           --- a/describe.c\n",
      "           +++ b/describe.c\n",
      "           @@@ -98,20 -98,12 +98,20 @@@\n",
      "                   return (a_date > b_date) ? -1 : (a_date == b_date) ? 0 : 1;\n",
      "             }\n",
      "\n",
      "           - static void describe(char *arg)\n",
      "            -static void describe(struct commit *cmit, int last_one)\n",
      "           ++static void describe(char *arg, int last_one)\n",
      "             {\n",
      "            +      unsigned char sha1[20];\n",
      "            +      struct commit *cmit;\n",
      "                   struct commit_list *list;\n",
      "                   static int initialized = 0;\n",
      "                   struct commit_name *n;\n",
      "\n",
      "            +      if (get_sha1(arg, sha1) < 0)\n",
      "            +              usage(describe_usage);\n",
      "            +      cmit = lookup_commit_reference(sha1);\n",
      "            +      if (!cmit)\n",
      "            +              usage(describe_usage);\n",
      "            +\n",
      "                   if (!initialized) {\n",
      "                           initialized = 1;\n",
      "                           for_each_ref(get_name);\n",
      "\n",
      "        1. It is preceded with a \"git diff\" header, that looks like this (when\n",
      "           the -c option is used):\n",
      "\n",
      "               diff --combined file\n",
      "\n",
      "           or like this (when the --cc option is used):\n",
      "\n",
      "               diff --cc file\n",
      "\n",
      "        2. It is followed by one or more extended header lines (this example\n",
      "           shows a merge with two parents):\n",
      "\n",
      "               index <hash>,<hash>..<hash>\n",
      "               mode <mode>,<mode>..<mode>\n",
      "               new file mode <mode>\n",
      "               deleted file mode <mode>,<mode>\n",
      "\n",
      "           The mode <mode>,<mode>..<mode> line appears only if at least one of\n",
      "           the <mode> is different from the rest. Extended headers with\n",
      "           information about detected contents movement (renames and copying\n",
      "           detection) are designed to work with diff of two <tree-ish> and are\n",
      "           not used by combined diff format.\n",
      "\n",
      "        3. It is followed by two-line from-file/to-file header\n",
      "\n",
      "               --- a/file\n",
      "               +++ b/file\n",
      "\n",
      "           Similar to two-line header for traditional unified diff format,\n",
      "           /dev/null is used to signal created or deleted files.\n",
      "\n",
      "           However, if the --combined-all-paths option is provided, instead of\n",
      "           a two-line from-file/to-file you get a N+1 line from-file/to-file\n",
      "           header, where N is the number of parents in the merge commit\n",
      "\n",
      "               --- a/file\n",
      "               --- a/file\n",
      "               --- a/file\n",
      "               +++ b/file\n",
      "\n",
      "           This extended format can be useful if rename or copy detection is\n",
      "           active, to allow you to see the original name of the file in\n",
      "           different parents.\n",
      "\n",
      "        4. Chunk header format is modified to prevent people from accidentally\n",
      "           feeding it to patch -p1. Combined diff format was created for\n",
      "           review of merge commit changes, and was not meant to be applied.\n",
      "           The change is similar to the change in the extended index header:\n",
      "\n",
      "               @@@ <from-file-range> <from-file-range> <to-file-range> @@@\n",
      "\n",
      "           There are (number of parents + 1) @ characters in the chunk header\n",
      "           for combined diff format.\n",
      "\n",
      "       Unlike the traditional unified diff format, which shows two files A and\n",
      "       B with a single column that has - (minus — appears in A but removed in\n",
      "       B), + (plus — missing in A but added to B), or \" \" (space — unchanged)\n",
      "       prefix, this format compares two or more files file1, file2,... with\n",
      "       one file X, and shows how X differs from each of fileN. One column for\n",
      "       each of fileN is prepended to the output line to note how X’s line is\n",
      "       different from it.\n",
      "\n",
      "       A - character in the column N means that the line appears in fileN but\n",
      "       it does not appear in the result. A + character in the column N means\n",
      "       that the line appears in the result, and fileN does not have that line\n",
      "       (in other words, the line was added, from the point of view of that\n",
      "       parent).\n",
      "\n",
      "       In the above example output, the function signature was changed from\n",
      "       both files (hence two - removals from both file1 and file2, plus ++ to\n",
      "       mean one line that was added does not appear in either file1 or file2).\n",
      "       Also eight other lines are the same from file1 but do not appear in\n",
      "       file2 (hence prefixed with +).\n",
      "\n",
      "       When shown by git diff-tree -c, it compares the parents of a merge\n",
      "       commit with the merge result (i.e. file1..fileN are the parents). When\n",
      "       shown by git diff-files -c, it compares the two unresolved merge\n",
      "       parents with the working tree file (i.e. file1 is stage 2 aka \"our\n",
      "       version\", file2 is stage 3 aka \"their version\").\n",
      "\n",
      "EXAMPLES\n",
      "       git log --no-merges\n",
      "           Show the whole commit history, but skip any merges\n",
      "\n",
      "       git log v2.6.12.. include/scsi drivers/scsi\n",
      "           Show all commits since version v2.6.12 that changed any file in the\n",
      "           include/scsi or drivers/scsi subdirectories\n",
      "\n",
      "       git log --since=\"2 weeks ago\" -- gitk\n",
      "           Show the changes during the last two weeks to the file gitk. The --\n",
      "           is necessary to avoid confusion with the branch named gitk\n",
      "\n",
      "       git log --name-status release..test\n",
      "           Show the commits that are in the \"test\" branch but not yet in the\n",
      "           \"release\" branch, along with the list of paths each commit\n",
      "           modifies.\n",
      "\n",
      "       git log --follow builtin/rev-list.c\n",
      "           Shows the commits that changed builtin/rev-list.c, including those\n",
      "           commits that occurred before the file was given its present name.\n",
      "\n",
      "       git log --branches --not --remotes=origin\n",
      "           Shows all commits that are in any of local branches but not in any\n",
      "           of remote-tracking branches for origin (what you have that origin\n",
      "           doesn’t).\n",
      "\n",
      "       git log master --not --remotes=*/master\n",
      "           Shows all commits that are in local master but not in any remote\n",
      "           repository master branches.\n",
      "\n",
      "       git log -p -m --first-parent\n",
      "           Shows the history including change diffs, but only from the “main\n",
      "           branch” perspective, skipping commits that come from merged\n",
      "           branches, and showing full diffs of changes introduced by the\n",
      "           merges. This makes sense only when following a strict policy of\n",
      "           merging all topic branches when staying on a single integration\n",
      "           branch.\n",
      "\n",
      "       git log -L '/int main/',/^}/:main.c\n",
      "           Shows how the function main() in the file main.c evolved over time.\n",
      "\n",
      "       git log -3\n",
      "           Limits the number of commits to show to 3.\n",
      "\n",
      "DISCUSSION\n",
      "       Git is to some extent character encoding agnostic.\n",
      "\n",
      "       •   The contents of the blob objects are uninterpreted sequences of\n",
      "           bytes. There is no encoding translation at the core level.\n",
      "\n",
      "       •   Path names are encoded in UTF-8 normalization form C. This applies\n",
      "           to tree objects, the index file, ref names, as well as path names\n",
      "           in command line arguments, environment variables and config files\n",
      "           (.git/config (see git-config(1)), gitignore(5), gitattributes(5)\n",
      "           and gitmodules(5)).\n",
      "\n",
      "           Note that Git at the core level treats path names simply as\n",
      "           sequences of non-NUL bytes, there are no path name encoding\n",
      "           conversions (except on Mac and Windows). Therefore, using non-ASCII\n",
      "           path names will mostly work even on platforms and file systems that\n",
      "           use legacy extended ASCII encodings. However, repositories created\n",
      "           on such systems will not work properly on UTF-8-based systems (e.g.\n",
      "           Linux, Mac, Windows) and vice versa. Additionally, many Git-based\n",
      "           tools simply assume path names to be UTF-8 and will fail to display\n",
      "           other encodings correctly.\n",
      "\n",
      "       •   Commit log messages are typically encoded in UTF-8, but other\n",
      "           extended ASCII encodings are also supported. This includes\n"
     ]
    },
    {
     "name": "stdout",
     "output_type": "stream",
     "text": [
      "           ISO-8859-x, CP125x and many others, but not UTF-16/32, EBCDIC and\n",
      "           CJK multi-byte encodings (GBK, Shift-JIS, Big5, EUC-x, CP9xx etc.).\n",
      "\n",
      "       Although we encourage that the commit log messages are encoded in\n",
      "       UTF-8, both the core and Git Porcelain are designed not to force UTF-8\n",
      "       on projects. If all participants of a particular project find it more\n",
      "       convenient to use legacy encodings, Git does not forbid it. However,\n",
      "       there are a few things to keep in mind.\n",
      "\n",
      "        1. git commit and git commit-tree issues a warning if the commit log\n",
      "           message given to it does not look like a valid UTF-8 string, unless\n",
      "           you explicitly say your project uses a legacy encoding. The way to\n",
      "           say this is to have i18n.commitencoding in .git/config file, like\n",
      "           this:\n",
      "\n",
      "               [i18n]\n",
      "                       commitEncoding = ISO-8859-1\n",
      "\n",
      "           Commit objects created with the above setting record the value of\n",
      "           i18n.commitEncoding in its encoding header. This is to help other\n",
      "           people who look at them later. Lack of this header implies that the\n",
      "           commit log message is encoded in UTF-8.\n",
      "\n",
      "        2. git log, git show, git blame and friends look at the encoding\n",
      "           header of a commit object, and try to re-code the log message into\n",
      "           UTF-8 unless otherwise specified. You can specify the desired\n",
      "           output encoding with i18n.logOutputEncoding in .git/config file,\n",
      "           like this:\n",
      "\n",
      "               [i18n]\n",
      "                       logOutputEncoding = ISO-8859-1\n",
      "\n",
      "           If you do not have this configuration variable, the value of\n",
      "           i18n.commitEncoding is used instead.\n",
      "\n",
      "       Note that we deliberately chose not to re-code the commit log message\n",
      "       when a commit is made to force UTF-8 at the commit object level,\n",
      "       because re-coding to UTF-8 is not necessarily a reversible operation.\n",
      "\n",
      "CONFIGURATION\n",
      "       See git-config(1) for core variables and git-diff(1) for settings\n",
      "       related to diff generation.\n",
      "\n",
      "       format.pretty\n",
      "           Default for the --format option. (See Pretty Formats above.)\n",
      "           Defaults to medium.\n",
      "\n",
      "       i18n.logOutputEncoding\n",
      "           Encoding to use when displaying logs. (See Discussion above.)\n",
      "           Defaults to the value of i18n.commitEncoding if set, and UTF-8\n",
      "           otherwise.\n",
      "\n",
      "       log.date\n",
      "           Default format for human-readable dates. (Compare the --date\n",
      "           option.) Defaults to \"default\", which means to write dates like Sat\n",
      "           May 8 19:35:34 2010 -0500.\n",
      "\n",
      "           If the format is set to \"auto:foo\" and the pager is in use, format\n",
      "           \"foo\" will be the used for the date format. Otherwise \"default\"\n",
      "           will be used.\n",
      "\n",
      "       log.follow\n",
      "           If true, git log will act as if the --follow option was used when a\n",
      "           single <path> is given. This has the same limitations as --follow,\n",
      "           i.e. it cannot be used to follow multiple files and does not work\n",
      "           well on non-linear history.\n",
      "\n",
      "       log.showRoot\n",
      "           If false, git log and related commands will not treat the initial\n",
      "           commit as a big creation event. Any root commits in git log -p\n",
      "           output would be shown without a diff attached. The default is true.\n",
      "\n",
      "       log.showSignature\n",
      "           If true, git log and related commands will act as if the\n",
      "           --show-signature option was passed to them.\n",
      "\n",
      "       mailmap.*\n",
      "           See git-shortlog(1).\n",
      "\n",
      "       notes.displayRef\n",
      "           Which refs, in addition to the default set by core.notesRef or\n",
      "           GIT_NOTES_REF, to read notes from when showing commit messages with\n",
      "           the log family of commands. See git-notes(1).\n",
      "\n",
      "           May be an unabbreviated ref name or a glob and may be specified\n",
      "           multiple times. A warning will be issued for refs that do not\n",
      "           exist, but a glob that does not match any refs is silently ignored.\n",
      "\n",
      "           This setting can be disabled by the --no-notes option, overridden\n",
      "           by the GIT_NOTES_DISPLAY_REF environment variable, and overridden\n",
      "           by the --notes=<ref> option.\n",
      "\n",
      "GIT\n",
      "       Part of the git(1) suite\n",
      "\n",
      "Git 2.28.0                        07/27/2020                        GIT-LOG(1)\n"
     ]
    }
   ],
   "source": [
    "man git-log"
   ]
  },
  {
   "cell_type": "markdown",
   "metadata": {},
   "source": [
    "<br><br><br><br><br><br><br><br>"
   ]
  },
  {
   "cell_type": "markdown",
   "metadata": {
    "slideshow": {
     "slide_type": "subslide"
    }
   },
   "source": [
    "<span class=\"header\">Exploring the past</span>\n",
    "<br>\n",
    "\n",
    "### Overview of commit history\n",
    "<br>\n",
    "\n",
    "You can make it really clean and fancy:\n",
    "\n",
    "```sh\n",
    "git log \\\n",
    "    --graph \\\n",
    "    --date-order \\\n",
    "    --date=short \\\n",
    "    --pretty=format:'%C(cyan)%h %C(blue)%ar %C(auto)%d'`\n",
    "                   `'%C(yellow)%s%+b %C(magenta)%ae'\n",
    "```"
   ]
  },
  {
   "cell_type": "code",
   "execution_count": 11,
   "metadata": {},
   "outputs": [
    {
     "name": "stdout",
     "output_type": "stream",
     "text": [
      "* \u001b[36m58bed3c \u001b[34m2 days ago \u001b[m\u001b[33m (\u001b[m\u001b[1;36mHEAD -> \u001b[m\u001b[1;32mmaster\u001b[m\u001b[33m)\u001b[m\u001b[33mRestore \u001b[35mmarie.burle@westgrid.ca\n",
      "* \u001b[36m25a79b3 \u001b[34m2 days ago \u001b[m\u001b[33madd tut \u001b[35mmarie.burle@westgrid.ca\n",
      "* \u001b[36mf628a25 \u001b[34m2 days ago \u001b[m\u001b[33madd tat \u001b[35mmarie.burle@westgrid.ca\n",
      "* \u001b[36mf20e8a2 \u001b[34m2 days ago \u001b[m\u001b[33madd tut \u001b[35mmarie.burle@westgrid.ca\n",
      "* \u001b[36mcec1042 \u001b[34m2 days ago \u001b[m\u001b[33madd tat \u001b[35mmarie.burle@westgrid.ca\n",
      "* \u001b[36mddb4f83 \u001b[34m2 days ago \u001b[m\u001b[33mtest2 \u001b[35mmarie.burle@westgrid.ca\n",
      "* \u001b[36mdfabc79 \u001b[34m2 days ago \u001b[m\u001b[33mtest1 \u001b[35mmarie.burle@westgrid.ca\n",
      "* \u001b[36m6e0c38c \u001b[34m2 days ago \u001b[m\u001b[33mtest \u001b[35mmarie.burle@westgrid.ca\n",
      "*   \u001b[36m91ba70a \u001b[34m4 days ago \u001b[m\u001b[33mMerge branch 'test3' into master \u001b[35mmarie.burle@westgrid.ca\n",
      "\u001b[32m|\u001b[m\u001b[33m\\\u001b[m  \n",
      "* \u001b[33m|\u001b[m \u001b[36m26aa2cd \u001b[34m4 days ago \u001b[m\u001b[33mMake conflicting edits enso ms \u001b[35mmarie.burle@westgrid.ca\n",
      "\u001b[33m|\u001b[m * \u001b[36m2405b50 \u001b[34m4 days ago \u001b[m\u001b[33m (\u001b[m\u001b[1;32mtest3\u001b[m\u001b[33m)\u001b[m\u001b[33mMake some edits intro enso ms \u001b[35mmarie.burle@westgrid.ca\n",
      "\u001b[33m|\u001b[m\u001b[33m/\u001b[m  \n",
      "*   \u001b[36m50eaaeb \u001b[34m4 days ago \u001b[m\u001b[33mMerge branch 'test2' into master \u001b[35mmarie.burle@westgrid.ca\n",
      "\u001b[34m|\u001b[m\u001b[35m\\\u001b[m  \n",
      "* \u001b[35m|\u001b[m \u001b[36me343951 \u001b[34m4 days ago \u001b[m\u001b[33mAdd code enso script \u001b[35mmarie.burle@westgrid.ca\n",
      "\u001b[35m|\u001b[m * \u001b[36mfa4187d \u001b[34m4 days ago \u001b[m\u001b[33m (\u001b[m\u001b[1;32mtest2\u001b[m\u001b[33m)\u001b[m\u001b[33mEdit enso ms \u001b[35mmarie.burle@westgrid.ca\n",
      "\u001b[35m|\u001b[m\u001b[35m/\u001b[m  \n",
      "* \u001b[36mcc7ab28 \u001b[34m4 days ago \u001b[m\u001b[33m (\u001b[m\u001b[1;32mtest\u001b[m\u001b[33m)\u001b[m\u001b[33mAdd some content to acidity script \u001b[35mmarie.burle@westgrid.ca\n",
      "* \u001b[36md1169e0 \u001b[34m4 days ago \u001b[m\u001b[33mAdd new acidity script \u001b[35mmarie.burle@westgrid.ca\n",
      "* \u001b[36m7207059 \u001b[34m4 days ago \u001b[m\u001b[33m (\u001b[m\u001b[1;32mdev\u001b[m\u001b[33m)\u001b[m\u001b[33madd .gitignore with /result/ \u001b[35mmarie.burle@westgrid.ca\n",
      "* \u001b[36m86ee292 \u001b[34m4 days ago \u001b[m\u001b[33mAdd Jabberwock to ms and script \u001b[35mmarie.burle@westgrid.ca\n",
      "* \u001b[36md945403 \u001b[34m4 days ago \u001b[m\u001b[33mAdd first draft enso ms \u001b[35mmarie.burle@westgrid.ca\n",
      "* \u001b[36mb8d72d1 \u001b[34m4 days ago \u001b[m\u001b[33m (\u001b[m\u001b[1;33mtag: J_Climate_2009\u001b[m\u001b[33m)\u001b[m\u001b[33mChange end date enso script to 2019 \u001b[35mmarie.burle@westgrid.ca\n",
      "* \u001b[36m6f21c25 \u001b[34m4 days ago \u001b[m\u001b[33mInitial commit \u001b[35mmarie.burle@westgrid.ca"
     ]
    }
   ],
   "source": [
    "git log \\\n",
    "    --graph \\\n",
    "    --date-order \\\n",
    "    --date=short \\\n",
    "    --pretty=format:'%C(cyan)%h %C(blue)%ar %C(auto)%d'`\n",
    "                   `'%C(yellow)%s%+b %C(magenta)%ae'"
   ]
  },
  {
   "cell_type": "markdown",
   "metadata": {},
   "source": [
    "<br><br><br><br><br><br><br><br>"
   ]
  },
  {
   "cell_type": "markdown",
   "metadata": {
    "slideshow": {
     "slide_type": "subslide"
    }
   },
   "source": [
    "<span class=\"header\">Exploring the past</span>\n",
    "\n",
    "### Overview of commit history\n",
    "<br>\n",
    "\n",
    "Or you can make it as a graph."
   ]
  },
  {
   "cell_type": "code",
   "execution_count": 13,
   "metadata": {},
   "outputs": [
    {
     "name": "stdout",
     "output_type": "stream",
     "text": [
      "* \u001b[33mcommit 58bed3c4259632ad9a5cdd36a425077a12eebd21\u001b[m\u001b[33m (\u001b[m\u001b[1;36mHEAD -> \u001b[m\u001b[1;32mmaster\u001b[m\u001b[33m)\u001b[m\n",
      "\u001b[31m|\u001b[m Author: Marie-Helene Burle <marie.burle@westgrid.ca>\n",
      "\u001b[31m|\u001b[m Date:   Sun Sep 13 16:52:03 2020 -0700\n",
      "\u001b[31m|\u001b[m \n",
      "\u001b[31m|\u001b[m     Restore\n",
      "\u001b[31m|\u001b[m \n",
      "* \u001b[33mcommit 25a79b34490b9cc31f2b71500b86f38efea045e5\u001b[m\n",
      "\u001b[31m|\u001b[m Author: Marie-Helene Burle <marie.burle@westgrid.ca>\n",
      "\u001b[31m|\u001b[m Date:   Sun Sep 13 16:48:13 2020 -0700\n",
      "\u001b[31m|\u001b[m \n",
      "\u001b[31m|\u001b[m     add tut\n",
      "\u001b[31m|\u001b[m \n",
      "* \u001b[33mcommit f628a259ef29855da56e904a56e575cfcb51b703\u001b[m\n",
      "\u001b[31m|\u001b[m Author: Marie-Helene Burle <marie.burle@westgrid.ca>\n",
      "\u001b[31m|\u001b[m Date:   Sun Sep 13 16:48:02 2020 -0700\n",
      "\u001b[31m|\u001b[m \n",
      "\u001b[31m|\u001b[m     add tat\n",
      "\u001b[31m|\u001b[m \n",
      "* \u001b[33mcommit f20e8a27b738c3ca2d5ceb1d60f7176e0d94b852\u001b[m\n",
      "\u001b[31m|\u001b[m Author: Marie-Helene Burle <marie.burle@westgrid.ca>\n",
      "\u001b[31m|\u001b[m Date:   Sun Sep 13 16:47:34 2020 -0700\n",
      "\u001b[31m|\u001b[m \n",
      "\u001b[31m|\u001b[m     add tut\n",
      "\u001b[31m|\u001b[m \n",
      "* \u001b[33mcommit cec10427c61aa5444c26d63972d42740804684d4\u001b[m\n",
      "\u001b[31m|\u001b[m Author: Marie-Helene Burle <marie.burle@westgrid.ca>\n",
      "\u001b[31m|\u001b[m Date:   Sun Sep 13 16:47:24 2020 -0700\n",
      "\u001b[31m|\u001b[m \n",
      "\u001b[31m|\u001b[m     add tat\n",
      "\u001b[31m|\u001b[m \n",
      "* \u001b[33mcommit ddb4f83b94cf99e3bd7708aff826000b38ddffb7\u001b[m\n",
      "\u001b[31m|\u001b[m Author: Marie-Helene Burle <marie.burle@westgrid.ca>\n",
      "\u001b[31m|\u001b[m Date:   Sun Sep 13 16:45:55 2020 -0700\n",
      "\u001b[31m|\u001b[m \n",
      "\u001b[31m|\u001b[m     test2\n",
      "\u001b[31m|\u001b[m \n",
      "* \u001b[33mcommit dfabc7965836dec4961fc8d22513ece0bf31209e\u001b[m\n",
      "\u001b[31m|\u001b[m Author: Marie-Helene Burle <marie.burle@westgrid.ca>\n",
      "\u001b[31m|\u001b[m Date:   Sun Sep 13 16:40:09 2020 -0700\n",
      "\u001b[31m|\u001b[m \n",
      "\u001b[31m|\u001b[m     test1\n",
      "\u001b[31m|\u001b[m \n",
      "* \u001b[33mcommit 6e0c38c38e894265aa562d9299589d307dc60324\u001b[m\n",
      "\u001b[31m|\u001b[m Author: Marie-Helene Burle <marie.burle@westgrid.ca>\n",
      "\u001b[31m|\u001b[m Date:   Sun Sep 13 16:36:38 2020 -0700\n",
      "\u001b[31m|\u001b[m \n",
      "\u001b[31m|\u001b[m     test\n",
      "\u001b[31m|\u001b[m   \n",
      "*   \u001b[33mcommit 91ba70abb57c762d3466bf36dd348e65f7b711d8\u001b[m\n",
      "\u001b[32m|\u001b[m\u001b[33m\\\u001b[m  Merge: 26aa2cd 2405b50\n",
      "\u001b[32m|\u001b[m \u001b[33m|\u001b[m Author: Marie-Helene Burle <marie.burle@westgrid.ca>\n",
      "\u001b[32m|\u001b[m \u001b[33m|\u001b[m Date:   Fri Sep 11 15:03:45 2020 -0700\n",
      "\u001b[32m|\u001b[m \u001b[33m|\u001b[m \n",
      "\u001b[32m|\u001b[m \u001b[33m|\u001b[m     Merge branch 'test3' into master\n",
      "\u001b[32m|\u001b[m \u001b[33m|\u001b[m \n",
      "\u001b[32m|\u001b[m * \u001b[33mcommit 2405b50b8f415b4387985225901b1863785b558e\u001b[m\u001b[33m (\u001b[m\u001b[1;32mtest3\u001b[m\u001b[33m)\u001b[m\n",
      "\u001b[32m|\u001b[m \u001b[33m|\u001b[m Author: Marie-Helene Burle <marie.burle@westgrid.ca>\n",
      "\u001b[32m|\u001b[m \u001b[33m|\u001b[m Date:   Fri Sep 11 14:36:42 2020 -0700\n",
      "\u001b[32m|\u001b[m \u001b[33m|\u001b[m \n",
      "\u001b[32m|\u001b[m \u001b[33m|\u001b[m     Make some edits intro enso ms\n",
      "\u001b[32m|\u001b[m \u001b[33m|\u001b[m \n",
      "* \u001b[33m|\u001b[m \u001b[33mcommit 26aa2cd6ec4908d7f886f20577def9567276cf02\u001b[m\n",
      "\u001b[33m|\u001b[m\u001b[33m/\u001b[m  Author: Marie-Helene Burle <marie.burle@westgrid.ca>\n",
      "\u001b[33m|\u001b[m   Date:   Fri Sep 11 14:40:54 2020 -0700\n",
      "\u001b[33m|\u001b[m   \n",
      "\u001b[33m|\u001b[m       Make conflicting edits enso ms\n",
      "\u001b[33m|\u001b[m   \n",
      "*   \u001b[33mcommit 50eaaebda435082fa7b4336ca799a33917cc37e5\u001b[m\n",
      "\u001b[34m|\u001b[m\u001b[35m\\\u001b[m  Merge: e343951 fa4187d\n",
      "\u001b[34m|\u001b[m \u001b[35m|\u001b[m Author: Marie-Helene Burle <marie.burle@westgrid.ca>\n",
      "\u001b[34m|\u001b[m \u001b[35m|\u001b[m Date:   Fri Sep 11 14:22:02 2020 -0700\n",
      "\u001b[34m|\u001b[m \u001b[35m|\u001b[m \n",
      "\u001b[34m|\u001b[m \u001b[35m|\u001b[m     Merge branch 'test2' into master\n",
      "\u001b[34m|\u001b[m \u001b[35m|\u001b[m \n",
      "\u001b[34m|\u001b[m * \u001b[33mcommit fa4187d77a94f6903b36219c918e863123d13c2a\u001b[m\u001b[33m (\u001b[m\u001b[1;32mtest2\u001b[m\u001b[33m)\u001b[m\n",
      "\u001b[34m|\u001b[m \u001b[35m|\u001b[m Author: Marie-Helene Burle <marie.burle@westgrid.ca>\n",
      "\u001b[34m|\u001b[m \u001b[35m|\u001b[m Date:   Fri Sep 11 14:20:09 2020 -0700\n",
      "\u001b[34m|\u001b[m \u001b[35m|\u001b[m \n",
      "\u001b[34m|\u001b[m \u001b[35m|\u001b[m     Edit enso ms\n",
      "\u001b[34m|\u001b[m \u001b[35m|\u001b[m \n",
      "* \u001b[35m|\u001b[m \u001b[33mcommit e34395158fcc9d1ca1dfc43fb8ae5ecc61347f02\u001b[m\n",
      "\u001b[35m|\u001b[m\u001b[35m/\u001b[m  Author: Marie-Helene Burle <marie.burle@westgrid.ca>\n",
      "\u001b[35m|\u001b[m   Date:   Fri Sep 11 14:21:18 2020 -0700\n",
      "\u001b[35m|\u001b[m   \n",
      "\u001b[35m|\u001b[m       Add code enso script\n",
      "\u001b[35m|\u001b[m \n",
      "* \u001b[33mcommit cc7ab28f213377399b66aa2f259091d107921141\u001b[m\u001b[33m (\u001b[m\u001b[1;32mtest\u001b[m\u001b[33m)\u001b[m\n",
      "\u001b[35m|\u001b[m Author: Marie-Helene Burle <marie.burle@westgrid.ca>\n",
      "\u001b[35m|\u001b[m Date:   Fri Sep 11 13:55:03 2020 -0700\n",
      "\u001b[35m|\u001b[m \n",
      "\u001b[35m|\u001b[m     Add some content to acidity script\n",
      "\u001b[35m|\u001b[m \n",
      "* \u001b[33mcommit d1169e09bc1ad692d5bbfeb49160b29c909254f8\u001b[m\n",
      "\u001b[35m|\u001b[m Author: Marie-Helene Burle <marie.burle@westgrid.ca>\n",
      "\u001b[35m|\u001b[m Date:   Fri Sep 11 13:54:04 2020 -0700\n",
      "\u001b[35m|\u001b[m \n",
      "\u001b[35m|\u001b[m     Add new acidity script\n",
      "\u001b[35m|\u001b[m \n",
      "* \u001b[33mcommit 7207059432f467debaa8d75827f08196951a152d\u001b[m\u001b[33m (\u001b[m\u001b[1;32mdev\u001b[m\u001b[33m)\u001b[m\n",
      "\u001b[35m|\u001b[m Author: Marie-Helene Burle <marie.burle@westgrid.ca>\n",
      "\u001b[35m|\u001b[m Date:   Fri Sep 11 11:46:43 2020 -0700\n",
      "\u001b[35m|\u001b[m \n",
      "\u001b[35m|\u001b[m     add .gitignore with /result/\n",
      "\u001b[35m|\u001b[m \n",
      "* \u001b[33mcommit 86ee292fe241fdefa628379d962941e741f0ea36\u001b[m\n",
      "\u001b[35m|\u001b[m Author: Marie-Helene Burle <marie.burle@westgrid.ca>\n",
      "\u001b[35m|\u001b[m Date:   Fri Sep 11 11:46:05 2020 -0700\n",
      "\u001b[35m|\u001b[m \n",
      "\u001b[35m|\u001b[m     Add Jabberwock to ms and script\n",
      "\u001b[35m|\u001b[m \n",
      "* \u001b[33mcommit d9454033548ea49b38d5fde792c74e172e8aca8a\u001b[m\n",
      "\u001b[35m|\u001b[m Author: Marie-Helene Burle <marie.burle@westgrid.ca>\n",
      "\u001b[35m|\u001b[m Date:   Fri Sep 11 11:35:18 2020 -0700\n",
      "\u001b[35m|\u001b[m \n",
      "\u001b[35m|\u001b[m     Add first draft enso ms\n",
      "\u001b[35m|\u001b[m \n",
      "* \u001b[33mcommit b8d72d15ab02bdc1f6dc14422cf52eeb39a2bba0\u001b[m\u001b[33m (\u001b[m\u001b[1;33mtag: J_Climate_2009\u001b[m\u001b[33m)\u001b[m\n",
      "\u001b[35m|\u001b[m Author: Marie-Helene Burle <marie.burle@westgrid.ca>\n",
      "\u001b[35m|\u001b[m Date:   Fri Sep 11 10:40:06 2020 -0700\n",
      "\u001b[35m|\u001b[m \n",
      "\u001b[35m|\u001b[m     Change end date enso script to 2019\n",
      "\u001b[35m|\u001b[m \n",
      "* \u001b[33mcommit 6f21c25496863d8c735800d465f5c879d7639a6a\u001b[m\n",
      "  Author: Marie-Helene Burle <marie.burle@westgrid.ca>\n",
      "  Date:   Fri Sep 11 10:22:07 2020 -0700\n",
      "  \n",
      "      Initial commit\n"
     ]
    }
   ],
   "source": [
    "git log --graph"
   ]
  },
  {
   "cell_type": "code",
   "execution_count": 14,
   "metadata": {},
   "outputs": [
    {
     "name": "stdout",
     "output_type": "stream",
     "text": [
      "* \u001b[33mcommit 58bed3c4259632ad9a5cdd36a425077a12eebd21\u001b[m\u001b[33m (\u001b[m\u001b[1;36mHEAD -> \u001b[m\u001b[1;32mmaster\u001b[m\u001b[33m)\u001b[m\n",
      "\u001b[31m|\u001b[m Author: Marie-Helene Burle <marie.burle@westgrid.ca>\n",
      "\u001b[31m|\u001b[m Date:   Sun Sep 13 16:52:03 2020 -0700\n",
      "\u001b[31m|\u001b[m \n",
      "\u001b[31m|\u001b[m     Restore\n",
      "\u001b[31m|\u001b[m \n",
      "* \u001b[33mcommit 25a79b34490b9cc31f2b71500b86f38efea045e5\u001b[m\n",
      "\u001b[31m|\u001b[m Author: Marie-Helene Burle <marie.burle@westgrid.ca>\n",
      "\u001b[31m|\u001b[m Date:   Sun Sep 13 16:48:13 2020 -0700\n",
      "\u001b[31m|\u001b[m \n",
      "\u001b[31m|\u001b[m     add tut\n",
      "\u001b[31m|\u001b[m \n",
      "* \u001b[33mcommit f628a259ef29855da56e904a56e575cfcb51b703\u001b[m\n",
      "\u001b[31m|\u001b[m Author: Marie-Helene Burle <marie.burle@westgrid.ca>\n",
      "\u001b[31m|\u001b[m Date:   Sun Sep 13 16:48:02 2020 -0700\n",
      "\u001b[31m|\u001b[m \n",
      "\u001b[31m|\u001b[m     add tat\n",
      "\u001b[31m|\u001b[m \n",
      "* \u001b[33mcommit f20e8a27b738c3ca2d5ceb1d60f7176e0d94b852\u001b[m\n",
      "\u001b[31m|\u001b[m Author: Marie-Helene Burle <marie.burle@westgrid.ca>\n",
      "\u001b[31m|\u001b[m Date:   Sun Sep 13 16:47:34 2020 -0700\n",
      "\u001b[31m|\u001b[m \n",
      "\u001b[31m|\u001b[m     add tut\n",
      "\u001b[31m|\u001b[m \n",
      "* \u001b[33mcommit cec10427c61aa5444c26d63972d42740804684d4\u001b[m\n",
      "\u001b[31m|\u001b[m Author: Marie-Helene Burle <marie.burle@westgrid.ca>\n",
      "\u001b[31m|\u001b[m Date:   Sun Sep 13 16:47:24 2020 -0700\n",
      "\u001b[31m|\u001b[m \n",
      "\u001b[31m|\u001b[m     add tat\n",
      "\u001b[31m|\u001b[m \n",
      "* \u001b[33mcommit ddb4f83b94cf99e3bd7708aff826000b38ddffb7\u001b[m\n",
      "\u001b[31m|\u001b[m Author: Marie-Helene Burle <marie.burle@westgrid.ca>\n",
      "\u001b[31m|\u001b[m Date:   Sun Sep 13 16:45:55 2020 -0700\n",
      "\u001b[31m|\u001b[m \n",
      "\u001b[31m|\u001b[m     test2\n",
      "\u001b[31m|\u001b[m \n",
      "* \u001b[33mcommit dfabc7965836dec4961fc8d22513ece0bf31209e\u001b[m\n",
      "\u001b[31m|\u001b[m Author: Marie-Helene Burle <marie.burle@westgrid.ca>\n",
      "\u001b[31m|\u001b[m Date:   Sun Sep 13 16:40:09 2020 -0700\n",
      "\u001b[31m|\u001b[m \n",
      "\u001b[31m|\u001b[m     test1\n",
      "\u001b[31m|\u001b[m \n",
      "* \u001b[33mcommit 6e0c38c38e894265aa562d9299589d307dc60324\u001b[m\n",
      "\u001b[31m|\u001b[m Author: Marie-Helene Burle <marie.burle@westgrid.ca>\n",
      "\u001b[31m|\u001b[m Date:   Sun Sep 13 16:36:38 2020 -0700\n",
      "\u001b[31m|\u001b[m \n",
      "\u001b[31m|\u001b[m     test\n",
      "\u001b[31m|\u001b[m   \n",
      "*   \u001b[33mcommit 91ba70abb57c762d3466bf36dd348e65f7b711d8\u001b[m\n",
      "\u001b[32m|\u001b[m\u001b[33m\\\u001b[m  Merge: 26aa2cd 2405b50\n",
      "\u001b[32m|\u001b[m \u001b[33m|\u001b[m Author: Marie-Helene Burle <marie.burle@westgrid.ca>\n",
      "\u001b[32m|\u001b[m \u001b[33m|\u001b[m Date:   Fri Sep 11 15:03:45 2020 -0700\n",
      "\u001b[32m|\u001b[m \u001b[33m|\u001b[m \n",
      "\u001b[32m|\u001b[m \u001b[33m|\u001b[m     Merge branch 'test3' into master\n",
      "\u001b[32m|\u001b[m \u001b[33m|\u001b[m \n",
      "\u001b[32m|\u001b[m * \u001b[33mcommit 2405b50b8f415b4387985225901b1863785b558e\u001b[m\u001b[33m (\u001b[m\u001b[1;32mtest3\u001b[m\u001b[33m)\u001b[m\n",
      "\u001b[32m|\u001b[m \u001b[33m|\u001b[m Author: Marie-Helene Burle <marie.burle@westgrid.ca>\n",
      "\u001b[32m|\u001b[m \u001b[33m|\u001b[m Date:   Fri Sep 11 14:36:42 2020 -0700\n",
      "\u001b[32m|\u001b[m \u001b[33m|\u001b[m \n",
      "\u001b[32m|\u001b[m \u001b[33m|\u001b[m     Make some edits intro enso ms\n",
      "\u001b[32m|\u001b[m \u001b[33m|\u001b[m \n",
      "* \u001b[33m|\u001b[m \u001b[33mcommit 26aa2cd6ec4908d7f886f20577def9567276cf02\u001b[m\n",
      "\u001b[33m|\u001b[m\u001b[33m/\u001b[m  Author: Marie-Helene Burle <marie.burle@westgrid.ca>\n",
      "\u001b[33m|\u001b[m   Date:   Fri Sep 11 14:40:54 2020 -0700\n",
      "\u001b[33m|\u001b[m   \n",
      "\u001b[33m|\u001b[m       Make conflicting edits enso ms\n",
      "\u001b[33m|\u001b[m   \n",
      "*   \u001b[33mcommit 50eaaebda435082fa7b4336ca799a33917cc37e5\u001b[m\n",
      "\u001b[34m|\u001b[m\u001b[35m\\\u001b[m  Merge: e343951 fa4187d\n",
      "\u001b[34m|\u001b[m \u001b[35m|\u001b[m Author: Marie-Helene Burle <marie.burle@westgrid.ca>\n",
      "\u001b[34m|\u001b[m \u001b[35m|\u001b[m Date:   Fri Sep 11 14:22:02 2020 -0700\n",
      "\u001b[34m|\u001b[m \u001b[35m|\u001b[m \n",
      "\u001b[34m|\u001b[m \u001b[35m|\u001b[m     Merge branch 'test2' into master\n",
      "\u001b[34m|\u001b[m \u001b[35m|\u001b[m \n",
      "\u001b[34m|\u001b[m * \u001b[33mcommit fa4187d77a94f6903b36219c918e863123d13c2a\u001b[m\u001b[33m (\u001b[m\u001b[1;32mtest2\u001b[m\u001b[33m)\u001b[m\n",
      "\u001b[34m|\u001b[m \u001b[35m|\u001b[m Author: Marie-Helene Burle <marie.burle@westgrid.ca>\n",
      "\u001b[34m|\u001b[m \u001b[35m|\u001b[m Date:   Fri Sep 11 14:20:09 2020 -0700\n",
      "\u001b[34m|\u001b[m \u001b[35m|\u001b[m \n",
      "\u001b[34m|\u001b[m \u001b[35m|\u001b[m     Edit enso ms\n",
      "\u001b[34m|\u001b[m \u001b[35m|\u001b[m \n",
      "* \u001b[35m|\u001b[m \u001b[33mcommit e34395158fcc9d1ca1dfc43fb8ae5ecc61347f02\u001b[m\n",
      "\u001b[35m|\u001b[m\u001b[35m/\u001b[m  Author: Marie-Helene Burle <marie.burle@westgrid.ca>\n",
      "\u001b[35m|\u001b[m   Date:   Fri Sep 11 14:21:18 2020 -0700\n",
      "\u001b[35m|\u001b[m   \n",
      "\u001b[35m|\u001b[m       Add code enso script\n",
      "\u001b[35m|\u001b[m \n",
      "* \u001b[33mcommit cc7ab28f213377399b66aa2f259091d107921141\u001b[m\u001b[33m (\u001b[m\u001b[1;32mtest\u001b[m\u001b[33m)\u001b[m\n",
      "\u001b[35m|\u001b[m Author: Marie-Helene Burle <marie.burle@westgrid.ca>\n",
      "\u001b[35m|\u001b[m Date:   Fri Sep 11 13:55:03 2020 -0700\n",
      "\u001b[35m|\u001b[m \n",
      "\u001b[35m|\u001b[m     Add some content to acidity script\n",
      "\u001b[35m|\u001b[m   \n",
      "\u001b[35m|\u001b[m * \u001b[33mcommit 1c1da0bbbdd43dbf2a2ccc64ea24d6f800a978ec\u001b[m\u001b[33m (\u001b[m\u001b[1;32malternative\u001b[m\u001b[33m)\u001b[m\n",
      "\u001b[35m|\u001b[m\u001b[35m/\u001b[m  Author: Marie-Helene Burle <marie.burle@westgrid.ca>\n",
      "\u001b[35m|\u001b[m   Date:   Fri Sep 11 15:46:04 2020 -0700\n",
      "\u001b[35m|\u001b[m   \n",
      "\u001b[35m|\u001b[m       Make some edits to acidity script\n",
      "\u001b[35m|\u001b[m \n",
      "* \u001b[33mcommit d1169e09bc1ad692d5bbfeb49160b29c909254f8\u001b[m\n",
      "\u001b[36m|\u001b[m Author: Marie-Helene Burle <marie.burle@westgrid.ca>\n",
      "\u001b[36m|\u001b[m Date:   Fri Sep 11 13:54:04 2020 -0700\n",
      "\u001b[36m|\u001b[m \n",
      "\u001b[36m|\u001b[m     Add new acidity script\n",
      "\u001b[36m|\u001b[m   \n",
      "\u001b[36m|\u001b[m * \u001b[33mcommit 2c844dafa235752b0b8ad6a25d2b9ccfcca80765\u001b[m\u001b[33m (\u001b[m\u001b[1;35mrefs/stash\u001b[m\u001b[33m)\u001b[m\n",
      "\u001b[36m|\u001b[m\u001b[36m/\u001b[m\u001b[1;32m|\u001b[m Merge: 7207059 3747c2d\n",
      "\u001b[36m|\u001b[m \u001b[1;32m|\u001b[m Author: Marie-Helene Burle <marie.burle@westgrid.ca>\n",
      "\u001b[36m|\u001b[m \u001b[1;32m|\u001b[m Date:   Fri Sep 11 13:34:38 2020 -0700\n",
      "\u001b[36m|\u001b[m \u001b[1;32m|\u001b[m \n",
      "\u001b[36m|\u001b[m \u001b[1;32m|\u001b[m     WIP on master: 7207059 add .gitignore with /result/\n",
      "\u001b[36m|\u001b[m \u001b[1;32m|\u001b[m \n",
      "\u001b[36m|\u001b[m * \u001b[33mcommit 3747c2d55f4849b1a4569ddb10fc0c94569441a7\u001b[m\n",
      "\u001b[36m|\u001b[m\u001b[36m/\u001b[m  Author: Marie-Helene Burle <marie.burle@westgrid.ca>\n",
      "\u001b[36m|\u001b[m   Date:   Fri Sep 11 13:34:38 2020 -0700\n",
      "\u001b[36m|\u001b[m   \n",
      "\u001b[36m|\u001b[m       index on master: 7207059 add .gitignore with /result/\n",
      "\u001b[36m|\u001b[m \n",
      "* \u001b[33mcommit 7207059432f467debaa8d75827f08196951a152d\u001b[m\u001b[33m (\u001b[m\u001b[1;32mdev\u001b[m\u001b[33m)\u001b[m\n",
      "\u001b[1;32m|\u001b[m Author: Marie-Helene Burle <marie.burle@westgrid.ca>\n",
      "\u001b[1;32m|\u001b[m Date:   Fri Sep 11 11:46:43 2020 -0700\n",
      "\u001b[1;32m|\u001b[m \n",
      "\u001b[1;32m|\u001b[m     add .gitignore with /result/\n",
      "\u001b[1;32m|\u001b[m \n",
      "* \u001b[33mcommit 86ee292fe241fdefa628379d962941e741f0ea36\u001b[m\n",
      "\u001b[1;32m|\u001b[m Author: Marie-Helene Burle <marie.burle@westgrid.ca>\n",
      "\u001b[1;32m|\u001b[m Date:   Fri Sep 11 11:46:05 2020 -0700\n",
      "\u001b[1;32m|\u001b[m \n",
      "\u001b[1;32m|\u001b[m     Add Jabberwock to ms and script\n",
      "\u001b[1;32m|\u001b[m \n",
      "* \u001b[33mcommit d9454033548ea49b38d5fde792c74e172e8aca8a\u001b[m\n",
      "\u001b[1;32m|\u001b[m Author: Marie-Helene Burle <marie.burle@westgrid.ca>\n",
      "\u001b[1;32m|\u001b[m Date:   Fri Sep 11 11:35:18 2020 -0700\n",
      "\u001b[1;32m|\u001b[m \n",
      "\u001b[1;32m|\u001b[m     Add first draft enso ms\n",
      "\u001b[1;32m|\u001b[m \n",
      "* \u001b[33mcommit b8d72d15ab02bdc1f6dc14422cf52eeb39a2bba0\u001b[m\u001b[33m (\u001b[m\u001b[1;33mtag: J_Climate_2009\u001b[m\u001b[33m)\u001b[m\n",
      "\u001b[1;32m|\u001b[m Author: Marie-Helene Burle <marie.burle@westgrid.ca>\n",
      "\u001b[1;32m|\u001b[m Date:   Fri Sep 11 10:40:06 2020 -0700\n",
      "\u001b[1;32m|\u001b[m \n",
      "\u001b[1;32m|\u001b[m     Change end date enso script to 2019\n",
      "\u001b[1;32m|\u001b[m \n",
      "* \u001b[33mcommit 6f21c25496863d8c735800d465f5c879d7639a6a\u001b[m\n",
      "  Author: Marie-Helene Burle <marie.burle@westgrid.ca>\n",
      "  Date:   Fri Sep 11 10:22:07 2020 -0700\n",
      "  \n",
      "      Initial commit\n"
     ]
    }
   ],
   "source": [
    "git log --graph --all"
   ]
  },
  {
   "cell_type": "markdown",
   "metadata": {},
   "source": [
    "<br><br><br><br><br><br><br><br>"
   ]
  },
  {
   "cell_type": "markdown",
   "metadata": {
    "slideshow": {
     "slide_type": "subslide"
    }
   },
   "source": [
    "<span class=\"header\">Exploring the past</span>\n",
    "\n",
    "### <div style=\"padding: 5vmin 0 0 0\">Revisiting old commits</div>\n",
    "<br>\n",
    "\n",
    "```sh\n",
    "git checkout <commit-hash>\n",
    "```\n",
    "\n",
    "You can also use tags:\n",
    "```sh\n",
    "git checkout <tag-name>\n",
    "```"
   ]
  },
  {
   "cell_type": "code",
   "execution_count": null,
   "metadata": {},
   "outputs": [],
   "source": [
    "git checkout xxxx"
   ]
  },
  {
   "cell_type": "code",
   "execution_count": null,
   "metadata": {},
   "outputs": [],
   "source": [
    "git checkout master"
   ]
  },
  {
   "cell_type": "markdown",
   "metadata": {},
   "source": [
    "<br><br><br><br><br><br><br><br>"
   ]
  },
  {
   "cell_type": "markdown",
   "metadata": {
    "slideshow": {
     "slide_type": "subslide"
    }
   },
   "source": [
    "<span class=\"header\"><font color=\"#e66700\">**Under the hood**</font></span>\n",
    "<br><br>\n",
    "![](img/diagrams/22.png)"
   ]
  },
  {
   "cell_type": "markdown",
   "metadata": {
    "slideshow": {
     "slide_type": "subslide"
    }
   },
   "source": [
    "<span class=\"header\"><font color=\"#e66700\">**Under the hood**</font></span>\n",
    "<br><br>\n",
    "![](img/diagrams/41.png)"
   ]
  },
  {
   "cell_type": "markdown",
   "metadata": {
    "slideshow": {
     "slide_type": "subslide"
    }
   },
   "source": [
    "<span class=\"header\"><font color=\"#e66700\">**Under the hood**</font></span>\n",
    "<br><br>\n",
    "![](img/diagrams/22.png)"
   ]
  },
  {
   "cell_type": "markdown",
   "metadata": {
    "slideshow": {
     "slide_type": "subslide"
    }
   },
   "source": [
    "<span class=\"header\">Exploring the past</span>\n",
    "<br>\n",
    "\n",
    "### Detached HEAD\n",
    "<br>\n",
    "\n",
    "#### <div style=\"text-align: left\">Dangerous workflow</div>"
   ]
  },
  {
   "cell_type": "code",
   "execution_count": null,
   "metadata": {},
   "outputs": [],
   "source": [
    "git checkout xxxx"
   ]
  },
  {
   "cell_type": "code",
   "execution_count": null,
   "metadata": {},
   "outputs": [],
   "source": [
    "echo \"lala\" >> ms/enso_effect.md"
   ]
  },
  {
   "cell_type": "code",
   "execution_count": null,
   "metadata": {},
   "outputs": [],
   "source": [
    "git status"
   ]
  },
  {
   "cell_type": "code",
   "execution_count": null,
   "metadata": {},
   "outputs": [],
   "source": [
    "git commit -a -m \"Exploration from commit xxx\""
   ]
  },
  {
   "cell_type": "code",
   "execution_count": null,
   "metadata": {},
   "outputs": [],
   "source": [
    "git status"
   ]
  },
  {
   "cell_type": "code",
   "execution_count": null,
   "metadata": {},
   "outputs": [],
   "source": [
    "echo \"tutut\" >> ms/enso_effect.md"
   ]
  },
  {
   "cell_type": "code",
   "execution_count": null,
   "metadata": {},
   "outputs": [],
   "source": [
    "git commit -a -m \"Another commit on that branch\""
   ]
  },
  {
   "cell_type": "code",
   "execution_count": null,
   "metadata": {},
   "outputs": [],
   "source": [
    "git status"
   ]
  },
  {
   "cell_type": "code",
   "execution_count": null,
   "metadata": {},
   "outputs": [],
   "source": [
    "git checkout master"
   ]
  },
  {
   "cell_type": "markdown",
   "metadata": {},
   "source": [
    "<br><br><br><br><br><br><br><br>"
   ]
  },
  {
   "cell_type": "markdown",
   "metadata": {
    "slideshow": {
     "slide_type": "subslide"
    }
   },
   "source": [
    "<span class=\"header\"><font color=\"#e66700\">**Under the hood**</font></span>\n",
    "<br><br>\n",
    "![](img/diagrams/22.png)"
   ]
  },
  {
   "cell_type": "markdown",
   "metadata": {
    "slideshow": {
     "slide_type": "subslide"
    }
   },
   "source": [
    "<span class=\"header\"><font color=\"#e66700\">**Under the hood**</font></span>\n",
    "<br><br>\n",
    "![](img/diagrams/41.png)"
   ]
  },
  {
   "cell_type": "markdown",
   "metadata": {
    "slideshow": {
     "slide_type": "subslide"
    }
   },
   "source": [
    "<span class=\"header\"><font color=\"#e66700\">**Under the hood**</font></span>\n",
    "<br><br>\n",
    "![](img/diagrams/44.png)"
   ]
  },
  {
   "cell_type": "markdown",
   "metadata": {
    "slideshow": {
     "slide_type": "subslide"
    }
   },
   "source": [
    "<span class=\"header\"><font color=\"#e66700\">**Under the hood**</font></span>\n",
    "<br><br>\n",
    "![](img/diagrams/45.png)"
   ]
  },
  {
   "cell_type": "markdown",
   "metadata": {
    "slideshow": {
     "slide_type": "subslide"
    }
   },
   "source": [
    "<span class=\"header\"><font color=\"#e66700\">**Under the hood**</font></span>\n",
    "<br><br>\n",
    "![](img/diagrams/46.png)"
   ]
  },
  {
   "cell_type": "markdown",
   "metadata": {
    "slideshow": {
     "slide_type": "subslide"
    }
   },
   "source": [
    "<span class=\"header\">Exploring the past</span>\n",
    "<br>\n",
    "\n",
    "### Detached HEAD\n",
    "<br>\n",
    "\n",
    "#### <div style=\"text-align: left\">Safe approach</div>"
   ]
  },
  {
   "cell_type": "code",
   "execution_count": null,
   "metadata": {},
   "outputs": [],
   "source": [
    "git checkout xxxx"
   ]
  },
  {
   "cell_type": "code",
   "execution_count": null,
   "metadata": {},
   "outputs": [],
   "source": [
    "echo \"lala\" >> ms/enso_effect.md"
   ]
  },
  {
   "cell_type": "code",
   "execution_count": null,
   "metadata": {},
   "outputs": [],
   "source": [
    "git status"
   ]
  },
  {
   "cell_type": "code",
   "execution_count": null,
   "metadata": {},
   "outputs": [],
   "source": [
    "git commit -a -m \"Exploration from commit xxx\""
   ]
  },
  {
   "cell_type": "code",
   "execution_count": null,
   "metadata": {},
   "outputs": [],
   "source": [
    "echo \"tutut\" >> ms/enso_effect.md"
   ]
  },
  {
   "cell_type": "code",
   "execution_count": null,
   "metadata": {},
   "outputs": [],
   "source": [
    "git commit -a -m \"Another commit on that branch\""
   ]
  },
  {
   "cell_type": "code",
   "execution_count": null,
   "metadata": {},
   "outputs": [],
   "source": [
    "git status"
   ]
  },
  {
   "cell_type": "code",
   "execution_count": null,
   "metadata": {},
   "outputs": [],
   "source": [
    "git checkout -b alternative"
   ]
  },
  {
   "cell_type": "code",
   "execution_count": null,
   "metadata": {},
   "outputs": [],
   "source": [
    "git status"
   ]
  },
  {
   "cell_type": "code",
   "execution_count": null,
   "metadata": {},
   "outputs": [],
   "source": [
    "git checkout master"
   ]
  },
  {
   "cell_type": "markdown",
   "metadata": {},
   "source": [
    "<br><br><br><br><br><br><br><br>"
   ]
  },
  {
   "cell_type": "markdown",
   "metadata": {
    "slideshow": {
     "slide_type": "subslide"
    }
   },
   "source": [
    "<span class=\"header\"><font color=\"#e66700\">**Under the hood**</font></span>\n",
    "<br><br>\n",
    "![](img/diagrams/22.png)"
   ]
  },
  {
   "cell_type": "markdown",
   "metadata": {
    "slideshow": {
     "slide_type": "subslide"
    }
   },
   "source": [
    "<span class=\"header\"><font color=\"#e66700\">**Under the hood**</font></span>\n",
    "<br><br>\n",
    "![](img/diagrams/41.png)"
   ]
  },
  {
   "cell_type": "markdown",
   "metadata": {
    "slideshow": {
     "slide_type": "subslide"
    }
   },
   "source": [
    "<span class=\"header\"><font color=\"#e66700\">**Under the hood**</font></span>\n",
    "<br><br>\n",
    "![](img/diagrams/44.png)"
   ]
  },
  {
   "cell_type": "markdown",
   "metadata": {
    "slideshow": {
     "slide_type": "subslide"
    }
   },
   "source": [
    "<span class=\"header\"><font color=\"#e66700\">**Under the hood**</font></span>\n",
    "<br><br>\n",
    "![](img/diagrams/45.png)"
   ]
  },
  {
   "cell_type": "markdown",
   "metadata": {
    "slideshow": {
     "slide_type": "subslide"
    }
   },
   "source": [
    "<span class=\"header\"><font color=\"#e66700\">**Under the hood**</font></span>\n",
    "<br><br>\n",
    "![](img/diagrams/48.png)"
   ]
  },
  {
   "cell_type": "markdown",
   "metadata": {
    "slideshow": {
     "slide_type": "subslide"
    }
   },
   "source": [
    "<span class=\"header\"><font color=\"#e66700\">**Under the hood**</font></span>\n",
    "<br><br>\n",
    "![](img/diagrams/49.png)"
   ]
  },
  {
   "cell_type": "markdown",
   "metadata": {
    "slideshow": {
     "slide_type": "subslide"
    }
   },
   "source": [
    "<span class=\"header\">Exploring the past</span>\n",
    "<br>\n",
    "\n",
    "### Detached HEAD\n",
    "<br>\n",
    "\n",
    "#### <div style=\"text-align: left\">How to recover if you loose commits?</div>\n",
    "\n",
    "**Do this as soon as you can as the commits which are not on a branch will be deleted at the next garbage collection.**"
   ]
  },
  {
   "cell_type": "code",
   "execution_count": null,
   "metadata": {},
   "outputs": [],
   "source": [
    "git reflog"
   ]
  },
  {
   "cell_type": "code",
   "execution_count": null,
   "metadata": {},
   "outputs": [],
   "source": [
    "git checkout xxxx"
   ]
  },
  {
   "cell_type": "code",
   "execution_count": null,
   "metadata": {},
   "outputs": [],
   "source": [
    "git checkout -b new_branch"
   ]
  },
  {
   "cell_type": "markdown",
   "metadata": {},
   "source": [
    "<br><br><br><br><br><br><br><br>"
   ]
  },
  {
   "cell_type": "markdown",
   "metadata": {
    "slideshow": {
     "slide_type": "subslide"
    }
   },
   "source": [
    "<span class=\"header\">Exploring the past</span>\n",
    "<br>\n",
    "\n",
    "### Quickly getting the content of a file at a Git object\n",
    "<br>\n",
    "\n",
    "`git show` allow you to quickly retrieve the content of any file at any Git object (commit, tag, branch, `HEAD~x`)\n",
    "\n",
    "```sh\n",
    "git show xxxx:/path/to/file\n",
    "```"
   ]
  },
  {
   "cell_type": "code",
   "execution_count": null,
   "metadata": {},
   "outputs": [],
   "source": []
  },
  {
   "cell_type": "markdown",
   "metadata": {},
   "source": [
    "<br><br><br><br><br><br><br><br>"
   ]
  },
  {
   "cell_type": "markdown",
   "metadata": {
    "slideshow": {
     "slide_type": "subslide"
    }
   },
   "source": [
    "<span class=\"header\">Exploring the past</span>\n",
    "<br>\n",
    "\n",
    "### A note on notation: those `~` and `^`\n",
    "<br>\n",
    "\n",
    "`HEAD^^^` = `HEAD~~~` = `HEAD~3`\n",
    "\n",
    "But `HEAD^3` is different!"
   ]
  },
  {
   "cell_type": "code",
   "execution_count": null,
   "metadata": {},
   "outputs": [],
   "source": []
  },
  {
   "cell_type": "markdown",
   "metadata": {},
   "source": [
    "<br><br><br><br><br><br><br><br>"
   ]
  },
  {
   "cell_type": "markdown",
   "metadata": {
    "cell_style": "center",
    "slideshow": {
     "slide_type": "slide"
    }
   },
   "source": [
    "## Undoing"
   ]
  },
  {
   "cell_type": "markdown",
   "metadata": {
    "slideshow": {
     "slide_type": "subslide"
    }
   },
   "source": [
    "<span class=\"header\">Undoing</span>\n",
    "<br>\n",
    "\n",
    "### Codes\n",
    "<br>\n",
    "\n",
    "<font color=\"#5c85d6\">**Safe**</font>\n",
    "<br>\n",
    "You can do this safely at any time as you can always go back to where you were before doing it.\n",
    "\n",
    "<font color=\"#e67300\">**! Data loss**</font>\n",
    "<br>\n",
    "Warning: this involves the loss of some information. Make sure that you do not want that information before doing this.\n",
    "\n",
    "<font color=\"#e67300\">**! Collaboration**</font>\n",
    "<br>\n",
    "Warning: this should **not** be done on something you already pushed to a remote when you are collaborating with others."
   ]
  },
  {
   "cell_type": "markdown",
   "metadata": {
    "slideshow": {
     "slide_type": "subslide"
    }
   },
   "source": [
    "<span class=\"header\">Undoing</span>\n",
    "\n",
    "### <div style=\"padding: 3vmin 0 0 0\">Codes</div>\n",
    "<br>\n",
    "\n",
    "<font color=\"#5c85d6\">**Safe**</font>\n",
    "<br>\n",
    "Workflows with branches and `git revert` are safe. They can make for tortuous and messy histories however.\n",
    "\n",
    "<font color=\"#e67300\">**! Data loss**</font>\n",
    "<br>\n",
    "Information can be lost when you:<br>\n",
    "&emsp; discard uncommitted work,<br>\n",
    "&emsp; let the garbage collection eliminate commits that are not on a branch,<br>\n",
    "&emsp; discard stashes that haven't been reapplied.<br>\n",
    "**In any of these situations, make sure you really don't want to keep that data in your history.**\n",
    "\n",
    "<font color=\"#e67300\">**! Collaboration**</font>\n",
    "<br>\n",
    "Whenever you touch at commits, there is a potential for messing up the workflow of collaborators.<br>\n",
    "**Best to keep these for local work.** <br>\n",
    "For local work (before pushing to a remote) however, they allow to fix horrible histories."
   ]
  },
  {
   "cell_type": "markdown",
   "metadata": {
    "slideshow": {
     "slide_type": "subslide"
    }
   },
   "source": [
    "<span class=\"header\">Undoing</span>\n",
    "<br>\n",
    "\n",
    "### Reverting &emsp; <font color=\"#5c85d6\">**Safe**</font>\n",
    "<br>\n",
    "\n",
    "*The working directory must be clean.*\n",
    "\n",
    "Create a new commit which reverses the effect of past commit(s)."
   ]
  },
  {
   "cell_type": "markdown",
   "metadata": {
    "slideshow": {
     "slide_type": "subslide"
    }
   },
   "source": [
    "<span class=\"header\"><font color=\"#e66700\">**Under the hood**</font></span>\n",
    "<br><br>\n",
    "![](img/diagrams/54.png)"
   ]
  },
  {
   "cell_type": "markdown",
   "metadata": {
    "slideshow": {
     "slide_type": "subslide"
    }
   },
   "source": [
    "<span class=\"header\"><font color=\"#e66700\">**Under the hood**</font></span>\n",
    "<br><br>\n",
    "![](img/diagrams/67.png)"
   ]
  },
  {
   "cell_type": "markdown",
   "metadata": {
    "slideshow": {
     "slide_type": "subslide"
    }
   },
   "source": [
    "<span class=\"header\">Undoing</span>\n",
    "<br>\n",
    "\n",
    "### Reverting &emsp; <font color=\"#5c85d6\">**Safe**</font>\n",
    "<br>\n",
    "\n",
    "*The working directory must be clean.*\n",
    "\n",
    "Create a new commit which reverses the effect of past commit(s)."
   ]
  },
  {
   "cell_type": "code",
   "execution_count": null,
   "metadata": {},
   "outputs": [],
   "source": []
  },
  {
   "cell_type": "markdown",
   "metadata": {},
   "source": [
    "<br><br><br><br><br><br><br><br>"
   ]
  },
  {
   "cell_type": "markdown",
   "metadata": {
    "slideshow": {
     "slide_type": "subslide"
    }
   },
   "source": [
    "<span class=\"header\">Undoing</span>\n",
    "\n",
    "### Git reset\n",
    "<br>"
   ]
  },
  {
   "cell_type": "markdown",
   "metadata": {
    "slideshow": {
     "slide_type": "subslide"
    }
   },
   "source": [
    "<span class=\"header\"><font color=\"#e66700\">**Under the hood**</font></span>\n",
    "<br><br>\n",
    "![](img/diagrams/54.png)"
   ]
  },
  {
   "cell_type": "markdown",
   "metadata": {
    "slideshow": {
     "slide_type": "subslide"
    }
   },
   "source": [
    "<span class=\"header\"><font color=\"#e66700\">**Under the hood**</font></span>\n",
    "<br><br>\n",
    "![](img/diagrams/55.png)"
   ]
  },
  {
   "cell_type": "markdown",
   "metadata": {
    "slideshow": {
     "slide_type": "subslide"
    }
   },
   "source": [
    "<span class=\"header\">Undoing</span>\n",
    "\n",
    "#### git reset --soft HEAD~2\n",
    "<br>"
   ]
  },
  {
   "cell_type": "markdown",
   "metadata": {
    "slideshow": {
     "slide_type": "subslide"
    }
   },
   "source": [
    "<span class=\"header\"><font color=\"#e66700\">**Under the hood**</font></span>\n",
    "<br><br>\n",
    "![](img/diagrams/56.png)"
   ]
  },
  {
   "cell_type": "markdown",
   "metadata": {
    "slideshow": {
     "slide_type": "subslide"
    }
   },
   "source": [
    "<span class=\"header\"><font color=\"#e66700\">**Under the hood**</font></span>\n",
    "<br><br>\n",
    "![](img/diagrams/57.png)"
   ]
  },
  {
   "cell_type": "markdown",
   "metadata": {
    "slideshow": {
     "slide_type": "subslide"
    }
   },
   "source": [
    "<span class=\"header\"><font color=\"#e66700\">**Under the hood**</font></span>\n",
    "<br><br>\n",
    "![](img/diagrams/58.png)"
   ]
  },
  {
   "cell_type": "markdown",
   "metadata": {
    "slideshow": {
     "slide_type": "subslide"
    }
   },
   "source": [
    "<span class=\"header\"><font color=\"#e66700\">**Under the hood**</font></span>\n",
    "<br><br>\n",
    "![](img/diagrams/54.png)"
   ]
  },
  {
   "cell_type": "markdown",
   "metadata": {
    "slideshow": {
     "slide_type": "subslide"
    }
   },
   "source": [
    "<span class=\"header\"><font color=\"#e66700\">**Under the hood**</font></span>\n",
    "<br><br>\n",
    "![](img/diagrams/55.png)"
   ]
  },
  {
   "cell_type": "markdown",
   "metadata": {
    "slideshow": {
     "slide_type": "subslide"
    }
   },
   "source": [
    "<span class=\"header\">Undoing</span>\n",
    "\n",
    "#### git reset HEAD~2\n",
    "<br>"
   ]
  },
  {
   "cell_type": "markdown",
   "metadata": {
    "slideshow": {
     "slide_type": "subslide"
    }
   },
   "source": [
    "<span class=\"header\"><font color=\"#e66700\">**Under the hood**</font></span>\n",
    "<br><br>\n",
    "![](img/diagrams/56.png)"
   ]
  },
  {
   "cell_type": "markdown",
   "metadata": {
    "slideshow": {
     "slide_type": "subslide"
    }
   },
   "source": [
    "<span class=\"header\"><font color=\"#e66700\">**Under the hood**</font></span>\n",
    "<br><br>\n",
    "![](img/diagrams/59.png)"
   ]
  },
  {
   "cell_type": "markdown",
   "metadata": {
    "slideshow": {
     "slide_type": "subslide"
    }
   },
   "source": [
    "<span class=\"header\">Undoing</span>\n",
    "\n",
    "#### git reset --hard HEAD~2\n",
    "<br>"
   ]
  },
  {
   "cell_type": "markdown",
   "metadata": {
    "slideshow": {
     "slide_type": "subslide"
    }
   },
   "source": [
    "<span class=\"header\"><font color=\"#e66700\">**Under the hood**</font></span>\n",
    "<br><br>\n",
    "![](img/diagrams/60.png)"
   ]
  },
  {
   "cell_type": "markdown",
   "metadata": {
    "slideshow": {
     "slide_type": "subslide"
    }
   },
   "source": [
    "<span class=\"header\"><font color=\"#e66700\">**Under the hood**</font></span>\n",
    "<br><br>\n",
    "![](img/diagrams/54.png)"
   ]
  },
  {
   "cell_type": "markdown",
   "metadata": {
    "slideshow": {
     "slide_type": "subslide"
    }
   },
   "source": [
    "<span class=\"header\"><font color=\"#e66700\">**Under the hood**</font></span>\n",
    "<br><br>\n",
    "![](img/diagrams/55.png)"
   ]
  },
  {
   "cell_type": "markdown",
   "metadata": {
    "slideshow": {
     "slide_type": "subslide"
    }
   },
   "source": [
    "<span class=\"header\"><font color=\"#e66700\">**Under the hood**</font></span>\n",
    "<br><br>\n",
    "![](img/diagrams/61.png)"
   ]
  },
  {
   "cell_type": "markdown",
   "metadata": {
    "slideshow": {
     "slide_type": "subslide"
    }
   },
   "source": [
    "<span class=\"header\"><font color=\"#e66700\">**Under the hood**</font></span>\n",
    "<br><br>\n",
    "![](img/diagrams/62.png)"
   ]
  },
  {
   "cell_type": "markdown",
   "metadata": {
    "slideshow": {
     "slide_type": "subslide"
    }
   },
   "source": [
    "<span class=\"header\"><font color=\"#e66700\">**Under the hood**</font></span>\n",
    "<br><br>\n",
    "![](img/diagrams/63.png)"
   ]
  },
  {
   "cell_type": "markdown",
   "metadata": {
    "slideshow": {
     "slide_type": "subslide"
    }
   },
   "source": [
    "<span class=\"header\">Undoing</span>\n",
    "\n",
    "#### git reset --soft HEAD~2\n",
    "<br>"
   ]
  },
  {
   "cell_type": "markdown",
   "metadata": {
    "slideshow": {
     "slide_type": "subslide"
    }
   },
   "source": [
    "<span class=\"header\"><font color=\"#e66700\">**Under the hood**</font></span>\n",
    "<br><br>\n",
    "![](img/diagrams/56.png)"
   ]
  },
  {
   "cell_type": "markdown",
   "metadata": {
    "slideshow": {
     "slide_type": "subslide"
    }
   },
   "source": [
    "<span class=\"header\"><font color=\"#e66700\">**Under the hood**</font></span>\n",
    "<br><br>\n",
    "![](img/diagrams/64.png)"
   ]
  },
  {
   "cell_type": "markdown",
   "metadata": {
    "slideshow": {
     "slide_type": "subslide"
    }
   },
   "source": [
    "<span class=\"header\">Undoing</span>\n",
    "\n",
    "#### git reset HEAD~2\n",
    "<br>"
   ]
  },
  {
   "cell_type": "markdown",
   "metadata": {
    "slideshow": {
     "slide_type": "subslide"
    }
   },
   "source": [
    "<span class=\"header\"><font color=\"#e66700\">**Under the hood**</font></span>\n",
    "<br><br>\n",
    "![](img/diagrams/65.png)"
   ]
  },
  {
   "cell_type": "markdown",
   "metadata": {
    "slideshow": {
     "slide_type": "subslide"
    }
   },
   "source": [
    "<span class=\"header\">Undoing</span>\n",
    "\n",
    "#### git reset --hard HEAD~2\n",
    "<br>"
   ]
  },
  {
   "cell_type": "markdown",
   "metadata": {
    "slideshow": {
     "slide_type": "subslide"
    }
   },
   "source": [
    "<span class=\"header\"><font color=\"#e66700\">**Under the hood**</font></span>\n",
    "<br><br>\n",
    "![](img/diagrams/60.png)"
   ]
  },
  {
   "cell_type": "markdown",
   "metadata": {
    "slideshow": {
     "slide_type": "subslide"
    }
   },
   "source": [
    "<span class=\"header\"><font color=\"#e66700\">**Under the hood**</font></span>\n",
    "<br><br>\n",
    "![](img/diagrams/63.png)"
   ]
  },
  {
   "cell_type": "markdown",
   "metadata": {
    "slideshow": {
     "slide_type": "subslide"
    }
   },
   "source": [
    "<span class=\"header\">Undoing</span>\n",
    "\n",
    "#### git reset --soft HEAD"
   ]
  },
  {
   "cell_type": "markdown",
   "metadata": {
    "slideshow": {
     "slide_type": "subslide"
    }
   },
   "source": [
    "<span class=\"header\"><font color=\"#e66700\">**Under the hood**</font></span>\n",
    "<br><br>\n",
    "![](img/diagrams/54.png)"
   ]
  },
  {
   "cell_type": "markdown",
   "metadata": {
    "slideshow": {
     "slide_type": "subslide"
    }
   },
   "source": [
    "<span class=\"header\"><font color=\"#e66700\">**Under the hood**</font></span>\n",
    "<br><br>\n",
    "![](img/diagrams/63.png)"
   ]
  },
  {
   "cell_type": "markdown",
   "metadata": {
    "slideshow": {
     "slide_type": "subslide"
    }
   },
   "source": [
    "<span class=\"header\">Undoing</span>\n",
    "\n",
    "#### git reset HEAD"
   ]
  },
  {
   "cell_type": "markdown",
   "metadata": {
    "slideshow": {
     "slide_type": "subslide"
    }
   },
   "source": [
    "<span class=\"header\"><font color=\"#e66700\">**Under the hood**</font></span>\n",
    "<br><br>\n",
    "![](img/diagrams/66.png)"
   ]
  },
  {
   "cell_type": "markdown",
   "metadata": {
    "slideshow": {
     "slide_type": "subslide"
    }
   },
   "source": [
    "<span class=\"header\">Undoing</span>\n",
    "\n",
    "#### git reset --hard HEAD"
   ]
  },
  {
   "cell_type": "markdown",
   "metadata": {
    "slideshow": {
     "slide_type": "subslide"
    }
   },
   "source": [
    "<span class=\"header\"><font color=\"#e66700\">**Under the hood**</font></span>\n",
    "<br><br>\n",
    "![](img/diagrams/55.png)"
   ]
  },
  {
   "cell_type": "markdown",
   "metadata": {
    "slideshow": {
     "slide_type": "subslide"
    }
   },
   "source": [
    "<span class=\"header\">Undoing</span>\n",
    "<br>\n",
    "\n",
    "### Undoing the last commit &emsp; <font color=\"#e67300\">**! Collaboration**</font>\n",
    "<br><br>\n",
    "\n",
    "```sh\n",
    "git reset --soft HEAD~\n",
    "```"
   ]
  },
  {
   "cell_type": "code",
   "execution_count": null,
   "metadata": {},
   "outputs": [],
   "source": []
  },
  {
   "cell_type": "markdown",
   "metadata": {},
   "source": [
    "<br><br><br><br><br><br><br><br>"
   ]
  },
  {
   "cell_type": "markdown",
   "metadata": {
    "slideshow": {
     "slide_type": "subslide"
    }
   },
   "source": [
    "<span class=\"header\">Undoing</span>\n",
    "<br>\n",
    "\n",
    "### Undoing several commits <br>(while keeping the changes staged) <br><font color=\"#e67300\">**! Collaboration**</font>\n",
    "<br>\n",
    "\n",
    "```sh\n",
    "git reset --soft HEAD~x\n",
    "```"
   ]
  },
  {
   "cell_type": "code",
   "execution_count": null,
   "metadata": {},
   "outputs": [],
   "source": []
  },
  {
   "cell_type": "markdown",
   "metadata": {},
   "source": [
    "<br><br><br><br><br><br><br><br>"
   ]
  },
  {
   "cell_type": "markdown",
   "metadata": {
    "slideshow": {
     "slide_type": "subslide"
    }
   },
   "source": [
    "<span class=\"header\">Undoing</span>\n",
    "<br>\n",
    "\n",
    "### Restoring the index (unstaging) &emsp; <font color=\"#5c85d6\">**Safe**</font>\n",
    "<br>\n",
    "\n",
    "Single file:\n",
    "```sh\n",
    "git reset HEAD <file>\n",
    "```\n",
    "All files:\n",
    "```sh\n",
    "git reset HEAD\n",
    "```\n",
    "\n",
    "*Note:* for versions newer than 2.23, Git suggests using a new command: `git restore --staged <file>` <br>\n",
    "See [my answer on Stack Overflow](https://stackoverflow.com/a/62569076/9210961) for more details."
   ]
  },
  {
   "cell_type": "markdown",
   "metadata": {
    "slideshow": {
     "slide_type": "subslide"
    }
   },
   "source": [
    "<span class=\"header\">Undoing</span>\n",
    "<br>\n",
    "\n",
    "### Restoring the index (unstaging) &emsp; <font color=\"#5c85d6\">**Safe**</font>\n",
    "<br>"
   ]
  },
  {
   "cell_type": "code",
   "execution_count": null,
   "metadata": {},
   "outputs": [],
   "source": []
  },
  {
   "cell_type": "markdown",
   "metadata": {},
   "source": [
    "<br><br><br><br><br><br><br><br>"
   ]
  },
  {
   "cell_type": "markdown",
   "metadata": {
    "slideshow": {
     "slide_type": "subslide"
    }
   },
   "source": [
    "<span class=\"header\">Undoing</span>\n",
    "<br>\n",
    "\n",
    "### Undoing the last commit and unstaging <br> <font color=\"#e67300\">**! Collaboration**</font>\n",
    "<br>\n",
    "\n",
    "```sh\n",
    "git reset HEAD~\n",
    "```"
   ]
  },
  {
   "cell_type": "code",
   "execution_count": null,
   "metadata": {},
   "outputs": [],
   "source": []
  },
  {
   "cell_type": "markdown",
   "metadata": {},
   "source": [
    "<br><br><br><br><br><br><br><br>"
   ]
  },
  {
   "cell_type": "markdown",
   "metadata": {
    "slideshow": {
     "slide_type": "subslide"
    }
   },
   "source": [
    "<span class=\"header\">Undoing</span>\n",
    "<br>\n",
    "\n",
    "### Undoing several commits and unstaging <br> <font color=\"#e67300\">**! Collaboration**</font>\n",
    "<br>\n",
    "\n",
    "```sh\n",
    "git reset HEAD~x\n",
    "```"
   ]
  },
  {
   "cell_type": "code",
   "execution_count": null,
   "metadata": {},
   "outputs": [],
   "source": []
  },
  {
   "cell_type": "markdown",
   "metadata": {},
   "source": [
    "<br><br><br><br><br><br><br><br>"
   ]
  },
  {
   "cell_type": "markdown",
   "metadata": {
    "slideshow": {
     "slide_type": "subslide"
    }
   },
   "source": [
    "<span class=\"header\">Undoing</span>\n",
    "<br>\n",
    "\n",
    "### Throwing away changes since last commit <br> <font color=\"#e67300\">**! Data loss**</font>\n",
    "<br>\n",
    "\n",
    "```sh\n",
    "git reset --hard HEAD\n",
    "```"
   ]
  },
  {
   "cell_type": "code",
   "execution_count": null,
   "metadata": {},
   "outputs": [],
   "source": []
  },
  {
   "cell_type": "markdown",
   "metadata": {},
   "source": [
    "<br><br><br><br><br><br><br><br>"
   ]
  },
  {
   "cell_type": "markdown",
   "metadata": {
    "slideshow": {
     "slide_type": "subslide"
    }
   },
   "source": [
    "<span class=\"header\">Undoing</span>\n",
    "<br>\n",
    "\n",
    "### Undoing the last commit <br>& throwing away changes <br><font color=\"#e67300\">**! Collaboration**</font> &emsp; <font color=\"#e67300\">**! Data loss**</font>\n",
    "<br>\n",
    "\n",
    "```sh\n",
    "git reset --hard HEAD~\n",
    "```"
   ]
  },
  {
   "cell_type": "code",
   "execution_count": null,
   "metadata": {},
   "outputs": [],
   "source": []
  },
  {
   "cell_type": "markdown",
   "metadata": {},
   "source": [
    "<br><br><br><br><br><br><br><br>"
   ]
  },
  {
   "cell_type": "markdown",
   "metadata": {
    "slideshow": {
     "slide_type": "subslide"
    }
   },
   "source": [
    "<span class=\"header\">Undoing</span>\n",
    "<br>\n",
    "\n",
    "### Undoing several commits <br>& throwing away changes <br> <font color=\"#e67300\">**! Collaboration**</font> &emsp; <font color=\"#e67300\">**! Data loss**</font>\n",
    "<br>\n",
    "\n",
    "```sh\n",
    "git reset --hard HEAD~x\n",
    "```"
   ]
  },
  {
   "cell_type": "code",
   "execution_count": null,
   "metadata": {},
   "outputs": [],
   "source": []
  },
  {
   "cell_type": "markdown",
   "metadata": {},
   "source": [
    "<br><br><br><br><br><br><br><br>"
   ]
  },
  {
   "cell_type": "markdown",
   "metadata": {
    "slideshow": {
     "slide_type": "subslide"
    }
   },
   "source": [
    "<span class=\"header\">Undoing</span>\n",
    "<br>\n",
    "\n",
    "### Throwing away unstaged changes (unmodifying) &emsp; <font color=\"#e67300\">**! Data loss**</font>\n",
    "<br>\n",
    "\n",
    "Single file:\n",
    "```sh\n",
    "git checkout -- <file>\n",
    "```\n",
    "All files:\n",
    "```sh\n",
    "git checkout -- .\n",
    "```\n",
    "\n",
    "*Note:* for versions newer than 2.23, Git suggests using a new command: `git restore --staged <file>` <br>\n",
    "See [my answer on Stack Overflow](https://stackoverflow.com/a/57880896/9210961) for more details."
   ]
  },
  {
   "cell_type": "markdown",
   "metadata": {
    "slideshow": {
     "slide_type": "subslide"
    }
   },
   "source": [
    "<span class=\"header\">Undoing</span>\n",
    "<br>\n",
    "\n",
    "### Throwing away unstaged changes (unmodifying) &emsp; <font color=\"#e67300\">**! Data loss**</font>"
   ]
  },
  {
   "cell_type": "code",
   "execution_count": null,
   "metadata": {},
   "outputs": [],
   "source": []
  },
  {
   "cell_type": "markdown",
   "metadata": {},
   "source": [
    "<br><br><br><br><br><br><br><br>"
   ]
  },
  {
   "cell_type": "markdown",
   "metadata": {
    "slideshow": {
     "slide_type": "subslide"
    }
   },
   "source": [
    "<span class=\"header\">Undoing</span>\n",
    "<br>\n",
    "\n",
    "### Modifying the last commit message <br><font color=\"#e67300\">**! Collaboration**</font>\n",
    "<br>"
   ]
  },
  {
   "cell_type": "code",
   "execution_count": null,
   "metadata": {},
   "outputs": [],
   "source": []
  },
  {
   "cell_type": "markdown",
   "metadata": {},
   "source": [
    "<br><br><br><br><br><br><br><br>"
   ]
  },
  {
   "cell_type": "markdown",
   "metadata": {
    "slideshow": {
     "slide_type": "subslide"
    }
   },
   "source": [
    "<span class=\"header\">Undoing</span>\n",
    "<br>\n",
    "\n",
    "### Modifying the last commit <br> <font color=\"#e67300\">**! Collaboration**</font>\n",
    "<br>"
   ]
  },
  {
   "cell_type": "code",
   "execution_count": null,
   "metadata": {},
   "outputs": [],
   "source": []
  },
  {
   "cell_type": "markdown",
   "metadata": {},
   "source": [
    "<br><br><br><br><br><br><br><br>"
   ]
  },
  {
   "cell_type": "markdown",
   "metadata": {
    "slideshow": {
     "slide_type": "subslide"
    }
   },
   "source": [
    "<span class=\"header\">Undoing</span>\n",
    "<br>\n",
    "\n",
    "### Modifying older commits <br> <font color=\"#e67300\">**! Collaboration**</font>\n",
    "<br>"
   ]
  },
  {
   "cell_type": "code",
   "execution_count": null,
   "metadata": {},
   "outputs": [],
   "source": []
  },
  {
   "cell_type": "markdown",
   "metadata": {},
   "source": [
    "<br><br><br><br><br><br><br><br>"
   ]
  },
  {
   "cell_type": "markdown",
   "metadata": {
    "cell_style": "center",
    "slideshow": {
     "slide_type": "slide"
    }
   },
   "source": [
    "## Remotes"
   ]
  },
  {
   "cell_type": "markdown",
   "metadata": {
    "slideshow": {
     "slide_type": "subslide"
    }
   },
   "source": [
    "<span class=\"header\">Remotes</span>\n",
    "\n",
    "### What is a remote?\n",
    "<br>\n",
    "\n",
    "Any version of the project that is somewhere else.<br>\n",
    "\"Somewhere else\" can be anywhere, including on the same machine.\n",
    "\n",
    "Usually, remotes are on the internet (on hosting services such as [GitHub](https://github.com/), [GitLab](https://gitlab.com/), or [Bitbucket](https://bitbucket.org/)) or on servers.\n",
    "\n",
    "This allows easy collaboration."
   ]
  },
  {
   "cell_type": "markdown",
   "metadata": {
    "slideshow": {
     "slide_type": "subslide"
    }
   },
   "source": [
    "<span class=\"header\">Remotes</span>\n",
    "\n",
    "### Adding remotes\n",
    "<br>\n",
    "\n",
    "#### <div style=\"text-align: left\">First, create the remote</div>\n"
   ]
  },
  {
   "cell_type": "markdown",
   "metadata": {
    "slideshow": {
     "slide_type": "subslide"
    }
   },
   "source": [
    "<span class=\"header\">Remotes</span>\n",
    "<br>\n",
    "\n",
    "### Adding remotes\n",
    "<br>\n",
    "\n",
    "#### <div style=\"text-align: left\">Then, add it to your project</div>\n",
    "\n",
    "```sh\n",
    "git remote add <remote-name> <remote-address>\n",
    "```\n",
    "\n",
    "The `<remote-address>` can be, amongst others, in the form of:\n",
    "- `<user>@<server>:<project>.git` for a server with SSH protocol\n",
    "- `git@<hosting-site>:<user>/<project>.git` for a web hosting service accessed with SSH address\n",
    "- `https://<hosting-site>/<user>/<project>.git` for a web hosting service accessed with HTTPS address"
   ]
  },
  {
   "cell_type": "code",
   "execution_count": null,
   "metadata": {},
   "outputs": [],
   "source": []
  },
  {
   "cell_type": "markdown",
   "metadata": {},
   "source": [
    "<br><br><br><br><br><br><br><br>"
   ]
  },
  {
   "cell_type": "markdown",
   "metadata": {
    "slideshow": {
     "slide_type": "subslide"
    }
   },
   "source": [
    "<span class=\"header\">Remotes</span>\n",
    "<br>\n",
    "\n",
    "### Listing remotes\n",
    "<br>"
   ]
  },
  {
   "cell_type": "code",
   "execution_count": null,
   "metadata": {},
   "outputs": [],
   "source": []
  },
  {
   "cell_type": "markdown",
   "metadata": {},
   "source": [
    "<br><br><br><br><br><br><br><br>"
   ]
  },
  {
   "cell_type": "markdown",
   "metadata": {
    "slideshow": {
     "slide_type": "subslide"
    }
   },
   "source": [
    "<span class=\"header\">Remotes</span>\n",
    "<br>\n",
    "\n",
    "### Renaming remotes\n",
    "<br>\n",
    "\n",
    "```sh\n",
    "git remote rename <old-name> <new-name>\n",
    "```"
   ]
  },
  {
   "cell_type": "code",
   "execution_count": null,
   "metadata": {},
   "outputs": [],
   "source": []
  },
  {
   "cell_type": "markdown",
   "metadata": {},
   "source": [
    "<br><br><br><br><br><br><br><br>"
   ]
  },
  {
   "cell_type": "markdown",
   "metadata": {
    "slideshow": {
     "slide_type": "subslide"
    }
   },
   "source": [
    "<span class=\"header\">Remotes</span>\n",
    "<br>\n",
    "\n",
    "### Removing remotes\n",
    "<br>\n",
    "\n",
    "```sh\n",
    "git remote remove <remote-name>\n",
    "```"
   ]
  },
  {
   "cell_type": "code",
   "execution_count": null,
   "metadata": {},
   "outputs": [],
   "source": []
  },
  {
   "cell_type": "markdown",
   "metadata": {},
   "source": [
    "<br><br><br><br><br><br><br><br>"
   ]
  },
  {
   "cell_type": "markdown",
   "metadata": {
    "slideshow": {
     "slide_type": "subslide"
    }
   },
   "source": [
    "<span class=\"header\">Remotes</span>\n",
    "<br>\n",
    "\n",
    "### Fetching\n",
    "<br>\n",
    "\n",
    "```sh\n",
    "git fetch <remote-name>\n",
    "```"
   ]
  },
  {
   "cell_type": "code",
   "execution_count": null,
   "metadata": {},
   "outputs": [],
   "source": []
  },
  {
   "cell_type": "markdown",
   "metadata": {},
   "source": [
    "<br><br><br><br><br><br><br><br>"
   ]
  },
  {
   "cell_type": "markdown",
   "metadata": {
    "slideshow": {
     "slide_type": "subslide"
    }
   },
   "source": [
    "<span class=\"header\">Remotes</span>\n",
    "<br>\n",
    "\n",
    "### Pulling (fetching + merging)\n",
    "<br>\n",
    "\n",
    "```sh\n",
    "git pull\n",
    "```"
   ]
  },
  {
   "cell_type": "code",
   "execution_count": null,
   "metadata": {},
   "outputs": [],
   "source": []
  },
  {
   "cell_type": "markdown",
   "metadata": {},
   "source": [
    "<br><br><br><br><br><br><br><br>"
   ]
  },
  {
   "cell_type": "markdown",
   "metadata": {
    "slideshow": {
     "slide_type": "subslide"
    }
   },
   "source": [
    "<span class=\"header\">Remotes</span>\n",
    "<br>\n",
    "\n",
    "### Pushing\n",
    "<br>\n",
    "\n",
    "```sh\n",
    "git push <remote-name> <branch-name>\n",
    "```\n",
    "\n",
    "To associate a branch with a remote, you can run:\n",
    "```sh\n",
    "git push -u <remote-name> <branch-name>\n",
    "```\n",
    "\n",
    "After which, you will only have to run:\n",
    "```sh\n",
    "git push\n",
    "```\n",
    "\n",
    "(Unless you want to push a new branch. Then you have to associate that new branch to the remote with `-u` as well)."
   ]
  },
  {
   "cell_type": "code",
   "execution_count": null,
   "metadata": {},
   "outputs": [],
   "source": []
  },
  {
   "cell_type": "markdown",
   "metadata": {},
   "source": [
    "<br><br><br><br><br><br><br><br>"
   ]
  },
  {
   "cell_type": "markdown",
   "metadata": {
    "slideshow": {
     "slide_type": "subslide"
    }
   },
   "source": [
    "<span class=\"header\">Remotes</span>\n",
    "<br>\n",
    "\n",
    "### Pushing tags\n",
    "<br>\n",
    "\n",
    "Pushing will not push tags to the remote unless you add the `--tags` tag."
   ]
  },
  {
   "cell_type": "code",
   "execution_count": null,
   "metadata": {},
   "outputs": [],
   "source": []
  },
  {
   "cell_type": "markdown",
   "metadata": {},
   "source": [
    "<br><br><br><br><br><br><br><br>"
   ]
  },
  {
   "cell_type": "markdown",
   "metadata": {
    "cell_style": "split",
    "slideshow": {
     "slide_type": "slide"
    }
   },
   "source": [
    "<br><br><br><br><br><br> \n",
    "## Collaborating"
   ]
  },
  {
   "cell_type": "markdown",
   "metadata": {
    "cell_style": "split",
    "slideshow": {
     "slide_type": "-"
    }
   },
   "source": [
    "<br>\n",
    "<figure style=\"display: table; margin: 0 auto\">\n",
    "  <center>\n",
    "    <img src=\"img/gitpush_nw.png\" title=\"\" width=\"700vmin\" style=\"padding: 2vmin 0 0 0\">\n",
    "  </center>\n",
    "  <div align=\"right\" style=\"color: #978282; line-height: 0; font-size: 2vmin\">\n",
    "    <em>\n",
    "      from <a href=\"https://crystallize.com/comics\">crystallize comics</a>\n",
    "    </em>\n",
    "  </div>\n",
    "</figure>"
   ]
  },
  {
   "cell_type": "markdown",
   "metadata": {
    "slideshow": {
     "slide_type": "subslide"
    }
   },
   "source": [
    "<span class=\"header\">Collaborating</span>\n",
    "<br>\n",
    "\n",
    "### Cloning a repo\n",
    "<br>\n",
    "\n",
    "```sh\n",
    "git clone git@<hosting-site>:<user>/<project>.git\n",
    "git clone https://<hosting-site>/<user>/<project>.git\n",
    "```\n",
    "\n",
    "When cloning, the remote is automatically named `origin` and the main branch is automatically associated with the remote.\n",
    "\n",
    "Let's practice with [this project](https://gitlab.com/prosoitos/collab)."
   ]
  },
  {
   "cell_type": "code",
   "execution_count": null,
   "metadata": {},
   "outputs": [],
   "source": []
  },
  {
   "cell_type": "markdown",
   "metadata": {},
   "source": [
    "<br><br><br><br><br><br><br><br>"
   ]
  }
 ],
 "metadata": {
  "celltoolbar": "Slideshow",
  "kernelspec": {
   "display_name": "Bash",
   "language": "bash",
   "name": "bash"
  },
  "language_info": {
   "codemirror_mode": "shell",
   "file_extension": ".sh",
   "mimetype": "text/x-sh",
   "name": "bash"
  },
  "name": "git_without_code.ipynb",
  "rise": {
   "autolaunch": false,
   "controls": false,
   "enable_chalkboard": true,
   "overlay": "<img src='img/wg_white_removed_medium.png' style='position:absolute;top:1%;left:0;width:15%;'>",
   "progress": true,
   "reveal_shortcuts": {
    "chalkboard": {
     "toggleChalkboard": "ctrl-o",
     "toggleNotesCanvas": "shift-o"
    }
   },
   "scroll": true,
   "transition": "none"
  },
  "toc": {
   "base_numbering": 1,
   "nav_menu": {
    "height": "141.987px",
    "width": "251.987px"
   },
   "number_sections": false,
   "sideBar": true,
   "skip_h1_title": true,
   "title_cell": "",
   "title_sidebar": "Contents",
   "toc_cell": false,
   "toc_position": {
    "height": "212.567px",
    "left": "788.846px",
    "top": "157.536px",
    "width": "262px"
   },
   "toc_section_display": false,
   "toc_window_display": false
  }
 },
 "nbformat": 4,
 "nbformat_minor": 4
}
